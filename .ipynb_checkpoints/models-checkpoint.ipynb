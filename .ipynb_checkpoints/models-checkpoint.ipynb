{
 "cells": [
  {
   "cell_type": "code",
   "execution_count": 124,
   "metadata": {},
   "outputs": [],
   "source": [
    "import pandas as pd\n",
    "import numpy as np\n",
    "from sklearn.linear_model import Lasso\n",
    "from sklearn.linear_model import LogisticRegression\n",
    "from sklearn.model_selection import train_test_split\n",
    "import matplotlib.pyplot as plt\n",
    "from sklearn.preprocessing import PolynomialFeatures\n",
    "from sklearn.preprocessing import StandardScaler\n",
    "from statsmodels.stats.outliers_influence import variance_inflation_factor\n",
    "from sklearn.model_selection import train_test_split\n",
    "from sklearn.preprocessing import StandardScaler\n",
    "from sklearn.neighbors import KNeighborsClassifier\n",
    "from sklearn import metrics\n",
    "from sklearn.metrics import confusion_matrix\n",
    "from sklearn.linear_model import LogisticRegression\n",
    "from sklearn.utils import resample\n",
    "from sklearn.tree import DecisionTreeClassifier\n",
    "from sklearn.model_selection import GridSearchCV\n",
    "from sklearn.ensemble import RandomForestClassifier\n",
    "from sklearn.ensemble import BaggingClassifier\n",
    "from sklearn.ensemble import VotingClassifier\n",
    "from sklearn.feature_selection import RFECV\n",
    "from sklearn.preprocessing import OneHotEncoder\n",
    "import xgboost as xgb\n",
    "from matplotlib import pyplot\n",
    "pd.set_option('display.max_columns', None)\n",
    "pd.set_option('display.max_rows', None)"
   ]
  },
  {
   "cell_type": "code",
   "execution_count": 2,
   "metadata": {},
   "outputs": [],
   "source": [
    "df = pd.read_pickle(\"data.pkl\")"
   ]
  },
  {
   "cell_type": "code",
   "execution_count": 3,
   "metadata": {},
   "outputs": [
    {
     "data": {
      "text/plain": [
       "(429200, 85)"
      ]
     },
     "execution_count": 3,
     "metadata": {},
     "output_type": "execute_result"
    }
   ],
   "source": [
    "df.shape"
   ]
  },
  {
   "cell_type": "code",
   "execution_count": 4,
   "metadata": {},
   "outputs": [
    {
     "data": {
      "text/html": [
       "<div>\n",
       "<style scoped>\n",
       "    .dataframe tbody tr th:only-of-type {\n",
       "        vertical-align: middle;\n",
       "    }\n",
       "\n",
       "    .dataframe tbody tr th {\n",
       "        vertical-align: top;\n",
       "    }\n",
       "\n",
       "    .dataframe thead th {\n",
       "        text-align: right;\n",
       "    }\n",
       "</style>\n",
       "<table border=\"1\" class=\"dataframe\">\n",
       "  <thead>\n",
       "    <tr style=\"text-align: right;\">\n",
       "      <th></th>\n",
       "      <th>INJURIES_FATAL</th>\n",
       "      <th>INJURIES_INCAPACITATING</th>\n",
       "      <th>INJURIES_FATAL INJURIES_INCAPACITATING</th>\n",
       "      <th>INJURIES_FATAL INJURIES_NON_INCAPACITATING</th>\n",
       "      <th>INJURIES_FATAL INJURIES_REPORTED_NOT_EVIDENT</th>\n",
       "      <th>INJURIES_FATAL INJURIES_NO_INDICATION</th>\n",
       "      <th>INJURIES_INCAPACITATING INJURIES_NON_INCAPACITATING</th>\n",
       "      <th>INJURIES_INCAPACITATING INJURIES_REPORTED_NOT_EVIDENT</th>\n",
       "      <th>INJURIES_INCAPACITATING INJURIES_NO_INDICATION</th>\n",
       "      <th>INJURIES_NON_INCAPACITATING INJURIES_REPORTED_NOT_EVIDENT</th>\n",
       "      <th>TRAFFIC_CONTROL_DEVICE_DELINEATORS</th>\n",
       "      <th>TRAFFIC_CONTROL_DEVICE_FLASHING CONTROL SIGNAL</th>\n",
       "      <th>TRAFFIC_CONTROL_DEVICE_LANE USE MARKING</th>\n",
       "      <th>TRAFFIC_CONTROL_DEVICE_NO PASSING</th>\n",
       "      <th>TRAFFIC_CONTROL_DEVICE_OTHER RAILROAD CROSSING</th>\n",
       "      <th>TRAFFIC_CONTROL_DEVICE_OTHER REG. SIGN</th>\n",
       "      <th>TRAFFIC_CONTROL_DEVICE_OTHER WARNING SIGN</th>\n",
       "      <th>TRAFFIC_CONTROL_DEVICE_PEDESTRIAN CROSSING SIGN</th>\n",
       "      <th>TRAFFIC_CONTROL_DEVICE_POLICE/FLAGMAN</th>\n",
       "      <th>TRAFFIC_CONTROL_DEVICE_RAILROAD CROSSING GATE</th>\n",
       "      <th>TRAFFIC_CONTROL_DEVICE_RR CROSSING SIGN</th>\n",
       "      <th>TRAFFIC_CONTROL_DEVICE_SCHOOL ZONE</th>\n",
       "      <th>TRAFFIC_CONTROL_DEVICE_YIELD</th>\n",
       "      <th>WEATHER_CONDITION_CLOUDY</th>\n",
       "      <th>WEATHER_CONDITION_FOG</th>\n",
       "      <th>WEATHER_CONDITION_RAIN</th>\n",
       "      <th>WEATHER_CONDITION_SNOW</th>\n",
       "      <th>WEATHER_CONDITION_UNKNOWN/OTHER</th>\n",
       "      <th>LIGHTING_CONDITION_DARKNESS, LIGHTED ROAD</th>\n",
       "      <th>LIGHTING_CONDITION_DUSK/DAWN</th>\n",
       "      <th>LIGHTING_CONDITION_UNKNOWN</th>\n",
       "      <th>FIRST_CRASH_TYPE_ANIMAL</th>\n",
       "      <th>FIRST_CRASH_TYPE_FIXED OBJECT</th>\n",
       "      <th>FIRST_CRASH_TYPE_HEAD ON</th>\n",
       "      <th>FIRST_CRASH_TYPE_OTHER</th>\n",
       "      <th>FIRST_CRASH_TYPE_OVERTURNED</th>\n",
       "      <th>FIRST_CRASH_TYPE_PARKED MOTOR VEHICLE</th>\n",
       "      <th>FIRST_CRASH_TYPE_PEDALCYCLIST</th>\n",
       "      <th>FIRST_CRASH_TYPE_PEDESTRIAN</th>\n",
       "      <th>FIRST_CRASH_TYPE_REAR END</th>\n",
       "      <th>FIRST_CRASH_TYPE_REAR TO FRONT</th>\n",
       "      <th>FIRST_CRASH_TYPE_REAR TO REAR</th>\n",
       "      <th>FIRST_CRASH_TYPE_REAR TO SIDE</th>\n",
       "      <th>FIRST_CRASH_TYPE_SIDESWIPE OPPOSITE DIRECTION</th>\n",
       "      <th>FIRST_CRASH_TYPE_SIDESWIPE SAME DIRECTION</th>\n",
       "      <th>FIRST_CRASH_TYPE_TRAIN</th>\n",
       "      <th>FIRST_CRASH_TYPE_TURNING</th>\n",
       "      <th>TRAFFICWAY_TYPE_CENTER TURN LANE</th>\n",
       "      <th>TRAFFICWAY_TYPE_DIVIDED - W/MEDIAN BARRIER</th>\n",
       "      <th>TRAFFICWAY_TYPE_DRIVEWAY</th>\n",
       "      <th>TRAFFICWAY_TYPE_INTERSECTION</th>\n",
       "      <th>TRAFFICWAY_TYPE_PARKING LOT</th>\n",
       "      <th>TRAFFICWAY_TYPE_RAMP</th>\n",
       "      <th>TRAFFICWAY_TYPE_UNKNOWN/OTHER</th>\n",
       "      <th>ROADWAY_SURFACE_COND_SNOW</th>\n",
       "      <th>ROADWAY_SURFACE_COND_UNKNOWN/OTHER</th>\n",
       "      <th>ROADWAY_SURFACE_COND_WET</th>\n",
       "      <th>ROAD_DEFECT_NO DEFECTS</th>\n",
       "      <th>ROAD_DEFECT_RUT, HOLES</th>\n",
       "      <th>ROAD_DEFECT_SHOULDER DEFECT</th>\n",
       "      <th>ROAD_DEFECT_WORN SURFACE</th>\n",
       "      <th>DAMAGE_$501 - $1,500</th>\n",
       "      <th>DAMAGE_OVER $1,500</th>\n",
       "      <th>PRIM_CONTRIBUTORY_CAUSE_BICYCLE ADVANCING LEGALLY ON RED LIGHT</th>\n",
       "      <th>PRIM_CONTRIBUTORY_CAUSE_CELL PHONE USE OTHER THAN TEXTING</th>\n",
       "      <th>PRIM_CONTRIBUTORY_CAUSE_DISREGARDING OTHER TRAFFIC SIGNS</th>\n",
       "      <th>PRIM_CONTRIBUTORY_CAUSE_DISREGARDING ROAD MARKINGS</th>\n",
       "      <th>PRIM_CONTRIBUTORY_CAUSE_DISREGARDING YIELD SIGN</th>\n",
       "      <th>PRIM_CONTRIBUTORY_CAUSE_DISTRACTION - FROM OUTSIDE VEHICLE</th>\n",
       "      <th>PRIM_CONTRIBUTORY_CAUSE_DISTRACTION - OTHER ELECTRONIC DEVICE (NAVIGATION DEVICE, DVD PLAYER, ETC.)</th>\n",
       "      <th>PRIM_CONTRIBUTORY_CAUSE_DRIVING ON WRONG SIDE/WRONG WAY</th>\n",
       "      <th>PRIM_CONTRIBUTORY_CAUSE_EVASIVE ACTION DUE TO ANIMAL, OBJECT, NONMOTORIST</th>\n",
       "      <th>PRIM_CONTRIBUTORY_CAUSE_EXCEEDING AUTHORIZED SPEED LIMIT</th>\n",
       "      <th>PRIM_CONTRIBUTORY_CAUSE_EXCEEDING SAFE SPEED FOR CONDITIONS</th>\n",
       "      <th>PRIM_CONTRIBUTORY_CAUSE_HAD BEEN DRINKING (USE WHEN ARREST IS NOT MADE)</th>\n",
       "      <th>PRIM_CONTRIBUTORY_CAUSE_MOTORCYCLE ADVANCING LEGALLY ON RED LIGHT</th>\n",
       "      <th>PRIM_CONTRIBUTORY_CAUSE_OBSTRUCTED CROSSWALKS</th>\n",
       "      <th>PRIM_CONTRIBUTORY_CAUSE_PASSING STOPPED SCHOOL BUS</th>\n",
       "      <th>PRIM_CONTRIBUTORY_CAUSE_RELATED TO BUS STOP</th>\n",
       "      <th>PRIM_CONTRIBUTORY_CAUSE_ROAD CONSTRUCTION/MAINTENANCE</th>\n",
       "      <th>PRIM_CONTRIBUTORY_CAUSE_ROAD ENGINEERING/SURFACE/MARKING DEFECTS</th>\n",
       "      <th>PRIM_CONTRIBUTORY_CAUSE_TEXTING</th>\n",
       "      <th>PRIM_CONTRIBUTORY_CAUSE_TURNING RIGHT ON RED</th>\n",
       "      <th>season_Summer</th>\n",
       "      <th>target</th>\n",
       "    </tr>\n",
       "  </thead>\n",
       "  <tbody>\n",
       "    <tr>\n",
       "      <th>0</th>\n",
       "      <td>0.0</td>\n",
       "      <td>0.0</td>\n",
       "      <td>0.0</td>\n",
       "      <td>0.0</td>\n",
       "      <td>0.0</td>\n",
       "      <td>0.0</td>\n",
       "      <td>0.0</td>\n",
       "      <td>0.0</td>\n",
       "      <td>0.0</td>\n",
       "      <td>0.0</td>\n",
       "      <td>0</td>\n",
       "      <td>0</td>\n",
       "      <td>0</td>\n",
       "      <td>0</td>\n",
       "      <td>0</td>\n",
       "      <td>0</td>\n",
       "      <td>0</td>\n",
       "      <td>0</td>\n",
       "      <td>0</td>\n",
       "      <td>0</td>\n",
       "      <td>0</td>\n",
       "      <td>0</td>\n",
       "      <td>0</td>\n",
       "      <td>0</td>\n",
       "      <td>0</td>\n",
       "      <td>0</td>\n",
       "      <td>0</td>\n",
       "      <td>0</td>\n",
       "      <td>0</td>\n",
       "      <td>0</td>\n",
       "      <td>0</td>\n",
       "      <td>0</td>\n",
       "      <td>0</td>\n",
       "      <td>0</td>\n",
       "      <td>0</td>\n",
       "      <td>0</td>\n",
       "      <td>1</td>\n",
       "      <td>0</td>\n",
       "      <td>0</td>\n",
       "      <td>0</td>\n",
       "      <td>0</td>\n",
       "      <td>0</td>\n",
       "      <td>0</td>\n",
       "      <td>0</td>\n",
       "      <td>0</td>\n",
       "      <td>0</td>\n",
       "      <td>0</td>\n",
       "      <td>0</td>\n",
       "      <td>0</td>\n",
       "      <td>0</td>\n",
       "      <td>0</td>\n",
       "      <td>0</td>\n",
       "      <td>0</td>\n",
       "      <td>1</td>\n",
       "      <td>0</td>\n",
       "      <td>0</td>\n",
       "      <td>0</td>\n",
       "      <td>1</td>\n",
       "      <td>0</td>\n",
       "      <td>0</td>\n",
       "      <td>0</td>\n",
       "      <td>0</td>\n",
       "      <td>1</td>\n",
       "      <td>0</td>\n",
       "      <td>0</td>\n",
       "      <td>0</td>\n",
       "      <td>0</td>\n",
       "      <td>0</td>\n",
       "      <td>0</td>\n",
       "      <td>0</td>\n",
       "      <td>0</td>\n",
       "      <td>0</td>\n",
       "      <td>0</td>\n",
       "      <td>0</td>\n",
       "      <td>0</td>\n",
       "      <td>0</td>\n",
       "      <td>0</td>\n",
       "      <td>0</td>\n",
       "      <td>0</td>\n",
       "      <td>0</td>\n",
       "      <td>0</td>\n",
       "      <td>0</td>\n",
       "      <td>0</td>\n",
       "      <td>0</td>\n",
       "      <td>0</td>\n",
       "    </tr>\n",
       "    <tr>\n",
       "      <th>1</th>\n",
       "      <td>0.0</td>\n",
       "      <td>0.0</td>\n",
       "      <td>0.0</td>\n",
       "      <td>0.0</td>\n",
       "      <td>0.0</td>\n",
       "      <td>0.0</td>\n",
       "      <td>0.0</td>\n",
       "      <td>0.0</td>\n",
       "      <td>0.0</td>\n",
       "      <td>0.0</td>\n",
       "      <td>0</td>\n",
       "      <td>0</td>\n",
       "      <td>0</td>\n",
       "      <td>0</td>\n",
       "      <td>0</td>\n",
       "      <td>0</td>\n",
       "      <td>0</td>\n",
       "      <td>0</td>\n",
       "      <td>0</td>\n",
       "      <td>0</td>\n",
       "      <td>0</td>\n",
       "      <td>0</td>\n",
       "      <td>0</td>\n",
       "      <td>0</td>\n",
       "      <td>0</td>\n",
       "      <td>0</td>\n",
       "      <td>0</td>\n",
       "      <td>0</td>\n",
       "      <td>0</td>\n",
       "      <td>0</td>\n",
       "      <td>0</td>\n",
       "      <td>0</td>\n",
       "      <td>0</td>\n",
       "      <td>0</td>\n",
       "      <td>0</td>\n",
       "      <td>0</td>\n",
       "      <td>0</td>\n",
       "      <td>0</td>\n",
       "      <td>0</td>\n",
       "      <td>0</td>\n",
       "      <td>0</td>\n",
       "      <td>0</td>\n",
       "      <td>0</td>\n",
       "      <td>0</td>\n",
       "      <td>1</td>\n",
       "      <td>0</td>\n",
       "      <td>0</td>\n",
       "      <td>0</td>\n",
       "      <td>0</td>\n",
       "      <td>0</td>\n",
       "      <td>0</td>\n",
       "      <td>0</td>\n",
       "      <td>0</td>\n",
       "      <td>0</td>\n",
       "      <td>0</td>\n",
       "      <td>0</td>\n",
       "      <td>0</td>\n",
       "      <td>1</td>\n",
       "      <td>0</td>\n",
       "      <td>0</td>\n",
       "      <td>0</td>\n",
       "      <td>0</td>\n",
       "      <td>1</td>\n",
       "      <td>0</td>\n",
       "      <td>0</td>\n",
       "      <td>0</td>\n",
       "      <td>0</td>\n",
       "      <td>0</td>\n",
       "      <td>0</td>\n",
       "      <td>0</td>\n",
       "      <td>0</td>\n",
       "      <td>0</td>\n",
       "      <td>0</td>\n",
       "      <td>0</td>\n",
       "      <td>0</td>\n",
       "      <td>0</td>\n",
       "      <td>0</td>\n",
       "      <td>0</td>\n",
       "      <td>0</td>\n",
       "      <td>0</td>\n",
       "      <td>0</td>\n",
       "      <td>0</td>\n",
       "      <td>0</td>\n",
       "      <td>0</td>\n",
       "      <td>0</td>\n",
       "    </tr>\n",
       "    <tr>\n",
       "      <th>2</th>\n",
       "      <td>0.0</td>\n",
       "      <td>0.0</td>\n",
       "      <td>0.0</td>\n",
       "      <td>0.0</td>\n",
       "      <td>0.0</td>\n",
       "      <td>0.0</td>\n",
       "      <td>0.0</td>\n",
       "      <td>0.0</td>\n",
       "      <td>0.0</td>\n",
       "      <td>0.0</td>\n",
       "      <td>0</td>\n",
       "      <td>0</td>\n",
       "      <td>0</td>\n",
       "      <td>0</td>\n",
       "      <td>0</td>\n",
       "      <td>0</td>\n",
       "      <td>0</td>\n",
       "      <td>0</td>\n",
       "      <td>0</td>\n",
       "      <td>0</td>\n",
       "      <td>0</td>\n",
       "      <td>0</td>\n",
       "      <td>0</td>\n",
       "      <td>0</td>\n",
       "      <td>0</td>\n",
       "      <td>0</td>\n",
       "      <td>0</td>\n",
       "      <td>0</td>\n",
       "      <td>0</td>\n",
       "      <td>0</td>\n",
       "      <td>0</td>\n",
       "      <td>0</td>\n",
       "      <td>0</td>\n",
       "      <td>0</td>\n",
       "      <td>0</td>\n",
       "      <td>0</td>\n",
       "      <td>0</td>\n",
       "      <td>0</td>\n",
       "      <td>0</td>\n",
       "      <td>0</td>\n",
       "      <td>0</td>\n",
       "      <td>0</td>\n",
       "      <td>0</td>\n",
       "      <td>0</td>\n",
       "      <td>1</td>\n",
       "      <td>0</td>\n",
       "      <td>0</td>\n",
       "      <td>0</td>\n",
       "      <td>0</td>\n",
       "      <td>0</td>\n",
       "      <td>0</td>\n",
       "      <td>0</td>\n",
       "      <td>0</td>\n",
       "      <td>0</td>\n",
       "      <td>0</td>\n",
       "      <td>0</td>\n",
       "      <td>1</td>\n",
       "      <td>1</td>\n",
       "      <td>0</td>\n",
       "      <td>0</td>\n",
       "      <td>0</td>\n",
       "      <td>0</td>\n",
       "      <td>1</td>\n",
       "      <td>0</td>\n",
       "      <td>0</td>\n",
       "      <td>0</td>\n",
       "      <td>0</td>\n",
       "      <td>0</td>\n",
       "      <td>0</td>\n",
       "      <td>0</td>\n",
       "      <td>0</td>\n",
       "      <td>0</td>\n",
       "      <td>0</td>\n",
       "      <td>0</td>\n",
       "      <td>0</td>\n",
       "      <td>0</td>\n",
       "      <td>0</td>\n",
       "      <td>0</td>\n",
       "      <td>0</td>\n",
       "      <td>0</td>\n",
       "      <td>0</td>\n",
       "      <td>0</td>\n",
       "      <td>0</td>\n",
       "      <td>0</td>\n",
       "      <td>1</td>\n",
       "    </tr>\n",
       "    <tr>\n",
       "      <th>3</th>\n",
       "      <td>0.0</td>\n",
       "      <td>0.0</td>\n",
       "      <td>0.0</td>\n",
       "      <td>0.0</td>\n",
       "      <td>0.0</td>\n",
       "      <td>0.0</td>\n",
       "      <td>0.0</td>\n",
       "      <td>0.0</td>\n",
       "      <td>0.0</td>\n",
       "      <td>0.0</td>\n",
       "      <td>0</td>\n",
       "      <td>0</td>\n",
       "      <td>0</td>\n",
       "      <td>0</td>\n",
       "      <td>0</td>\n",
       "      <td>0</td>\n",
       "      <td>0</td>\n",
       "      <td>0</td>\n",
       "      <td>0</td>\n",
       "      <td>0</td>\n",
       "      <td>0</td>\n",
       "      <td>0</td>\n",
       "      <td>0</td>\n",
       "      <td>0</td>\n",
       "      <td>0</td>\n",
       "      <td>0</td>\n",
       "      <td>0</td>\n",
       "      <td>0</td>\n",
       "      <td>0</td>\n",
       "      <td>0</td>\n",
       "      <td>0</td>\n",
       "      <td>0</td>\n",
       "      <td>0</td>\n",
       "      <td>0</td>\n",
       "      <td>0</td>\n",
       "      <td>0</td>\n",
       "      <td>0</td>\n",
       "      <td>0</td>\n",
       "      <td>0</td>\n",
       "      <td>0</td>\n",
       "      <td>0</td>\n",
       "      <td>0</td>\n",
       "      <td>0</td>\n",
       "      <td>0</td>\n",
       "      <td>0</td>\n",
       "      <td>0</td>\n",
       "      <td>1</td>\n",
       "      <td>0</td>\n",
       "      <td>0</td>\n",
       "      <td>0</td>\n",
       "      <td>0</td>\n",
       "      <td>0</td>\n",
       "      <td>0</td>\n",
       "      <td>0</td>\n",
       "      <td>0</td>\n",
       "      <td>0</td>\n",
       "      <td>0</td>\n",
       "      <td>1</td>\n",
       "      <td>0</td>\n",
       "      <td>0</td>\n",
       "      <td>0</td>\n",
       "      <td>0</td>\n",
       "      <td>1</td>\n",
       "      <td>0</td>\n",
       "      <td>0</td>\n",
       "      <td>0</td>\n",
       "      <td>0</td>\n",
       "      <td>0</td>\n",
       "      <td>0</td>\n",
       "      <td>0</td>\n",
       "      <td>0</td>\n",
       "      <td>0</td>\n",
       "      <td>0</td>\n",
       "      <td>0</td>\n",
       "      <td>0</td>\n",
       "      <td>0</td>\n",
       "      <td>0</td>\n",
       "      <td>0</td>\n",
       "      <td>0</td>\n",
       "      <td>0</td>\n",
       "      <td>0</td>\n",
       "      <td>0</td>\n",
       "      <td>0</td>\n",
       "      <td>0</td>\n",
       "      <td>1</td>\n",
       "    </tr>\n",
       "    <tr>\n",
       "      <th>4</th>\n",
       "      <td>0.0</td>\n",
       "      <td>0.0</td>\n",
       "      <td>0.0</td>\n",
       "      <td>0.0</td>\n",
       "      <td>0.0</td>\n",
       "      <td>0.0</td>\n",
       "      <td>0.0</td>\n",
       "      <td>0.0</td>\n",
       "      <td>0.0</td>\n",
       "      <td>0.0</td>\n",
       "      <td>0</td>\n",
       "      <td>0</td>\n",
       "      <td>0</td>\n",
       "      <td>0</td>\n",
       "      <td>0</td>\n",
       "      <td>0</td>\n",
       "      <td>0</td>\n",
       "      <td>0</td>\n",
       "      <td>0</td>\n",
       "      <td>0</td>\n",
       "      <td>0</td>\n",
       "      <td>0</td>\n",
       "      <td>0</td>\n",
       "      <td>0</td>\n",
       "      <td>0</td>\n",
       "      <td>0</td>\n",
       "      <td>0</td>\n",
       "      <td>0</td>\n",
       "      <td>1</td>\n",
       "      <td>0</td>\n",
       "      <td>0</td>\n",
       "      <td>0</td>\n",
       "      <td>0</td>\n",
       "      <td>0</td>\n",
       "      <td>0</td>\n",
       "      <td>0</td>\n",
       "      <td>0</td>\n",
       "      <td>0</td>\n",
       "      <td>0</td>\n",
       "      <td>0</td>\n",
       "      <td>0</td>\n",
       "      <td>0</td>\n",
       "      <td>0</td>\n",
       "      <td>0</td>\n",
       "      <td>0</td>\n",
       "      <td>0</td>\n",
       "      <td>1</td>\n",
       "      <td>0</td>\n",
       "      <td>0</td>\n",
       "      <td>0</td>\n",
       "      <td>0</td>\n",
       "      <td>0</td>\n",
       "      <td>0</td>\n",
       "      <td>0</td>\n",
       "      <td>0</td>\n",
       "      <td>0</td>\n",
       "      <td>0</td>\n",
       "      <td>1</td>\n",
       "      <td>0</td>\n",
       "      <td>0</td>\n",
       "      <td>0</td>\n",
       "      <td>0</td>\n",
       "      <td>1</td>\n",
       "      <td>0</td>\n",
       "      <td>0</td>\n",
       "      <td>0</td>\n",
       "      <td>0</td>\n",
       "      <td>0</td>\n",
       "      <td>0</td>\n",
       "      <td>0</td>\n",
       "      <td>0</td>\n",
       "      <td>0</td>\n",
       "      <td>0</td>\n",
       "      <td>0</td>\n",
       "      <td>0</td>\n",
       "      <td>0</td>\n",
       "      <td>0</td>\n",
       "      <td>0</td>\n",
       "      <td>0</td>\n",
       "      <td>0</td>\n",
       "      <td>0</td>\n",
       "      <td>0</td>\n",
       "      <td>0</td>\n",
       "      <td>0</td>\n",
       "      <td>0</td>\n",
       "    </tr>\n",
       "  </tbody>\n",
       "</table>\n",
       "</div>"
      ],
      "text/plain": [
       "   INJURIES_FATAL  INJURIES_INCAPACITATING  \\\n",
       "0             0.0                      0.0   \n",
       "1             0.0                      0.0   \n",
       "2             0.0                      0.0   \n",
       "3             0.0                      0.0   \n",
       "4             0.0                      0.0   \n",
       "\n",
       "   INJURIES_FATAL INJURIES_INCAPACITATING  \\\n",
       "0                                     0.0   \n",
       "1                                     0.0   \n",
       "2                                     0.0   \n",
       "3                                     0.0   \n",
       "4                                     0.0   \n",
       "\n",
       "   INJURIES_FATAL INJURIES_NON_INCAPACITATING  \\\n",
       "0                                         0.0   \n",
       "1                                         0.0   \n",
       "2                                         0.0   \n",
       "3                                         0.0   \n",
       "4                                         0.0   \n",
       "\n",
       "   INJURIES_FATAL INJURIES_REPORTED_NOT_EVIDENT  \\\n",
       "0                                           0.0   \n",
       "1                                           0.0   \n",
       "2                                           0.0   \n",
       "3                                           0.0   \n",
       "4                                           0.0   \n",
       "\n",
       "   INJURIES_FATAL INJURIES_NO_INDICATION  \\\n",
       "0                                    0.0   \n",
       "1                                    0.0   \n",
       "2                                    0.0   \n",
       "3                                    0.0   \n",
       "4                                    0.0   \n",
       "\n",
       "   INJURIES_INCAPACITATING INJURIES_NON_INCAPACITATING  \\\n",
       "0                                                0.0     \n",
       "1                                                0.0     \n",
       "2                                                0.0     \n",
       "3                                                0.0     \n",
       "4                                                0.0     \n",
       "\n",
       "   INJURIES_INCAPACITATING INJURIES_REPORTED_NOT_EVIDENT  \\\n",
       "0                                                0.0       \n",
       "1                                                0.0       \n",
       "2                                                0.0       \n",
       "3                                                0.0       \n",
       "4                                                0.0       \n",
       "\n",
       "   INJURIES_INCAPACITATING INJURIES_NO_INDICATION  \\\n",
       "0                                             0.0   \n",
       "1                                             0.0   \n",
       "2                                             0.0   \n",
       "3                                             0.0   \n",
       "4                                             0.0   \n",
       "\n",
       "   INJURIES_NON_INCAPACITATING INJURIES_REPORTED_NOT_EVIDENT  \\\n",
       "0                                                0.0           \n",
       "1                                                0.0           \n",
       "2                                                0.0           \n",
       "3                                                0.0           \n",
       "4                                                0.0           \n",
       "\n",
       "   TRAFFIC_CONTROL_DEVICE_DELINEATORS  \\\n",
       "0                                   0   \n",
       "1                                   0   \n",
       "2                                   0   \n",
       "3                                   0   \n",
       "4                                   0   \n",
       "\n",
       "   TRAFFIC_CONTROL_DEVICE_FLASHING CONTROL SIGNAL  \\\n",
       "0                                               0   \n",
       "1                                               0   \n",
       "2                                               0   \n",
       "3                                               0   \n",
       "4                                               0   \n",
       "\n",
       "   TRAFFIC_CONTROL_DEVICE_LANE USE MARKING  TRAFFIC_CONTROL_DEVICE_NO PASSING  \\\n",
       "0                                        0                                  0   \n",
       "1                                        0                                  0   \n",
       "2                                        0                                  0   \n",
       "3                                        0                                  0   \n",
       "4                                        0                                  0   \n",
       "\n",
       "   TRAFFIC_CONTROL_DEVICE_OTHER RAILROAD CROSSING  \\\n",
       "0                                               0   \n",
       "1                                               0   \n",
       "2                                               0   \n",
       "3                                               0   \n",
       "4                                               0   \n",
       "\n",
       "   TRAFFIC_CONTROL_DEVICE_OTHER REG. SIGN  \\\n",
       "0                                       0   \n",
       "1                                       0   \n",
       "2                                       0   \n",
       "3                                       0   \n",
       "4                                       0   \n",
       "\n",
       "   TRAFFIC_CONTROL_DEVICE_OTHER WARNING SIGN  \\\n",
       "0                                          0   \n",
       "1                                          0   \n",
       "2                                          0   \n",
       "3                                          0   \n",
       "4                                          0   \n",
       "\n",
       "   TRAFFIC_CONTROL_DEVICE_PEDESTRIAN CROSSING SIGN  \\\n",
       "0                                                0   \n",
       "1                                                0   \n",
       "2                                                0   \n",
       "3                                                0   \n",
       "4                                                0   \n",
       "\n",
       "   TRAFFIC_CONTROL_DEVICE_POLICE/FLAGMAN  \\\n",
       "0                                      0   \n",
       "1                                      0   \n",
       "2                                      0   \n",
       "3                                      0   \n",
       "4                                      0   \n",
       "\n",
       "   TRAFFIC_CONTROL_DEVICE_RAILROAD CROSSING GATE  \\\n",
       "0                                              0   \n",
       "1                                              0   \n",
       "2                                              0   \n",
       "3                                              0   \n",
       "4                                              0   \n",
       "\n",
       "   TRAFFIC_CONTROL_DEVICE_RR CROSSING SIGN  \\\n",
       "0                                        0   \n",
       "1                                        0   \n",
       "2                                        0   \n",
       "3                                        0   \n",
       "4                                        0   \n",
       "\n",
       "   TRAFFIC_CONTROL_DEVICE_SCHOOL ZONE  TRAFFIC_CONTROL_DEVICE_YIELD  \\\n",
       "0                                   0                             0   \n",
       "1                                   0                             0   \n",
       "2                                   0                             0   \n",
       "3                                   0                             0   \n",
       "4                                   0                             0   \n",
       "\n",
       "   WEATHER_CONDITION_CLOUDY  WEATHER_CONDITION_FOG  WEATHER_CONDITION_RAIN  \\\n",
       "0                         0                      0                       0   \n",
       "1                         0                      0                       0   \n",
       "2                         0                      0                       0   \n",
       "3                         0                      0                       0   \n",
       "4                         0                      0                       0   \n",
       "\n",
       "   WEATHER_CONDITION_SNOW  WEATHER_CONDITION_UNKNOWN/OTHER  \\\n",
       "0                       0                                0   \n",
       "1                       0                                0   \n",
       "2                       0                                0   \n",
       "3                       0                                0   \n",
       "4                       0                                0   \n",
       "\n",
       "   LIGHTING_CONDITION_DARKNESS, LIGHTED ROAD  LIGHTING_CONDITION_DUSK/DAWN  \\\n",
       "0                                          0                             0   \n",
       "1                                          0                             0   \n",
       "2                                          0                             0   \n",
       "3                                          0                             0   \n",
       "4                                          1                             0   \n",
       "\n",
       "   LIGHTING_CONDITION_UNKNOWN  FIRST_CRASH_TYPE_ANIMAL  \\\n",
       "0                           0                        0   \n",
       "1                           0                        0   \n",
       "2                           0                        0   \n",
       "3                           0                        0   \n",
       "4                           0                        0   \n",
       "\n",
       "   FIRST_CRASH_TYPE_FIXED OBJECT  FIRST_CRASH_TYPE_HEAD ON  \\\n",
       "0                              0                         0   \n",
       "1                              0                         0   \n",
       "2                              0                         0   \n",
       "3                              0                         0   \n",
       "4                              0                         0   \n",
       "\n",
       "   FIRST_CRASH_TYPE_OTHER  FIRST_CRASH_TYPE_OVERTURNED  \\\n",
       "0                       0                            0   \n",
       "1                       0                            0   \n",
       "2                       0                            0   \n",
       "3                       0                            0   \n",
       "4                       0                            0   \n",
       "\n",
       "   FIRST_CRASH_TYPE_PARKED MOTOR VEHICLE  FIRST_CRASH_TYPE_PEDALCYCLIST  \\\n",
       "0                                      1                              0   \n",
       "1                                      0                              0   \n",
       "2                                      0                              0   \n",
       "3                                      0                              0   \n",
       "4                                      0                              0   \n",
       "\n",
       "   FIRST_CRASH_TYPE_PEDESTRIAN  FIRST_CRASH_TYPE_REAR END  \\\n",
       "0                            0                          0   \n",
       "1                            0                          0   \n",
       "2                            0                          0   \n",
       "3                            0                          0   \n",
       "4                            0                          0   \n",
       "\n",
       "   FIRST_CRASH_TYPE_REAR TO FRONT  FIRST_CRASH_TYPE_REAR TO REAR  \\\n",
       "0                               0                              0   \n",
       "1                               0                              0   \n",
       "2                               0                              0   \n",
       "3                               0                              0   \n",
       "4                               0                              0   \n",
       "\n",
       "   FIRST_CRASH_TYPE_REAR TO SIDE  \\\n",
       "0                              0   \n",
       "1                              0   \n",
       "2                              0   \n",
       "3                              0   \n",
       "4                              0   \n",
       "\n",
       "   FIRST_CRASH_TYPE_SIDESWIPE OPPOSITE DIRECTION  \\\n",
       "0                                              0   \n",
       "1                                              0   \n",
       "2                                              0   \n",
       "3                                              0   \n",
       "4                                              0   \n",
       "\n",
       "   FIRST_CRASH_TYPE_SIDESWIPE SAME DIRECTION  FIRST_CRASH_TYPE_TRAIN  \\\n",
       "0                                          0                       0   \n",
       "1                                          1                       0   \n",
       "2                                          1                       0   \n",
       "3                                          0                       0   \n",
       "4                                          0                       0   \n",
       "\n",
       "   FIRST_CRASH_TYPE_TURNING  TRAFFICWAY_TYPE_CENTER TURN LANE  \\\n",
       "0                         0                                 0   \n",
       "1                         0                                 0   \n",
       "2                         0                                 0   \n",
       "3                         1                                 0   \n",
       "4                         1                                 0   \n",
       "\n",
       "   TRAFFICWAY_TYPE_DIVIDED - W/MEDIAN BARRIER  TRAFFICWAY_TYPE_DRIVEWAY  \\\n",
       "0                                           0                         0   \n",
       "1                                           0                         0   \n",
       "2                                           0                         0   \n",
       "3                                           0                         0   \n",
       "4                                           0                         0   \n",
       "\n",
       "   TRAFFICWAY_TYPE_INTERSECTION  TRAFFICWAY_TYPE_PARKING LOT  \\\n",
       "0                             0                            0   \n",
       "1                             0                            0   \n",
       "2                             0                            0   \n",
       "3                             0                            0   \n",
       "4                             0                            0   \n",
       "\n",
       "   TRAFFICWAY_TYPE_RAMP  TRAFFICWAY_TYPE_UNKNOWN/OTHER  \\\n",
       "0                     0                              1   \n",
       "1                     0                              0   \n",
       "2                     0                              0   \n",
       "3                     0                              0   \n",
       "4                     0                              0   \n",
       "\n",
       "   ROADWAY_SURFACE_COND_SNOW  ROADWAY_SURFACE_COND_UNKNOWN/OTHER  \\\n",
       "0                          0                                   0   \n",
       "1                          0                                   0   \n",
       "2                          0                                   0   \n",
       "3                          0                                   0   \n",
       "4                          0                                   0   \n",
       "\n",
       "   ROADWAY_SURFACE_COND_WET  ROAD_DEFECT_NO DEFECTS  ROAD_DEFECT_RUT, HOLES  \\\n",
       "0                         0                       1                       0   \n",
       "1                         0                       1                       0   \n",
       "2                         1                       1                       0   \n",
       "3                         0                       1                       0   \n",
       "4                         0                       1                       0   \n",
       "\n",
       "   ROAD_DEFECT_SHOULDER DEFECT  ROAD_DEFECT_WORN SURFACE  \\\n",
       "0                            0                         0   \n",
       "1                            0                         0   \n",
       "2                            0                         0   \n",
       "3                            0                         0   \n",
       "4                            0                         0   \n",
       "\n",
       "   DAMAGE_$501 - $1,500  DAMAGE_OVER $1,500  \\\n",
       "0                     0                   1   \n",
       "1                     0                   1   \n",
       "2                     0                   1   \n",
       "3                     0                   1   \n",
       "4                     0                   1   \n",
       "\n",
       "   PRIM_CONTRIBUTORY_CAUSE_BICYCLE ADVANCING LEGALLY ON RED LIGHT  \\\n",
       "0                                                  0                \n",
       "1                                                  0                \n",
       "2                                                  0                \n",
       "3                                                  0                \n",
       "4                                                  0                \n",
       "\n",
       "   PRIM_CONTRIBUTORY_CAUSE_CELL PHONE USE OTHER THAN TEXTING  \\\n",
       "0                                                  0           \n",
       "1                                                  0           \n",
       "2                                                  0           \n",
       "3                                                  0           \n",
       "4                                                  0           \n",
       "\n",
       "   PRIM_CONTRIBUTORY_CAUSE_DISREGARDING OTHER TRAFFIC SIGNS  \\\n",
       "0                                                  0          \n",
       "1                                                  0          \n",
       "2                                                  0          \n",
       "3                                                  0          \n",
       "4                                                  0          \n",
       "\n",
       "   PRIM_CONTRIBUTORY_CAUSE_DISREGARDING ROAD MARKINGS  \\\n",
       "0                                                  0    \n",
       "1                                                  0    \n",
       "2                                                  0    \n",
       "3                                                  0    \n",
       "4                                                  0    \n",
       "\n",
       "   PRIM_CONTRIBUTORY_CAUSE_DISREGARDING YIELD SIGN  \\\n",
       "0                                                0   \n",
       "1                                                0   \n",
       "2                                                0   \n",
       "3                                                0   \n",
       "4                                                0   \n",
       "\n",
       "   PRIM_CONTRIBUTORY_CAUSE_DISTRACTION - FROM OUTSIDE VEHICLE  \\\n",
       "0                                                  0            \n",
       "1                                                  0            \n",
       "2                                                  0            \n",
       "3                                                  0            \n",
       "4                                                  0            \n",
       "\n",
       "   PRIM_CONTRIBUTORY_CAUSE_DISTRACTION - OTHER ELECTRONIC DEVICE (NAVIGATION DEVICE, DVD PLAYER, ETC.)  \\\n",
       "0                                                  0                                                     \n",
       "1                                                  0                                                     \n",
       "2                                                  0                                                     \n",
       "3                                                  0                                                     \n",
       "4                                                  0                                                     \n",
       "\n",
       "   PRIM_CONTRIBUTORY_CAUSE_DRIVING ON WRONG SIDE/WRONG WAY  \\\n",
       "0                                                  0         \n",
       "1                                                  0         \n",
       "2                                                  0         \n",
       "3                                                  0         \n",
       "4                                                  0         \n",
       "\n",
       "   PRIM_CONTRIBUTORY_CAUSE_EVASIVE ACTION DUE TO ANIMAL, OBJECT, NONMOTORIST  \\\n",
       "0                                                  0                           \n",
       "1                                                  0                           \n",
       "2                                                  0                           \n",
       "3                                                  0                           \n",
       "4                                                  0                           \n",
       "\n",
       "   PRIM_CONTRIBUTORY_CAUSE_EXCEEDING AUTHORIZED SPEED LIMIT  \\\n",
       "0                                                  0          \n",
       "1                                                  0          \n",
       "2                                                  0          \n",
       "3                                                  0          \n",
       "4                                                  0          \n",
       "\n",
       "   PRIM_CONTRIBUTORY_CAUSE_EXCEEDING SAFE SPEED FOR CONDITIONS  \\\n",
       "0                                                  0             \n",
       "1                                                  0             \n",
       "2                                                  0             \n",
       "3                                                  0             \n",
       "4                                                  0             \n",
       "\n",
       "   PRIM_CONTRIBUTORY_CAUSE_HAD BEEN DRINKING (USE WHEN ARREST IS NOT MADE)  \\\n",
       "0                                                  0                         \n",
       "1                                                  0                         \n",
       "2                                                  0                         \n",
       "3                                                  0                         \n",
       "4                                                  0                         \n",
       "\n",
       "   PRIM_CONTRIBUTORY_CAUSE_MOTORCYCLE ADVANCING LEGALLY ON RED LIGHT  \\\n",
       "0                                                  0                   \n",
       "1                                                  0                   \n",
       "2                                                  0                   \n",
       "3                                                  0                   \n",
       "4                                                  0                   \n",
       "\n",
       "   PRIM_CONTRIBUTORY_CAUSE_OBSTRUCTED CROSSWALKS  \\\n",
       "0                                              0   \n",
       "1                                              0   \n",
       "2                                              0   \n",
       "3                                              0   \n",
       "4                                              0   \n",
       "\n",
       "   PRIM_CONTRIBUTORY_CAUSE_PASSING STOPPED SCHOOL BUS  \\\n",
       "0                                                  0    \n",
       "1                                                  0    \n",
       "2                                                  0    \n",
       "3                                                  0    \n",
       "4                                                  0    \n",
       "\n",
       "   PRIM_CONTRIBUTORY_CAUSE_RELATED TO BUS STOP  \\\n",
       "0                                            0   \n",
       "1                                            0   \n",
       "2                                            0   \n",
       "3                                            0   \n",
       "4                                            0   \n",
       "\n",
       "   PRIM_CONTRIBUTORY_CAUSE_ROAD CONSTRUCTION/MAINTENANCE  \\\n",
       "0                                                  0       \n",
       "1                                                  0       \n",
       "2                                                  0       \n",
       "3                                                  0       \n",
       "4                                                  0       \n",
       "\n",
       "   PRIM_CONTRIBUTORY_CAUSE_ROAD ENGINEERING/SURFACE/MARKING DEFECTS  \\\n",
       "0                                                  0                  \n",
       "1                                                  0                  \n",
       "2                                                  0                  \n",
       "3                                                  0                  \n",
       "4                                                  0                  \n",
       "\n",
       "   PRIM_CONTRIBUTORY_CAUSE_TEXTING  \\\n",
       "0                                0   \n",
       "1                                0   \n",
       "2                                0   \n",
       "3                                0   \n",
       "4                                0   \n",
       "\n",
       "   PRIM_CONTRIBUTORY_CAUSE_TURNING RIGHT ON RED  season_Summer  target  \n",
       "0                                             0              0       0  \n",
       "1                                             0              0       0  \n",
       "2                                             0              0       1  \n",
       "3                                             0              0       1  \n",
       "4                                             0              0       0  "
      ]
     },
     "execution_count": 4,
     "metadata": {},
     "output_type": "execute_result"
    }
   ],
   "source": [
    "df.head()"
   ]
  },
  {
   "cell_type": "markdown",
   "metadata": {},
   "source": [
    "## Lasso"
   ]
  },
  {
   "cell_type": "code",
   "execution_count": 5,
   "metadata": {},
   "outputs": [],
   "source": [
    "target = df['target']\n",
    "df_features = df.drop(columns = ['target'])"
   ]
  },
  {
   "cell_type": "code",
   "execution_count": null,
   "metadata": {},
   "outputs": [],
   "source": []
  },
  {
   "cell_type": "code",
   "execution_count": 6,
   "metadata": {},
   "outputs": [
    {
     "data": {
      "text/plain": [
       "Lasso(alpha=0.01)"
      ]
     },
     "execution_count": 6,
     "metadata": {},
     "output_type": "execute_result"
    }
   ],
   "source": [
    "lasso = Lasso(alpha = 0.01, normalize=False)\n",
    "lasso.fit(df_features, target)"
   ]
  },
  {
   "cell_type": "code",
   "execution_count": 7,
   "metadata": {},
   "outputs": [
    {
     "data": {
      "text/plain": [
       "<matplotlib.axes._subplots.AxesSubplot at 0x7f9dd17af110>"
      ]
     },
     "execution_count": 7,
     "metadata": {},
     "output_type": "execute_result"
    },
    {
     "data": {
      "image/png": "[encoded data removed]",
      "text/plain": [
       "<Figure size 1152x576 with 1 Axes>"
      ]
     },
     "metadata": {
      "needs_background": "light"
     },
     "output_type": "display_data"
    }
   ],
   "source": [
    "lasso_coef01 = pd.DataFrame(data=lasso.coef_).T\n",
    "lasso_coef01.columns = df_features.columns\n",
    "lasso_coef01 = lasso_coef01.T.sort_values(by=0).T\n",
    "lasso_coef01.plot(kind='bar', title='Modal Coefficients', legend=False, figsize=(16,8))"
   ]
  },
  {
   "cell_type": "code",
   "execution_count": 8,
   "metadata": {},
   "outputs": [
    {
     "data": {
      "text/html": [
       "<div>\n",
       "<style scoped>\n",
       "    .dataframe tbody tr th:only-of-type {\n",
       "        vertical-align: middle;\n",
       "    }\n",
       "\n",
       "    .dataframe tbody tr th {\n",
       "        vertical-align: top;\n",
       "    }\n",
       "\n",
       "    .dataframe thead th {\n",
       "        text-align: right;\n",
       "    }\n",
       "</style>\n",
       "<table border=\"1\" class=\"dataframe\">\n",
       "  <thead>\n",
       "    <tr style=\"text-align: right;\">\n",
       "      <th></th>\n",
       "      <th>0</th>\n",
       "    </tr>\n",
       "  </thead>\n",
       "  <tbody>\n",
       "    <tr>\n",
       "      <th>FIRST_CRASH_TYPE_SIDESWIPE SAME DIRECTION</th>\n",
       "      <td>-0.103297</td>\n",
       "    </tr>\n",
       "    <tr>\n",
       "      <th>FIRST_CRASH_TYPE_PARKED MOTOR VEHICLE</th>\n",
       "      <td>-0.079616</td>\n",
       "    </tr>\n",
       "    <tr>\n",
       "      <th>FIRST_CRASH_TYPE_REAR END</th>\n",
       "      <td>-0.043420</td>\n",
       "    </tr>\n",
       "    <tr>\n",
       "      <th>DAMAGE_$501 - $1,500</th>\n",
       "      <td>-0.026645</td>\n",
       "    </tr>\n",
       "    <tr>\n",
       "      <th>TRAFFICWAY_TYPE_PARKING LOT</th>\n",
       "      <td>-0.007879</td>\n",
       "    </tr>\n",
       "    <tr>\n",
       "      <th>ROAD_DEFECT_RUT, HOLES</th>\n",
       "      <td>-0.000000</td>\n",
       "    </tr>\n",
       "    <tr>\n",
       "      <th>ROAD_DEFECT_NO DEFECTS</th>\n",
       "      <td>0.000000</td>\n",
       "    </tr>\n",
       "    <tr>\n",
       "      <th>ROADWAY_SURFACE_COND_WET</th>\n",
       "      <td>0.000000</td>\n",
       "    </tr>\n",
       "    <tr>\n",
       "      <th>ROADWAY_SURFACE_COND_UNKNOWN/OTHER</th>\n",
       "      <td>-0.000000</td>\n",
       "    </tr>\n",
       "    <tr>\n",
       "      <th>ROADWAY_SURFACE_COND_SNOW</th>\n",
       "      <td>-0.000000</td>\n",
       "    </tr>\n",
       "    <tr>\n",
       "      <th>TRAFFICWAY_TYPE_UNKNOWN/OTHER</th>\n",
       "      <td>-0.000000</td>\n",
       "    </tr>\n",
       "    <tr>\n",
       "      <th>TRAFFICWAY_TYPE_INTERSECTION</th>\n",
       "      <td>0.000000</td>\n",
       "    </tr>\n",
       "    <tr>\n",
       "      <th>ROAD_DEFECT_SHOULDER DEFECT</th>\n",
       "      <td>0.000000</td>\n",
       "    </tr>\n",
       "    <tr>\n",
       "      <th>TRAFFICWAY_TYPE_DRIVEWAY</th>\n",
       "      <td>-0.000000</td>\n",
       "    </tr>\n",
       "    <tr>\n",
       "      <th>TRAFFICWAY_TYPE_DIVIDED - W/MEDIAN BARRIER</th>\n",
       "      <td>0.000000</td>\n",
       "    </tr>\n",
       "    <tr>\n",
       "      <th>TRAFFICWAY_TYPE_CENTER TURN LANE</th>\n",
       "      <td>0.000000</td>\n",
       "    </tr>\n",
       "    <tr>\n",
       "      <th>FIRST_CRASH_TYPE_TURNING</th>\n",
       "      <td>-0.000000</td>\n",
       "    </tr>\n",
       "    <tr>\n",
       "      <th>FIRST_CRASH_TYPE_TRAIN</th>\n",
       "      <td>0.000000</td>\n",
       "    </tr>\n",
       "    <tr>\n",
       "      <th>TRAFFICWAY_TYPE_RAMP</th>\n",
       "      <td>0.000000</td>\n",
       "    </tr>\n",
       "    <tr>\n",
       "      <th>ROAD_DEFECT_WORN SURFACE</th>\n",
       "      <td>0.000000</td>\n",
       "    </tr>\n",
       "    <tr>\n",
       "      <th>INJURIES_FATAL</th>\n",
       "      <td>0.000000</td>\n",
       "    </tr>\n",
       "    <tr>\n",
       "      <th>PRIM_CONTRIBUTORY_CAUSE_BICYCLE ADVANCING LEGALLY ON RED LIGHT</th>\n",
       "      <td>-0.000000</td>\n",
       "    </tr>\n",
       "    <tr>\n",
       "      <th>PRIM_CONTRIBUTORY_CAUSE_TEXTING</th>\n",
       "      <td>0.000000</td>\n",
       "    </tr>\n",
       "    <tr>\n",
       "      <th>PRIM_CONTRIBUTORY_CAUSE_ROAD ENGINEERING/SURFACE/MARKING DEFECTS</th>\n",
       "      <td>-0.000000</td>\n",
       "    </tr>\n",
       "    <tr>\n",
       "      <th>PRIM_CONTRIBUTORY_CAUSE_ROAD CONSTRUCTION/MAINTENANCE</th>\n",
       "      <td>0.000000</td>\n",
       "    </tr>\n",
       "    <tr>\n",
       "      <th>PRIM_CONTRIBUTORY_CAUSE_RELATED TO BUS STOP</th>\n",
       "      <td>-0.000000</td>\n",
       "    </tr>\n",
       "    <tr>\n",
       "      <th>PRIM_CONTRIBUTORY_CAUSE_PASSING STOPPED SCHOOL BUS</th>\n",
       "      <td>-0.000000</td>\n",
       "    </tr>\n",
       "    <tr>\n",
       "      <th>PRIM_CONTRIBUTORY_CAUSE_OBSTRUCTED CROSSWALKS</th>\n",
       "      <td>0.000000</td>\n",
       "    </tr>\n",
       "    <tr>\n",
       "      <th>PRIM_CONTRIBUTORY_CAUSE_MOTORCYCLE ADVANCING LEGALLY ON RED LIGHT</th>\n",
       "      <td>0.000000</td>\n",
       "    </tr>\n",
       "    <tr>\n",
       "      <th>PRIM_CONTRIBUTORY_CAUSE_HAD BEEN DRINKING (USE WHEN ARREST IS NOT MADE)</th>\n",
       "      <td>0.000000</td>\n",
       "    </tr>\n",
       "    <tr>\n",
       "      <th>FIRST_CRASH_TYPE_SIDESWIPE OPPOSITE DIRECTION</th>\n",
       "      <td>-0.000000</td>\n",
       "    </tr>\n",
       "    <tr>\n",
       "      <th>PRIM_CONTRIBUTORY_CAUSE_EXCEEDING SAFE SPEED FOR CONDITIONS</th>\n",
       "      <td>0.000000</td>\n",
       "    </tr>\n",
       "    <tr>\n",
       "      <th>PRIM_CONTRIBUTORY_CAUSE_EVASIVE ACTION DUE TO ANIMAL, OBJECT, NONMOTORIST</th>\n",
       "      <td>0.000000</td>\n",
       "    </tr>\n",
       "    <tr>\n",
       "      <th>PRIM_CONTRIBUTORY_CAUSE_DRIVING ON WRONG SIDE/WRONG WAY</th>\n",
       "      <td>0.000000</td>\n",
       "    </tr>\n",
       "    <tr>\n",
       "      <th>PRIM_CONTRIBUTORY_CAUSE_DISTRACTION - OTHER ELECTRONIC DEVICE (NAVIGATION DEVICE, DVD PLAYER, ETC.)</th>\n",
       "      <td>0.000000</td>\n",
       "    </tr>\n",
       "    <tr>\n",
       "      <th>PRIM_CONTRIBUTORY_CAUSE_DISTRACTION - FROM OUTSIDE VEHICLE</th>\n",
       "      <td>0.000000</td>\n",
       "    </tr>\n",
       "    <tr>\n",
       "      <th>PRIM_CONTRIBUTORY_CAUSE_DISREGARDING YIELD SIGN</th>\n",
       "      <td>0.000000</td>\n",
       "    </tr>\n",
       "    <tr>\n",
       "      <th>PRIM_CONTRIBUTORY_CAUSE_DISREGARDING ROAD MARKINGS</th>\n",
       "      <td>0.000000</td>\n",
       "    </tr>\n",
       "    <tr>\n",
       "      <th>PRIM_CONTRIBUTORY_CAUSE_DISREGARDING OTHER TRAFFIC SIGNS</th>\n",
       "      <td>0.000000</td>\n",
       "    </tr>\n",
       "    <tr>\n",
       "      <th>PRIM_CONTRIBUTORY_CAUSE_CELL PHONE USE OTHER THAN TEXTING</th>\n",
       "      <td>0.000000</td>\n",
       "    </tr>\n",
       "    <tr>\n",
       "      <th>PRIM_CONTRIBUTORY_CAUSE_EXCEEDING AUTHORIZED SPEED LIMIT</th>\n",
       "      <td>0.000000</td>\n",
       "    </tr>\n",
       "    <tr>\n",
       "      <th>FIRST_CRASH_TYPE_REAR TO SIDE</th>\n",
       "      <td>-0.000000</td>\n",
       "    </tr>\n",
       "    <tr>\n",
       "      <th>FIRST_CRASH_TYPE_REAR TO REAR</th>\n",
       "      <td>-0.000000</td>\n",
       "    </tr>\n",
       "    <tr>\n",
       "      <th>FIRST_CRASH_TYPE_REAR TO FRONT</th>\n",
       "      <td>-0.000000</td>\n",
       "    </tr>\n",
       "    <tr>\n",
       "      <th>TRAFFIC_CONTROL_DEVICE_PEDESTRIAN CROSSING SIGN</th>\n",
       "      <td>0.000000</td>\n",
       "    </tr>\n",
       "    <tr>\n",
       "      <th>TRAFFIC_CONTROL_DEVICE_OTHER WARNING SIGN</th>\n",
       "      <td>0.000000</td>\n",
       "    </tr>\n",
       "    <tr>\n",
       "      <th>TRAFFIC_CONTROL_DEVICE_OTHER REG. SIGN</th>\n",
       "      <td>0.000000</td>\n",
       "    </tr>\n",
       "    <tr>\n",
       "      <th>TRAFFIC_CONTROL_DEVICE_OTHER RAILROAD CROSSING</th>\n",
       "      <td>0.000000</td>\n",
       "    </tr>\n",
       "    <tr>\n",
       "      <th>TRAFFIC_CONTROL_DEVICE_NO PASSING</th>\n",
       "      <td>0.000000</td>\n",
       "    </tr>\n",
       "    <tr>\n",
       "      <th>TRAFFIC_CONTROL_DEVICE_LANE USE MARKING</th>\n",
       "      <td>0.000000</td>\n",
       "    </tr>\n",
       "    <tr>\n",
       "      <th>TRAFFIC_CONTROL_DEVICE_FLASHING CONTROL SIGNAL</th>\n",
       "      <td>0.000000</td>\n",
       "    </tr>\n",
       "    <tr>\n",
       "      <th>TRAFFIC_CONTROL_DEVICE_DELINEATORS</th>\n",
       "      <td>0.000000</td>\n",
       "    </tr>\n",
       "    <tr>\n",
       "      <th>INJURIES_NON_INCAPACITATING INJURIES_REPORTED_NOT_EVIDENT</th>\n",
       "      <td>0.000000</td>\n",
       "    </tr>\n",
       "    <tr>\n",
       "      <th>INJURIES_INCAPACITATING INJURIES_REPORTED_NOT_EVIDENT</th>\n",
       "      <td>0.000000</td>\n",
       "    </tr>\n",
       "    <tr>\n",
       "      <th>INJURIES_INCAPACITATING INJURIES_NON_INCAPACITATING</th>\n",
       "      <td>0.000000</td>\n",
       "    </tr>\n",
       "    <tr>\n",
       "      <th>INJURIES_FATAL INJURIES_NO_INDICATION</th>\n",
       "      <td>0.000000</td>\n",
       "    </tr>\n",
       "    <tr>\n",
       "      <th>INJURIES_FATAL INJURIES_REPORTED_NOT_EVIDENT</th>\n",
       "      <td>0.000000</td>\n",
       "    </tr>\n",
       "    <tr>\n",
       "      <th>INJURIES_FATAL INJURIES_NON_INCAPACITATING</th>\n",
       "      <td>0.000000</td>\n",
       "    </tr>\n",
       "    <tr>\n",
       "      <th>INJURIES_FATAL INJURIES_INCAPACITATING</th>\n",
       "      <td>0.000000</td>\n",
       "    </tr>\n",
       "    <tr>\n",
       "      <th>TRAFFIC_CONTROL_DEVICE_POLICE/FLAGMAN</th>\n",
       "      <td>-0.000000</td>\n",
       "    </tr>\n",
       "    <tr>\n",
       "      <th>PRIM_CONTRIBUTORY_CAUSE_TURNING RIGHT ON RED</th>\n",
       "      <td>0.000000</td>\n",
       "    </tr>\n",
       "    <tr>\n",
       "      <th>TRAFFIC_CONTROL_DEVICE_RAILROAD CROSSING GATE</th>\n",
       "      <td>-0.000000</td>\n",
       "    </tr>\n",
       "    <tr>\n",
       "      <th>LIGHTING_CONDITION_UNKNOWN</th>\n",
       "      <td>-0.000000</td>\n",
       "    </tr>\n",
       "    <tr>\n",
       "      <th>FIRST_CRASH_TYPE_PEDALCYCLIST</th>\n",
       "      <td>0.000000</td>\n",
       "    </tr>\n",
       "    <tr>\n",
       "      <th>FIRST_CRASH_TYPE_OVERTURNED</th>\n",
       "      <td>0.000000</td>\n",
       "    </tr>\n",
       "    <tr>\n",
       "      <th>FIRST_CRASH_TYPE_OTHER</th>\n",
       "      <td>0.000000</td>\n",
       "    </tr>\n",
       "    <tr>\n",
       "      <th>FIRST_CRASH_TYPE_HEAD ON</th>\n",
       "      <td>0.000000</td>\n",
       "    </tr>\n",
       "    <tr>\n",
       "      <th>FIRST_CRASH_TYPE_FIXED OBJECT</th>\n",
       "      <td>0.000000</td>\n",
       "    </tr>\n",
       "    <tr>\n",
       "      <th>FIRST_CRASH_TYPE_ANIMAL</th>\n",
       "      <td>-0.000000</td>\n",
       "    </tr>\n",
       "    <tr>\n",
       "      <th>TRAFFIC_CONTROL_DEVICE_RR CROSSING SIGN</th>\n",
       "      <td>0.000000</td>\n",
       "    </tr>\n",
       "    <tr>\n",
       "      <th>LIGHTING_CONDITION_DUSK/DAWN</th>\n",
       "      <td>0.000000</td>\n",
       "    </tr>\n",
       "    <tr>\n",
       "      <th>season_Summer</th>\n",
       "      <td>0.000000</td>\n",
       "    </tr>\n",
       "    <tr>\n",
       "      <th>WEATHER_CONDITION_UNKNOWN/OTHER</th>\n",
       "      <td>-0.000000</td>\n",
       "    </tr>\n",
       "    <tr>\n",
       "      <th>WEATHER_CONDITION_SNOW</th>\n",
       "      <td>0.000000</td>\n",
       "    </tr>\n",
       "    <tr>\n",
       "      <th>WEATHER_CONDITION_RAIN</th>\n",
       "      <td>0.000000</td>\n",
       "    </tr>\n",
       "    <tr>\n",
       "      <th>WEATHER_CONDITION_FOG</th>\n",
       "      <td>0.000000</td>\n",
       "    </tr>\n",
       "    <tr>\n",
       "      <th>WEATHER_CONDITION_CLOUDY</th>\n",
       "      <td>0.000000</td>\n",
       "    </tr>\n",
       "    <tr>\n",
       "      <th>TRAFFIC_CONTROL_DEVICE_YIELD</th>\n",
       "      <td>0.000000</td>\n",
       "    </tr>\n",
       "    <tr>\n",
       "      <th>TRAFFIC_CONTROL_DEVICE_SCHOOL ZONE</th>\n",
       "      <td>0.000000</td>\n",
       "    </tr>\n",
       "    <tr>\n",
       "      <th>INJURIES_INCAPACITATING</th>\n",
       "      <td>0.003889</td>\n",
       "    </tr>\n",
       "    <tr>\n",
       "      <th>LIGHTING_CONDITION_DARKNESS, LIGHTED ROAD</th>\n",
       "      <td>0.056054</td>\n",
       "    </tr>\n",
       "    <tr>\n",
       "      <th>INJURIES_INCAPACITATING INJURIES_NO_INDICATION</th>\n",
       "      <td>0.077631</td>\n",
       "    </tr>\n",
       "    <tr>\n",
       "      <th>DAMAGE_OVER $1,500</th>\n",
       "      <td>0.141717</td>\n",
       "    </tr>\n",
       "    <tr>\n",
       "      <th>FIRST_CRASH_TYPE_PEDESTRIAN</th>\n",
       "      <td>0.179065</td>\n",
       "    </tr>\n",
       "  </tbody>\n",
       "</table>\n",
       "</div>"
      ],
      "text/plain": [
       "                                                           0\n",
       "FIRST_CRASH_TYPE_SIDESWIPE SAME DIRECTION          -0.103297\n",
       "FIRST_CRASH_TYPE_PARKED MOTOR VEHICLE              -0.079616\n",
       "FIRST_CRASH_TYPE_REAR END                          -0.043420\n",
       "DAMAGE_$501 - $1,500                               -0.026645\n",
       "TRAFFICWAY_TYPE_PARKING LOT                        -0.007879\n",
       "ROAD_DEFECT_RUT, HOLES                             -0.000000\n",
       "ROAD_DEFECT_NO DEFECTS                              0.000000\n",
       "ROADWAY_SURFACE_COND_WET                            0.000000\n",
       "ROADWAY_SURFACE_COND_UNKNOWN/OTHER                 -0.000000\n",
       "ROADWAY_SURFACE_COND_SNOW                          -0.000000\n",
       "TRAFFICWAY_TYPE_UNKNOWN/OTHER                      -0.000000\n",
       "TRAFFICWAY_TYPE_INTERSECTION                        0.000000\n",
       "ROAD_DEFECT_SHOULDER DEFECT                         0.000000\n",
       "TRAFFICWAY_TYPE_DRIVEWAY                           -0.000000\n",
       "TRAFFICWAY_TYPE_DIVIDED - W/MEDIAN BARRIER          0.000000\n",
       "TRAFFICWAY_TYPE_CENTER TURN LANE                    0.000000\n",
       "FIRST_CRASH_TYPE_TURNING                           -0.000000\n",
       "FIRST_CRASH_TYPE_TRAIN                              0.000000\n",
       "TRAFFICWAY_TYPE_RAMP                                0.000000\n",
       "ROAD_DEFECT_WORN SURFACE                            0.000000\n",
       "INJURIES_FATAL                                      0.000000\n",
       "PRIM_CONTRIBUTORY_CAUSE_BICYCLE ADVANCING LEGAL... -0.000000\n",
       "PRIM_CONTRIBUTORY_CAUSE_TEXTING                     0.000000\n",
       "PRIM_CONTRIBUTORY_CAUSE_ROAD ENGINEERING/SURFAC... -0.000000\n",
       "PRIM_CONTRIBUTORY_CAUSE_ROAD CONSTRUCTION/MAINT...  0.000000\n",
       "PRIM_CONTRIBUTORY_CAUSE_RELATED TO BUS STOP        -0.000000\n",
       "PRIM_CONTRIBUTORY_CAUSE_PASSING STOPPED SCHOOL BUS -0.000000\n",
       "PRIM_CONTRIBUTORY_CAUSE_OBSTRUCTED CROSSWALKS       0.000000\n",
       "PRIM_CONTRIBUTORY_CAUSE_MOTORCYCLE ADVANCING LE...  0.000000\n",
       "PRIM_CONTRIBUTORY_CAUSE_HAD BEEN DRINKING (USE ...  0.000000\n",
       "FIRST_CRASH_TYPE_SIDESWIPE OPPOSITE DIRECTION      -0.000000\n",
       "PRIM_CONTRIBUTORY_CAUSE_EXCEEDING SAFE SPEED FO...  0.000000\n",
       "PRIM_CONTRIBUTORY_CAUSE_EVASIVE ACTION DUE TO A...  0.000000\n",
       "PRIM_CONTRIBUTORY_CAUSE_DRIVING ON WRONG SIDE/W...  0.000000\n",
       "PRIM_CONTRIBUTORY_CAUSE_DISTRACTION - OTHER ELE...  0.000000\n",
       "PRIM_CONTRIBUTORY_CAUSE_DISTRACTION - FROM OUTS...  0.000000\n",
       "PRIM_CONTRIBUTORY_CAUSE_DISREGARDING YIELD SIGN     0.000000\n",
       "PRIM_CONTRIBUTORY_CAUSE_DISREGARDING ROAD MARKINGS  0.000000\n",
       "PRIM_CONTRIBUTORY_CAUSE_DISREGARDING OTHER TRAF...  0.000000\n",
       "PRIM_CONTRIBUTORY_CAUSE_CELL PHONE USE OTHER TH...  0.000000\n",
       "PRIM_CONTRIBUTORY_CAUSE_EXCEEDING AUTHORIZED SP...  0.000000\n",
       "FIRST_CRASH_TYPE_REAR TO SIDE                      -0.000000\n",
       "FIRST_CRASH_TYPE_REAR TO REAR                      -0.000000\n",
       "FIRST_CRASH_TYPE_REAR TO FRONT                     -0.000000\n",
       "TRAFFIC_CONTROL_DEVICE_PEDESTRIAN CROSSING SIGN     0.000000\n",
       "TRAFFIC_CONTROL_DEVICE_OTHER WARNING SIGN           0.000000\n",
       "TRAFFIC_CONTROL_DEVICE_OTHER REG. SIGN              0.000000\n",
       "TRAFFIC_CONTROL_DEVICE_OTHER RAILROAD CROSSING      0.000000\n",
       "TRAFFIC_CONTROL_DEVICE_NO PASSING                   0.000000\n",
       "TRAFFIC_CONTROL_DEVICE_LANE USE MARKING             0.000000\n",
       "TRAFFIC_CONTROL_DEVICE_FLASHING CONTROL SIGNAL      0.000000\n",
       "TRAFFIC_CONTROL_DEVICE_DELINEATORS                  0.000000\n",
       "INJURIES_NON_INCAPACITATING INJURIES_REPORTED_N...  0.000000\n",
       "INJURIES_INCAPACITATING INJURIES_REPORTED_NOT_E...  0.000000\n",
       "INJURIES_INCAPACITATING INJURIES_NON_INCAPACITA...  0.000000\n",
       "INJURIES_FATAL INJURIES_NO_INDICATION               0.000000\n",
       "INJURIES_FATAL INJURIES_REPORTED_NOT_EVIDENT        0.000000\n",
       "INJURIES_FATAL INJURIES_NON_INCAPACITATING          0.000000\n",
       "INJURIES_FATAL INJURIES_INCAPACITATING              0.000000\n",
       "TRAFFIC_CONTROL_DEVICE_POLICE/FLAGMAN              -0.000000\n",
       "PRIM_CONTRIBUTORY_CAUSE_TURNING RIGHT ON RED        0.000000\n",
       "TRAFFIC_CONTROL_DEVICE_RAILROAD CROSSING GATE      -0.000000\n",
       "LIGHTING_CONDITION_UNKNOWN                         -0.000000\n",
       "FIRST_CRASH_TYPE_PEDALCYCLIST                       0.000000\n",
       "FIRST_CRASH_TYPE_OVERTURNED                         0.000000\n",
       "FIRST_CRASH_TYPE_OTHER                              0.000000\n",
       "FIRST_CRASH_TYPE_HEAD ON                            0.000000\n",
       "FIRST_CRASH_TYPE_FIXED OBJECT                       0.000000\n",
       "FIRST_CRASH_TYPE_ANIMAL                            -0.000000\n",
       "TRAFFIC_CONTROL_DEVICE_RR CROSSING SIGN             0.000000\n",
       "LIGHTING_CONDITION_DUSK/DAWN                        0.000000\n",
       "season_Summer                                       0.000000\n",
       "WEATHER_CONDITION_UNKNOWN/OTHER                    -0.000000\n",
       "WEATHER_CONDITION_SNOW                              0.000000\n",
       "WEATHER_CONDITION_RAIN                              0.000000\n",
       "WEATHER_CONDITION_FOG                               0.000000\n",
       "WEATHER_CONDITION_CLOUDY                            0.000000\n",
       "TRAFFIC_CONTROL_DEVICE_YIELD                        0.000000\n",
       "TRAFFIC_CONTROL_DEVICE_SCHOOL ZONE                  0.000000\n",
       "INJURIES_INCAPACITATING                             0.003889\n",
       "LIGHTING_CONDITION_DARKNESS, LIGHTED ROAD           0.056054\n",
       "INJURIES_INCAPACITATING INJURIES_NO_INDICATION      0.077631\n",
       "DAMAGE_OVER $1,500                                  0.141717\n",
       "FIRST_CRASH_TYPE_PEDESTRIAN                         0.179065"
      ]
     },
     "execution_count": 8,
     "metadata": {},
     "output_type": "execute_result"
    }
   ],
   "source": [
    "lasso_coef01.T"
   ]
  },
  {
   "cell_type": "code",
   "execution_count": 9,
   "metadata": {},
   "outputs": [],
   "source": [
    "df_lr = df_features"
   ]
  },
  {
   "cell_type": "code",
   "execution_count": 10,
   "metadata": {},
   "outputs": [],
   "source": [
    "lasso_drop = list(lasso_coef01.T[lasso_coef01.T[0] == 0].index)"
   ]
  },
  {
   "cell_type": "code",
   "execution_count": 11,
   "metadata": {},
   "outputs": [],
   "source": [
    "df_lr.drop(columns = lasso_drop, inplace = True)"
   ]
  },
  {
   "cell_type": "code",
   "execution_count": 12,
   "metadata": {},
   "outputs": [
    {
     "data": {
      "text/plain": [
       "(429200, 10)"
      ]
     },
     "execution_count": 12,
     "metadata": {},
     "output_type": "execute_result"
    }
   ],
   "source": [
    "df_lr.shape"
   ]
  },
  {
   "cell_type": "code",
   "execution_count": 13,
   "metadata": {},
   "outputs": [
    {
     "data": {
      "text/html": [
       "<div>\n",
       "<style scoped>\n",
       "    .dataframe tbody tr th:only-of-type {\n",
       "        vertical-align: middle;\n",
       "    }\n",
       "\n",
       "    .dataframe tbody tr th {\n",
       "        vertical-align: top;\n",
       "    }\n",
       "\n",
       "    .dataframe thead th {\n",
       "        text-align: right;\n",
       "    }\n",
       "</style>\n",
       "<table border=\"1\" class=\"dataframe\">\n",
       "  <thead>\n",
       "    <tr style=\"text-align: right;\">\n",
       "      <th></th>\n",
       "      <th>INJURIES_INCAPACITATING</th>\n",
       "      <th>INJURIES_INCAPACITATING INJURIES_NO_INDICATION</th>\n",
       "      <th>LIGHTING_CONDITION_DARKNESS, LIGHTED ROAD</th>\n",
       "      <th>FIRST_CRASH_TYPE_PARKED MOTOR VEHICLE</th>\n",
       "      <th>FIRST_CRASH_TYPE_PEDESTRIAN</th>\n",
       "      <th>FIRST_CRASH_TYPE_REAR END</th>\n",
       "      <th>FIRST_CRASH_TYPE_SIDESWIPE SAME DIRECTION</th>\n",
       "      <th>TRAFFICWAY_TYPE_PARKING LOT</th>\n",
       "      <th>DAMAGE_$501 - $1,500</th>\n",
       "      <th>DAMAGE_OVER $1,500</th>\n",
       "    </tr>\n",
       "  </thead>\n",
       "  <tbody>\n",
       "    <tr>\n",
       "      <th>0</th>\n",
       "      <td>0.0</td>\n",
       "      <td>0.0</td>\n",
       "      <td>0</td>\n",
       "      <td>1</td>\n",
       "      <td>0</td>\n",
       "      <td>0</td>\n",
       "      <td>0</td>\n",
       "      <td>0</td>\n",
       "      <td>0</td>\n",
       "      <td>1</td>\n",
       "    </tr>\n",
       "    <tr>\n",
       "      <th>1</th>\n",
       "      <td>0.0</td>\n",
       "      <td>0.0</td>\n",
       "      <td>0</td>\n",
       "      <td>0</td>\n",
       "      <td>0</td>\n",
       "      <td>0</td>\n",
       "      <td>1</td>\n",
       "      <td>0</td>\n",
       "      <td>0</td>\n",
       "      <td>1</td>\n",
       "    </tr>\n",
       "    <tr>\n",
       "      <th>2</th>\n",
       "      <td>0.0</td>\n",
       "      <td>0.0</td>\n",
       "      <td>0</td>\n",
       "      <td>0</td>\n",
       "      <td>0</td>\n",
       "      <td>0</td>\n",
       "      <td>1</td>\n",
       "      <td>0</td>\n",
       "      <td>0</td>\n",
       "      <td>1</td>\n",
       "    </tr>\n",
       "    <tr>\n",
       "      <th>3</th>\n",
       "      <td>0.0</td>\n",
       "      <td>0.0</td>\n",
       "      <td>0</td>\n",
       "      <td>0</td>\n",
       "      <td>0</td>\n",
       "      <td>0</td>\n",
       "      <td>0</td>\n",
       "      <td>0</td>\n",
       "      <td>0</td>\n",
       "      <td>1</td>\n",
       "    </tr>\n",
       "    <tr>\n",
       "      <th>4</th>\n",
       "      <td>0.0</td>\n",
       "      <td>0.0</td>\n",
       "      <td>1</td>\n",
       "      <td>0</td>\n",
       "      <td>0</td>\n",
       "      <td>0</td>\n",
       "      <td>0</td>\n",
       "      <td>0</td>\n",
       "      <td>0</td>\n",
       "      <td>1</td>\n",
       "    </tr>\n",
       "  </tbody>\n",
       "</table>\n",
       "</div>"
      ],
      "text/plain": [
       "   INJURIES_INCAPACITATING  INJURIES_INCAPACITATING INJURIES_NO_INDICATION  \\\n",
       "0                      0.0                                             0.0   \n",
       "1                      0.0                                             0.0   \n",
       "2                      0.0                                             0.0   \n",
       "3                      0.0                                             0.0   \n",
       "4                      0.0                                             0.0   \n",
       "\n",
       "   LIGHTING_CONDITION_DARKNESS, LIGHTED ROAD  \\\n",
       "0                                          0   \n",
       "1                                          0   \n",
       "2                                          0   \n",
       "3                                          0   \n",
       "4                                          1   \n",
       "\n",
       "   FIRST_CRASH_TYPE_PARKED MOTOR VEHICLE  FIRST_CRASH_TYPE_PEDESTRIAN  \\\n",
       "0                                      1                            0   \n",
       "1                                      0                            0   \n",
       "2                                      0                            0   \n",
       "3                                      0                            0   \n",
       "4                                      0                            0   \n",
       "\n",
       "   FIRST_CRASH_TYPE_REAR END  FIRST_CRASH_TYPE_SIDESWIPE SAME DIRECTION  \\\n",
       "0                          0                                          0   \n",
       "1                          0                                          1   \n",
       "2                          0                                          1   \n",
       "3                          0                                          0   \n",
       "4                          0                                          0   \n",
       "\n",
       "   TRAFFICWAY_TYPE_PARKING LOT  DAMAGE_$501 - $1,500  DAMAGE_OVER $1,500  \n",
       "0                            0                     0                   1  \n",
       "1                            0                     0                   1  \n",
       "2                            0                     0                   1  \n",
       "3                            0                     0                   1  \n",
       "4                            0                     0                   1  "
      ]
     },
     "execution_count": 13,
     "metadata": {},
     "output_type": "execute_result"
    }
   ],
   "source": [
    "df_lr.head()"
   ]
  },
  {
   "cell_type": "markdown",
   "metadata": {},
   "source": [
    "## Logistic Regression with Lasso"
   ]
  },
  {
   "cell_type": "code",
   "execution_count": 14,
   "metadata": {},
   "outputs": [],
   "source": [
    "X_train, X_test, y_train, y_test = train_test_split(df_lr, target, random_state=1)\n",
    "scaler = StandardScaler() \n",
    "scaler.fit(X_train)\n",
    "X_train = scaler.transform(X_train)  \n",
    "X_test = scaler.transform(X_test)"
   ]
  },
  {
   "cell_type": "code",
   "execution_count": 15,
   "metadata": {},
   "outputs": [],
   "source": [
    "logreg = LogisticRegression()\n",
    "logreg.fit(X_train, y_train)\n",
    "y_pred_train = logreg.predict(X_train)\n",
    "y_pred = logreg.predict(X_test)\n"
   ]
  },
  {
   "cell_type": "code",
   "execution_count": 16,
   "metadata": {},
   "outputs": [
    {
     "name": "stdout",
     "output_type": "stream",
     "text": [
      "0.37923635457976507\n",
      "0.7981267474370922\n",
      "0.37999828262300706\n"
     ]
    }
   ],
   "source": [
    "print(metrics.f1_score(y_train, y_pred_train))\n",
    "print(metrics.accuracy_score(y_test, y_pred))\n",
    "print(metrics.f1_score(y_test, y_pred))"
   ]
  },
  {
   "cell_type": "code",
   "execution_count": 17,
   "metadata": {},
   "outputs": [],
   "source": [
    "f1_scores = {}\n",
    "f1_scores['Logistic with Lasso'] = metrics.f1_score(y_test, y_pred)"
   ]
  },
  {
   "cell_type": "markdown",
   "metadata": {},
   "source": [
    "## Logistic without Lasso"
   ]
  },
  {
   "cell_type": "code",
   "execution_count": 18,
   "metadata": {},
   "outputs": [],
   "source": [
    "target = df['target']\n",
    "df_features = df.drop(columns = ['target'])"
   ]
  },
  {
   "cell_type": "code",
   "execution_count": 19,
   "metadata": {},
   "outputs": [],
   "source": [
    "X_train, X_test, y_train, y_test = train_test_split(df_features, target, random_state=1)\n",
    "scaler = StandardScaler() \n",
    "scaler.fit(X_train)\n",
    "X_train = scaler.transform(X_train)  \n",
    "X_test = scaler.transform(X_test)"
   ]
  },
  {
   "cell_type": "code",
   "execution_count": 20,
   "metadata": {},
   "outputs": [
    {
     "name": "stderr",
     "output_type": "stream",
     "text": [
      "/Users/singh/opt/anaconda3/lib/python3.7/site-packages/sklearn/linear_model/_logistic.py:764: ConvergenceWarning: lbfgs failed to converge (status=1):\n",
      "STOP: TOTAL NO. of ITERATIONS REACHED LIMIT.\n",
      "\n",
      "Increase the number of iterations (max_iter) or scale the data as shown in:\n",
      "    https://scikit-learn.org/stable/modules/preprocessing.html\n",
      "Please also refer to the documentation for alternative solver options:\n",
      "    https://scikit-learn.org/stable/modules/linear_model.html#logistic-regression\n",
      "  extra_warning_msg=_LOGISTIC_SOLVER_CONVERGENCE_MSG)\n"
     ]
    }
   ],
   "source": [
    "logreg = LogisticRegression()\n",
    "logreg.fit(X_train, y_train)\n",
    "y_pred_train = logreg.predict(X_train)\n",
    "y_pred = logreg.predict(X_test)"
   ]
  },
  {
   "cell_type": "code",
   "execution_count": 21,
   "metadata": {},
   "outputs": [
    {
     "name": "stdout",
     "output_type": "stream",
     "text": [
      "0.47523706384215114\n",
      "0.8146039142590866\n",
      "0.4760725855303011\n"
     ]
    }
   ],
   "source": [
    "print(metrics.f1_score(y_train, y_pred_train))\n",
    "print(metrics.accuracy_score(y_test, y_pred))\n",
    "print(metrics.f1_score(y_test, y_pred))"
   ]
  },
  {
   "cell_type": "code",
   "execution_count": 22,
   "metadata": {},
   "outputs": [
    {
     "data": {
      "text/plain": [
       "(429200, 84)"
      ]
     },
     "execution_count": 22,
     "metadata": {},
     "output_type": "execute_result"
    }
   ],
   "source": [
    "df_features.shape\n"
   ]
  },
  {
   "cell_type": "code",
   "execution_count": 23,
   "metadata": {},
   "outputs": [],
   "source": [
    "f1_scores['Logistic without Lasso'] = metrics.f1_score(y_test, y_pred)"
   ]
  },
  {
   "cell_type": "code",
   "execution_count": 24,
   "metadata": {},
   "outputs": [
    {
     "data": {
      "text/plain": [
       "{'Logistic with Lasso': 0.37999828262300706,\n",
       " 'Logistic without Lasso': 0.4760725855303011}"
      ]
     },
     "execution_count": 24,
     "metadata": {},
     "output_type": "execute_result"
    }
   ],
   "source": [
    "f1_scores"
   ]
  },
  {
   "cell_type": "markdown",
   "metadata": {},
   "source": [
    "## Logistic with Class weight balanced\n"
   ]
  },
  {
   "cell_type": "code",
   "execution_count": 30,
   "metadata": {},
   "outputs": [
    {
     "name": "stdout",
     "output_type": "stream",
     "text": [
      "Test Accuracy score:  0.7370922646784716\n",
      "Train F1 score:  0.5716007067674502\n",
      "Test F1 score:  0.5725368972936933\n"
     ]
    }
   ],
   "source": [
    "lr_clf_weighted = LogisticRegression(solver='liblinear', class_weight = 'balanced')\n",
    "lr_clf_weighted.fit(X_train, y_train)\n",
    "y_weighted_train = lr_clf_weighted.predict(X_train)\n",
    "y_weighted_test = lr_clf_weighted.predict(X_test)\n",
    "\n",
    "f1_train = metrics.f1_score(y_train, y_weighted_train)\n",
    "f1_test = metrics.f1_score(y_test, y_weighted_test)\n",
    "print('Test Accuracy score: ', metrics.accuracy_score(y_test, y_weighted_test))\n",
    "print('Train F1 score: ', f1_train)\n",
    "print('Test F1 score: ', f1_test)"
   ]
  },
  {
   "cell_type": "code",
   "execution_count": 98,
   "metadata": {},
   "outputs": [
    {
     "data": {
      "text/plain": [
       "84"
      ]
     },
     "execution_count": 98,
     "metadata": {},
     "output_type": "execute_result"
    }
   ],
   "source": [
    "len(lr_clf_weighted.coef_[0])"
   ]
  },
  {
   "cell_type": "code",
   "execution_count": 96,
   "metadata": {},
   "outputs": [
    {
     "data": {
      "text/plain": [
       "84"
      ]
     },
     "execution_count": 96,
     "metadata": {},
     "output_type": "execute_result"
    }
   ],
   "source": [
    "len(df_features.columns )"
   ]
  },
  {
   "cell_type": "code",
   "execution_count": 133,
   "metadata": {},
   "outputs": [],
   "source": [
    "coef_names = list(zip(df_features.columns, lr_clf_weighted.coef_[0]))"
   ]
  },
  {
   "cell_type": "code",
   "execution_count": 134,
   "metadata": {},
   "outputs": [],
   "source": [
    "log_bal = sorted(coef_names, key=lambda x: abs(x[1]), reverse = True)"
   ]
  },
  {
   "cell_type": "code",
   "execution_count": 135,
   "metadata": {},
   "outputs": [
    {
     "data": {
      "text/plain": [
       "[('INJURIES_INCAPACITATING', 1.475666532643523),\n",
       " ('INJURIES_NON_INCAPACITATING INJURIES_REPORTED_NOT_EVIDENT',\n",
       "  1.2574767688074235),\n",
       " ('DAMAGE_OVER $1,500', 0.8740446736753549),\n",
       " ('FIRST_CRASH_TYPE_SIDESWIPE SAME DIRECTION', -0.5497541600504745),\n",
       " ('FIRST_CRASH_TYPE_PEDESTRIAN', 0.537346113896044),\n",
       " ('TRAFFICWAY_TYPE_PARKING LOT', -0.40615565632857964),\n",
       " ('FIRST_CRASH_TYPE_PARKED MOTOR VEHICLE', -0.3725064443424737),\n",
       " ('INJURIES_FATAL', 0.3337314960630069),\n",
       " ('FIRST_CRASH_TYPE_REAR END', -0.31569734520378856),\n",
       " ('FIRST_CRASH_TYPE_PEDALCYCLIST', 0.28118287241499224),\n",
       " ('LIGHTING_CONDITION_DARKNESS, LIGHTED ROAD', 0.22839872934422406),\n",
       " ('INJURIES_FATAL INJURIES_INCAPACITATING', -0.1389535523762259),\n",
       " ('FIRST_CRASH_TYPE_TURNING', -0.1364874542930861),\n",
       " ('TRAFFICWAY_TYPE_INTERSECTION', 0.1326609231886395),\n",
       " ('INJURIES_INCAPACITATING INJURIES_NON_INCAPACITATING', 0.13026713361000572)]"
      ]
     },
     "execution_count": 135,
     "metadata": {},
     "output_type": "execute_result"
    }
   ],
   "source": [
    "log_bal[0:15]"
   ]
  },
  {
   "cell_type": "code",
   "execution_count": 31,
   "metadata": {},
   "outputs": [],
   "source": [
    "f1_scores['Logistic with class weight balanced'] = f1_test"
   ]
  },
  {
   "cell_type": "code",
   "execution_count": 32,
   "metadata": {},
   "outputs": [
    {
     "data": {
      "text/plain": [
       "{'Logistic with Lasso': 0.37999828262300706,\n",
       " 'Logistic without Lasso': 0.4760725855303011,\n",
       " 'Logistic with class weight balanced': 0.5725368972936933}"
      ]
     },
     "execution_count": 32,
     "metadata": {},
     "output_type": "execute_result"
    }
   ],
   "source": [
    "f1_scores"
   ]
  },
  {
   "cell_type": "markdown",
   "metadata": {},
   "source": [
    "## Decision Tree"
   ]
  },
  {
   "cell_type": "code",
   "execution_count": 118,
   "metadata": {},
   "outputs": [],
   "source": [
    "clf = DecisionTreeClassifier(class_weight='balanced')"
   ]
  },
  {
   "cell_type": "code",
   "execution_count": 119,
   "metadata": {},
   "outputs": [
    {
     "name": "stdout",
     "output_type": "stream",
     "text": [
      "Training F1 Score: 0.5990110541696667\n",
      "Testing F1 Score: 0.566314488919865\n"
     ]
    }
   ],
   "source": [
    "clf = clf.fit(X_train,y_train)\n",
    "y_pred_train = clf.predict(X_train)\n",
    "y_pred_test = clf.predict(X_test)\n",
    "\n",
    "# Model Accuracy, how often is the classifier correct?\n",
    "print(\"Training F1 Score:\",metrics.f1_score(y_train, y_pred_train))\n",
    "df1 = metrics.f1_score(y_test, y_pred_test)\n",
    "print(\"Testing F1 Score:\",df1)"
   ]
  },
  {
   "cell_type": "code",
   "execution_count": 140,
   "metadata": {},
   "outputs": [],
   "source": [
    "importance = clf.feature_importances_\n",
    "dt_coef = list(zip(df_features.columns, importance))"
   ]
  },
  {
   "cell_type": "code",
   "execution_count": 141,
   "metadata": {},
   "outputs": [
    {
     "data": {
      "text/plain": [
       "[('INJURIES_INCAPACITATING', 1.475666532643523),\n",
       " ('INJURIES_NON_INCAPACITATING INJURIES_REPORTED_NOT_EVIDENT',\n",
       "  1.2574767688074235),\n",
       " ('DAMAGE_OVER $1,500', 0.8740446736753549),\n",
       " ('FIRST_CRASH_TYPE_SIDESWIPE SAME DIRECTION', -0.5497541600504745),\n",
       " ('FIRST_CRASH_TYPE_PEDESTRIAN', 0.537346113896044),\n",
       " ('TRAFFICWAY_TYPE_PARKING LOT', -0.40615565632857964),\n",
       " ('FIRST_CRASH_TYPE_PARKED MOTOR VEHICLE', -0.3725064443424737),\n",
       " ('INJURIES_FATAL', 0.3337314960630069),\n",
       " ('FIRST_CRASH_TYPE_REAR END', -0.31569734520378856),\n",
       " ('FIRST_CRASH_TYPE_PEDALCYCLIST', 0.28118287241499224),\n",
       " ('LIGHTING_CONDITION_DARKNESS, LIGHTED ROAD', 0.22839872934422406),\n",
       " ('INJURIES_FATAL INJURIES_INCAPACITATING', -0.1389535523762259),\n",
       " ('FIRST_CRASH_TYPE_TURNING', -0.1364874542930861),\n",
       " ('TRAFFICWAY_TYPE_INTERSECTION', 0.1326609231886395),\n",
       " ('INJURIES_INCAPACITATING INJURIES_NON_INCAPACITATING', 0.13026713361000572)]"
      ]
     },
     "execution_count": 141,
     "metadata": {},
     "output_type": "execute_result"
    }
   ],
   "source": [
    "dt_coef = sorted(coef_names, key=lambda x: abs(x[1]), reverse = True)\n",
    "dt_coef[0:15]"
   ]
  },
  {
   "cell_type": "code",
   "execution_count": 36,
   "metadata": {},
   "outputs": [],
   "source": [
    "f1_scores['Decision Tree'] = df1"
   ]
  },
  {
   "cell_type": "code",
   "execution_count": 37,
   "metadata": {},
   "outputs": [
    {
     "data": {
      "text/plain": [
       "{'Logistic with Lasso': 0.37999828262300706,\n",
       " 'Logistic without Lasso': 0.4760725855303011,\n",
       " 'Logistic with class weight balanced': 0.5725368972936933,\n",
       " 'Decision Tree': 0.5663952768652099}"
      ]
     },
     "execution_count": 37,
     "metadata": {},
     "output_type": "execute_result"
    }
   ],
   "source": [
    "f1_scores"
   ]
  },
  {
   "cell_type": "markdown",
   "metadata": {},
   "source": [
    "## Random Forest"
   ]
  },
  {
   "cell_type": "code",
   "execution_count": 40,
   "metadata": {},
   "outputs": [],
   "source": [
    "X_train, X_test, y_train, y_test = train_test_split(df_features, target, test_size=0.25, random_state=23 )"
   ]
  },
  {
   "cell_type": "code",
   "execution_count": 41,
   "metadata": {},
   "outputs": [
    {
     "data": {
      "text/plain": [
       "RandomForestClassifier(max_depth=2, n_estimators=500, n_jobs=-1, random_state=1)"
      ]
     },
     "execution_count": 41,
     "metadata": {},
     "output_type": "execute_result"
    }
   ],
   "source": [
    "rfc = RandomForestClassifier(random_state = 1, n_estimators = 500, max_depth=2, n_jobs = -1)\n",
    "rfc.fit(X_train, y_train)"
   ]
  },
  {
   "cell_type": "code",
   "execution_count": 42,
   "metadata": {},
   "outputs": [
    {
     "name": "stdout",
     "output_type": "stream",
     "text": [
      "Train F1 score:  0.07936169412000854\n",
      "Test F1 score:  0.07357204714032908\n"
     ]
    }
   ],
   "source": [
    "rfc_preds_train = rfc.predict(X_train)\n",
    "rfc_preds = rfc.predict(X_test)\n",
    "\n",
    "rfc_f1_train = metrics.f1_score(y_train, rfc_preds_train)\n",
    "rfc_f1 = metrics.f1_score(y_test, rfc_preds)\n",
    "print('Train F1 score: ', rfc_f1_train)\n",
    "print('Test F1 score: ', rfc_f1)\n"
   ]
  },
  {
   "cell_type": "code",
   "execution_count": 43,
   "metadata": {},
   "outputs": [],
   "source": [
    "f1_scores['Random Forest'] = rfc_f1"
   ]
  },
  {
   "cell_type": "code",
   "execution_count": 44,
   "metadata": {},
   "outputs": [
    {
     "data": {
      "text/plain": [
       "{'Logistic with Lasso': 0.37999828262300706,\n",
       " 'Logistic without Lasso': 0.4760725855303011,\n",
       " 'Logistic with class weight balanced': 0.5725368972936933,\n",
       " 'Decision Tree': 0.5663952768652099,\n",
       " 'Random Forest': 0.07357204714032908}"
      ]
     },
     "execution_count": 44,
     "metadata": {},
     "output_type": "execute_result"
    }
   ],
   "source": [
    "f1_scores"
   ]
  },
  {
   "cell_type": "markdown",
   "metadata": {},
   "source": [
    "## Grid Search with Random Forest"
   ]
  },
  {
   "cell_type": "code",
   "execution_count": 53,
   "metadata": {},
   "outputs": [],
   "source": [
    "params = { \n",
    "    'n_estimators': [100,500],\n",
    "    'max_depth': [2,3,4],\n",
    "    'max_features': [0.6, 0.7],\n",
    "    'criterion': ['gini', 'entropy'],\n",
    "    'class_weight': [None, 'balanced']}"
   ]
  },
  {
   "cell_type": "code",
   "execution_count": 54,
   "metadata": {},
   "outputs": [
    {
     "name": "stdout",
     "output_type": "stream",
     "text": [
      "Fitting 5 folds for each of 48 candidates, totalling 240 fits\n"
     ]
    },
    {
     "name": "stderr",
     "output_type": "stream",
     "text": [
      "[Parallel(n_jobs=-1)]: Using backend LokyBackend with 4 concurrent workers.\n",
      "[Parallel(n_jobs=-1)]: Done  42 tasks      | elapsed: 17.9min\n",
      "[Parallel(n_jobs=-1)]: Done 192 tasks      | elapsed: 95.9min\n",
      "[Parallel(n_jobs=-1)]: Done 240 out of 240 | elapsed: 122.1min finished\n"
     ]
    },
    {
     "data": {
      "text/plain": [
       "GridSearchCV(cv=5, estimator=RandomForestClassifier(), n_jobs=-1,\n",
       "             param_grid={'class_weight': [None, 'balanced'],\n",
       "                         'criterion': ['gini', 'entropy'],\n",
       "                         'max_depth': [2, 3, 4], 'max_features': [0.6, 0.7],\n",
       "                         'n_estimators': [100, 500]},\n",
       "             scoring='f1', verbose=1)"
      ]
     },
     "execution_count": 54,
     "metadata": {},
     "output_type": "execute_result"
    }
   ],
   "source": [
    "rf = RandomForestClassifier()\n",
    "grid_tree = GridSearchCV(rf, params, cv=5, scoring='f1', n_jobs =-1, verbose = 1)\n",
    "grid_tree.fit(X_train,y_train)"
   ]
  },
  {
   "cell_type": "code",
   "execution_count": 55,
   "metadata": {},
   "outputs": [
    {
     "name": "stdout",
     "output_type": "stream",
     "text": [
      "0.5356095036901612\n",
      "{'class_weight': 'balanced', 'criterion': 'entropy', 'max_depth': 4, 'max_features': 0.6, 'n_estimators': 500}\n",
      "RandomForestClassifier(class_weight='balanced', criterion='entropy',\n",
      "                       max_depth=4, max_features=0.6, n_estimators=500)\n"
     ]
    }
   ],
   "source": [
    "print(grid_tree.best_score_)\n",
    "\n",
    "print(grid_tree.best_params_)\n",
    "\n",
    "print(grid_tree.best_estimator_)\n"
   ]
  },
  {
   "cell_type": "code",
   "execution_count": 56,
   "metadata": {},
   "outputs": [
    {
     "name": "stdout",
     "output_type": "stream",
     "text": [
      "Accuracy: 0.6653122087604846\n",
      "Training F1: 0.5355843799327432\n",
      "Test F1: 0.5381568455978806\n"
     ]
    }
   ],
   "source": [
    "y_pred_train = grid_tree.best_estimator_.predict(X_train)\n",
    "y_pred_test = grid_tree.best_estimator_.predict(X_test)\n",
    "\n",
    "\n",
    "# checking accuracy\n",
    "print(\"Accuracy:\",metrics.accuracy_score(y_test, y_pred_test))\n",
    "print(\"Training F1:\",metrics.f1_score(y_train, y_pred_train))\n",
    "print(\"Test F1:\",metrics.f1_score(y_test, y_pred_test))\n"
   ]
  },
  {
   "cell_type": "code",
   "execution_count": 59,
   "metadata": {},
   "outputs": [],
   "source": [
    "f1_scores['Random Forest with Grid Search'] = metrics.f1_score(y_test, y_pred_test)"
   ]
  },
  {
   "cell_type": "markdown",
   "metadata": {},
   "source": [
    "### Random Forest with class weight balanced "
   ]
  },
  {
   "cell_type": "code",
   "execution_count": 132,
   "metadata": {},
   "outputs": [
    {
     "name": "stderr",
     "output_type": "stream",
     "text": [
      "[Parallel(n_jobs=-1)]: Using backend ThreadingBackend with 4 concurrent workers.\n",
      "[Parallel(n_jobs=-1)]: Done  42 tasks      | elapsed:    1.8s\n",
      "[Parallel(n_jobs=-1)]: Done 192 tasks      | elapsed:    6.5s\n",
      "[Parallel(n_jobs=-1)]: Done 442 tasks      | elapsed:   15.6s\n",
      "[Parallel(n_jobs=-1)]: Done 500 out of 500 | elapsed:   17.9s finished\n",
      "[Parallel(n_jobs=4)]: Using backend ThreadingBackend with 4 concurrent workers.\n",
      "[Parallel(n_jobs=4)]: Done  42 tasks      | elapsed:    0.4s\n",
      "[Parallel(n_jobs=4)]: Done 192 tasks      | elapsed:    1.4s\n",
      "[Parallel(n_jobs=4)]: Done 442 tasks      | elapsed:    2.9s\n",
      "[Parallel(n_jobs=4)]: Done 500 out of 500 | elapsed:    3.3s finished\n",
      "[Parallel(n_jobs=4)]: Using backend ThreadingBackend with 4 concurrent workers.\n",
      "[Parallel(n_jobs=4)]: Done  42 tasks      | elapsed:    0.1s\n",
      "[Parallel(n_jobs=4)]: Done 192 tasks      | elapsed:    0.5s\n",
      "[Parallel(n_jobs=4)]: Done 442 tasks      | elapsed:    1.0s\n",
      "[Parallel(n_jobs=4)]: Done 500 out of 500 | elapsed:    1.2s finished\n"
     ]
    },
    {
     "name": "stdout",
     "output_type": "stream",
     "text": [
      "Train F1 score:  0.5377603092223839\n",
      "Test F1 score:  0.5403509686839978\n"
     ]
    }
   ],
   "source": [
    "rfc = RandomForestClassifier(class_weight = 'balanced',random_state = 1, n_estimators = 500, max_depth=2, n_jobs = -1, verbose = 1)\n",
    "rfc.fit(X_train, y_train)\n",
    "rfc_preds_train = rfc.predict(X_train)\n",
    "rfc_preds = rfc.predict(X_test)\n",
    "\n",
    "rfc_f1_train = metrics.f1_score(y_train, rfc_preds_train)\n",
    "rfc_f1 = metrics.f1_score(y_test, rfc_preds)\n",
    "print('Train F1 score: ', rfc_f1_train)\n",
    "print('Test F1 score: ', rfc_f1)"
   ]
  },
  {
   "cell_type": "code",
   "execution_count": 142,
   "metadata": {},
   "outputs": [],
   "source": [
    "rf_coef = list(zip(df_features.columns, rfc.feature_importances_))\n",
    "rf_coef = sorted(coef_names, key=lambda x: abs(x[1]), reverse = True)"
   ]
  },
  {
   "cell_type": "code",
   "execution_count": 143,
   "metadata": {},
   "outputs": [
    {
     "data": {
      "text/plain": [
       "[('INJURIES_INCAPACITATING', 1.475666532643523),\n",
       " ('INJURIES_NON_INCAPACITATING INJURIES_REPORTED_NOT_EVIDENT',\n",
       "  1.2574767688074235),\n",
       " ('DAMAGE_OVER $1,500', 0.8740446736753549),\n",
       " ('FIRST_CRASH_TYPE_SIDESWIPE SAME DIRECTION', -0.5497541600504745),\n",
       " ('FIRST_CRASH_TYPE_PEDESTRIAN', 0.537346113896044),\n",
       " ('TRAFFICWAY_TYPE_PARKING LOT', -0.40615565632857964),\n",
       " ('FIRST_CRASH_TYPE_PARKED MOTOR VEHICLE', -0.3725064443424737),\n",
       " ('INJURIES_FATAL', 0.3337314960630069),\n",
       " ('FIRST_CRASH_TYPE_REAR END', -0.31569734520378856),\n",
       " ('FIRST_CRASH_TYPE_PEDALCYCLIST', 0.28118287241499224),\n",
       " ('LIGHTING_CONDITION_DARKNESS, LIGHTED ROAD', 0.22839872934422406),\n",
       " ('INJURIES_FATAL INJURIES_INCAPACITATING', -0.1389535523762259),\n",
       " ('FIRST_CRASH_TYPE_TURNING', -0.1364874542930861),\n",
       " ('TRAFFICWAY_TYPE_INTERSECTION', 0.1326609231886395),\n",
       " ('INJURIES_INCAPACITATING INJURIES_NON_INCAPACITATING', 0.13026713361000572)]"
      ]
     },
     "execution_count": 143,
     "metadata": {},
     "output_type": "execute_result"
    }
   ],
   "source": [
    "rf_coef[0:15]"
   ]
  },
  {
   "cell_type": "code",
   "execution_count": null,
   "metadata": {},
   "outputs": [],
   "source": []
  },
  {
   "cell_type": "code",
   "execution_count": 57,
   "metadata": {},
   "outputs": [],
   "source": [
    "f1_scores['Random Forest with class balance'] = rfc_f1"
   ]
  },
  {
   "cell_type": "code",
   "execution_count": 60,
   "metadata": {},
   "outputs": [
    {
     "data": {
      "text/plain": [
       "{'Logistic with Lasso': 0.37999828262300706,\n",
       " 'Logistic without Lasso': 0.4760725855303011,\n",
       " 'Logistic with class weight balanced': 0.5725368972936933,\n",
       " 'Decision Tree': 0.5663952768652099,\n",
       " 'Random Forest': 0.07357204714032908,\n",
       " 'Random Forest with class balance': 0.5403509686839978,\n",
       " 'Random Forest with Grid Search': 0.5381568455978806}"
      ]
     },
     "execution_count": 60,
     "metadata": {},
     "output_type": "execute_result"
    }
   ],
   "source": [
    "f1_scores"
   ]
  },
  {
   "cell_type": "markdown",
   "metadata": {},
   "source": [
    "### Decision Tree with Grid Search"
   ]
  },
  {
   "cell_type": "code",
   "execution_count": 64,
   "metadata": {},
   "outputs": [],
   "source": [
    "dcg = DecisionTreeClassifier(class_weight='balanced',random_state=1)"
   ]
  },
  {
   "cell_type": "code",
   "execution_count": 65,
   "metadata": {},
   "outputs": [],
   "source": [
    "parameters = {'criterion': ['gini', 'entropy'],\n",
    "            'max_depth': range(1,10,2),\n",
    "              'max_features': [0.5,0.6,0.7,0.8]\n",
    "        }"
   ]
  },
  {
   "cell_type": "code",
   "execution_count": 66,
   "metadata": {},
   "outputs": [
    {
     "name": "stdout",
     "output_type": "stream",
     "text": [
      "Fitting 10 folds for each of 40 candidates, totalling 400 fits\n"
     ]
    },
    {
     "name": "stderr",
     "output_type": "stream",
     "text": [
      "[Parallel(n_jobs=-1)]: Using backend LokyBackend with 4 concurrent workers.\n",
      "[Parallel(n_jobs=-1)]: Done  42 tasks      | elapsed:   14.6s\n",
      "[Parallel(n_jobs=-1)]: Done 192 tasks      | elapsed:  1.3min\n",
      "[Parallel(n_jobs=-1)]: Done 400 out of 400 | elapsed:  2.7min finished\n"
     ]
    },
    {
     "data": {
      "text/plain": [
       "GridSearchCV(cv=10,\n",
       "             estimator=DecisionTreeClassifier(class_weight='balanced',\n",
       "                                              random_state=1),\n",
       "             n_jobs=-1,\n",
       "             param_grid={'criterion': ['gini', 'entropy'],\n",
       "                         'max_depth': range(1, 10, 2),\n",
       "                         'max_features': [0.5, 0.6, 0.7, 0.8]},\n",
       "             scoring='f1', verbose=1)"
      ]
     },
     "execution_count": 66,
     "metadata": {},
     "output_type": "execute_result"
    }
   ],
   "source": [
    "grid_tree = GridSearchCV(dcg, parameters, cv=10, scoring='f1', verbose = 1, n_jobs = -1)\n",
    "grid_tree.fit(X_train,y_train)"
   ]
  },
  {
   "cell_type": "code",
   "execution_count": 67,
   "metadata": {},
   "outputs": [
    {
     "name": "stdout",
     "output_type": "stream",
     "text": [
      "0.5694184843920206\n",
      "{'criterion': 'entropy', 'max_depth': 9, 'max_features': 0.7}\n",
      "DecisionTreeClassifier(class_weight='balanced', criterion='entropy',\n",
      "                       max_depth=9, max_features=0.7, random_state=1)\n"
     ]
    }
   ],
   "source": [
    "print(grid_tree.best_score_)\n",
    "print(grid_tree.best_params_)\n",
    "print(grid_tree.best_estimator_)"
   ]
  },
  {
   "cell_type": "code",
   "execution_count": 68,
   "metadata": {},
   "outputs": [
    {
     "name": "stdout",
     "output_type": "stream",
     "text": [
      "Accuracy: 0.7107176141658901\n",
      "F1 train: 0.5563545515859067\n",
      "F1 test: 0.5578221601755036\n"
     ]
    }
   ],
   "source": [
    "y_pred_test = grid_tree.best_estimator_.predict(X_test)\n",
    "y_pred_train = grid_tree.best_estimator_.predict(X_train)\n",
    "dcg_train = metrics.f1_score(y_train, y_pred_train)\n",
    "dcg = metrics.f1_score(y_test, y_pred_test)\n",
    "print(\"Accuracy:\",metrics.accuracy_score(y_test, y_pred_test))\n",
    "print(\"F1 train:\",dcg_train)\n",
    "print(\"F1 test:\",dcg)"
   ]
  },
  {
   "cell_type": "code",
   "execution_count": 69,
   "metadata": {},
   "outputs": [],
   "source": [
    "f1_scores['Decision tree with grid search'] = dcg"
   ]
  },
  {
   "cell_type": "code",
   "execution_count": 70,
   "metadata": {},
   "outputs": [
    {
     "data": {
      "text/plain": [
       "{'Logistic with Lasso': 0.37999828262300706,\n",
       " 'Logistic without Lasso': 0.4760725855303011,\n",
       " 'Logistic with class weight balanced': 0.5725368972936933,\n",
       " 'Decision Tree': 0.5663952768652099,\n",
       " 'Random Forest': 0.07357204714032908,\n",
       " 'Random Forest with class balance': 0.5403509686839978,\n",
       " 'Random Forest with Grid Search': 0.5381568455978806,\n",
       " 'Decision tree with grid search': 0.5578221601755036}"
      ]
     },
     "execution_count": 70,
     "metadata": {},
     "output_type": "execute_result"
    }
   ],
   "source": [
    "f1_scores"
   ]
  },
  {
   "cell_type": "markdown",
   "metadata": {},
   "source": [
    "### XG Boost"
   ]
  },
  {
   "cell_type": "code",
   "execution_count": 74,
   "metadata": {},
   "outputs": [
    {
     "data": {
      "text/plain": [
       "XGBClassifier(alpha=1, base_score=0.5, booster='gbtree', colsample_bylevel=1,\n",
       "              colsample_bynode=1, colsample_bytree=0.5, gamma=0, gpu_id=-1,\n",
       "              importance_type='gain', interaction_constraints='',\n",
       "              learning_rate=0.1, max_delta_step=0, max_depth=4,\n",
       "              min_child_weight=1, missing=nan, monotone_constraints='()',\n",
       "              n_estimators=1000, n_jobs=0, num_parallel_tree=1, random_state=0,\n",
       "              reg_alpha=1, reg_lambda=1, scale_pos_weight=1, subsample=0.5,\n",
       "              tree_method='exact', validate_parameters=1, verbosity=None)"
      ]
     },
     "execution_count": 74,
     "metadata": {},
     "output_type": "execute_result"
    }
   ],
   "source": [
    "xg_clf = xgb.XGBClassifier(objective ='binary:logistic', \n",
    "                           colsample_bytree = 0.5, \n",
    "                           subsample = 0.5,\n",
    "                           learning_rate = 0.1,\n",
    "                           max_depth = 4, \n",
    "                           alpha = 1, \n",
    "                           n_estimators = 1000)\n",
    "xg_clf.fit(X_train,y_train)"
   ]
  },
  {
   "cell_type": "code",
   "execution_count": 77,
   "metadata": {},
   "outputs": [
    {
     "name": "stdout",
     "output_type": "stream",
     "text": [
      "Accuracy: 0.815974\n",
      "F1 Test: 0.483062\n",
      "F1 Train: 0.483062\n"
     ]
    }
   ],
   "source": [
    "preds_train = xg_clf.predict(X_train)\n",
    "preds_test = xg_clf.predict(X_test)\n",
    "\n",
    "xg_f1 = metrics.f1_score(y_test, preds_test)\n",
    "xg_f1_train = metrics.f1_score(y_train, preds_train)\n",
    "xg_acc = metrics.accuracy_score(y_test, preds_test)\n",
    "\n",
    "print(\"Accuracy: %f\" % (xg_acc))\n",
    "print(\"F1 Test: %f\" % (xg_f1))\n",
    "print(\"F1 Train: %f\" % (xg_f1))"
   ]
  },
  {
   "cell_type": "code",
   "execution_count": 78,
   "metadata": {},
   "outputs": [
    {
     "data": {
      "text/plain": [
       "{'Logistic with Lasso': 0.37999828262300706,\n",
       " 'Logistic without Lasso': 0.4760725855303011,\n",
       " 'Logistic with class weight balanced': 0.5725368972936933,\n",
       " 'Decision Tree': 0.5663952768652099,\n",
       " 'Random Forest': 0.07357204714032908,\n",
       " 'Random Forest with class balance': 0.5403509686839978,\n",
       " 'Random Forest with Grid Search': 0.5381568455978806,\n",
       " 'Decision tree with grid search': 0.5578221601755036,\n",
       " 'XG Boost': 0.48306194041572853}"
      ]
     },
     "execution_count": 78,
     "metadata": {},
     "output_type": "execute_result"
    }
   ],
   "source": [
    "f1_scores['XG Boost'] = xg_f1\n",
    "f1_scores"
   ]
  },
  {
   "cell_type": "markdown",
   "metadata": {},
   "source": [
    "### XG Boost with Grid Search"
   ]
  },
  {
   "cell_type": "code",
   "execution_count": 85,
   "metadata": {},
   "outputs": [],
   "source": [
    "clf_xgb = xgb.XGBClassifier(objective = \"binary:logistic\")\n",
    "param_dist = {'max_depth':[2,3],\n",
    "              'eta':[0.1,0.2,],\n",
    "              'n_estimators':[100, 200],\n",
    "              'colsample_bytree':[ 0.6, 0.7],\n",
    "              'learning_rate': [0.1, 0.2, 0.5]\n",
    "             }"
   ]
  },
  {
   "cell_type": "code",
   "execution_count": 86,
   "metadata": {},
   "outputs": [
    {
     "name": "stdout",
     "output_type": "stream",
     "text": [
      "Fitting 5 folds for each of 48 candidates, totalling 240 fits\n"
     ]
    },
    {
     "name": "stderr",
     "output_type": "stream",
     "text": [
      "[Parallel(n_jobs=-1)]: Using backend LokyBackend with 4 concurrent workers.\n",
      "[Parallel(n_jobs=-1)]: Done  42 tasks      | elapsed: 23.8min\n",
      "[Parallel(n_jobs=-1)]: Done 192 tasks      | elapsed: 99.2min\n",
      "[Parallel(n_jobs=-1)]: Done 240 out of 240 | elapsed: 135.0min finished\n",
      "/Users/singh/opt/anaconda3/lib/python3.7/site-packages/sklearn/model_selection/_search.py:849: FutureWarning: The parameter 'iid' is deprecated in 0.22 and will be removed in 0.24.\n",
      "  \"removed in 0.24.\", FutureWarning\n"
     ]
    },
    {
     "data": {
      "text/plain": [
       "GridSearchCV(cv=5,\n",
       "             estimator=XGBClassifier(base_score=None, booster=None,\n",
       "                                     colsample_bylevel=None,\n",
       "                                     colsample_bynode=None,\n",
       "                                     colsample_bytree=None, gamma=None,\n",
       "                                     gpu_id=None, importance_type='gain',\n",
       "                                     interaction_constraints=None,\n",
       "                                     learning_rate=None, max_delta_step=None,\n",
       "                                     max_depth=None, min_child_weight=None,\n",
       "                                     missing=nan, monotone_constraints=None,\n",
       "                                     n_estimators=100, n_jobs=None,\n",
       "                                     num_parallel_tree=None, random_state=None,\n",
       "                                     reg_alpha=None, reg_lambda=None,\n",
       "                                     scale_pos_weight=None, subsample=None,\n",
       "                                     tree_method=None, validate_parameters=None,\n",
       "                                     verbosity=None),\n",
       "             iid=False, n_jobs=-1,\n",
       "             param_grid={'colsample_bytree': [0.6, 0.7], 'eta': [0.1, 0.2],\n",
       "                         'learning_rate': [0.1, 0.2, 0.5], 'max_depth': [2, 3],\n",
       "                         'n_estimators': [100, 200]},\n",
       "             scoring='f1', verbose=1)"
      ]
     },
     "execution_count": 86,
     "metadata": {},
     "output_type": "execute_result"
    }
   ],
   "source": [
    "gsearch1 = GridSearchCV(\n",
    "    estimator = clf_xgb,\n",
    "    param_grid = param_dist, \n",
    "    scoring='f1',\n",
    "    n_jobs=-1,\n",
    "    verbose=1,\n",
    "    iid=False, \n",
    "    cv=5)\n",
    "gsearch1.fit(X_train,y_train)"
   ]
  },
  {
   "cell_type": "code",
   "execution_count": 87,
   "metadata": {},
   "outputs": [
    {
     "data": {
      "text/plain": [
       "{'colsample_bytree': 0.6,\n",
       " 'eta': 0.1,\n",
       " 'learning_rate': 0.5,\n",
       " 'max_depth': 3,\n",
       " 'n_estimators': 200}"
      ]
     },
     "execution_count": 87,
     "metadata": {},
     "output_type": "execute_result"
    }
   ],
   "source": [
    "gsearch1.best_params_"
   ]
  },
  {
   "cell_type": "code",
   "execution_count": 88,
   "metadata": {},
   "outputs": [
    {
     "data": {
      "text/plain": [
       "0.4836650010679252"
      ]
     },
     "execution_count": 88,
     "metadata": {},
     "output_type": "execute_result"
    }
   ],
   "source": [
    "gsearch1.best_score_"
   ]
  },
  {
   "cell_type": "code",
   "execution_count": 89,
   "metadata": {},
   "outputs": [],
   "source": [
    "f1_scores['XG Boost with Grid Search'] = gsearch1.best_score_"
   ]
  },
  {
   "cell_type": "code",
   "execution_count": 90,
   "metadata": {},
   "outputs": [
    {
     "data": {
      "text/plain": [
       "{'Logistic with Lasso': 0.37999828262300706,\n",
       " 'Logistic without Lasso': 0.4760725855303011,\n",
       " 'Logistic with class weight balanced': 0.5725368972936933,\n",
       " 'Decision Tree': 0.5663952768652099,\n",
       " 'Random Forest': 0.07357204714032908,\n",
       " 'Random Forest with class balance': 0.5403509686839978,\n",
       " 'Random Forest with Grid Search': 0.5381568455978806,\n",
       " 'Decision tree with grid search': 0.5578221601755036,\n",
       " 'XG Boost': 0.48306194041572853,\n",
       " 'XG Boost with Grid Search': 0.4836650010679252}"
      ]
     },
     "execution_count": 90,
     "metadata": {},
     "output_type": "execute_result"
    }
   ],
   "source": [
    "f1_scores"
   ]
  },
  {
   "cell_type": "markdown",
   "metadata": {},
   "source": [
    "### Logistic Regression with Grid Search"
   ]
  },
  {
   "cell_type": "code",
   "execution_count": 150,
   "metadata": {},
   "outputs": [],
   "source": [
    "params = { \n",
    "    'C': [0.01,0.1,1],\n",
    "    'penalty': ['l1', 'l2', 'elasticnet', 'none'],\n",
    "    'max_iter': [100,200,300,500]}\n"
   ]
  },
  {
   "cell_type": "code",
   "execution_count": 151,
   "metadata": {},
   "outputs": [
    {
     "name": "stdout",
     "output_type": "stream",
     "text": [
      "Fitting 10 folds for each of 48 candidates, totalling 480 fits\n"
     ]
    },
    {
     "name": "stderr",
     "output_type": "stream",
     "text": [
      "[Parallel(n_jobs=-1)]: Using backend LokyBackend with 4 concurrent workers.\n",
      "[Parallel(n_jobs=-1)]: Done  42 tasks      | elapsed:   37.6s\n",
      "[Parallel(n_jobs=-1)]: Done 192 tasks      | elapsed:  2.6min\n",
      "[Parallel(n_jobs=-1)]: Done 442 tasks      | elapsed:  8.6min\n",
      "[Parallel(n_jobs=-1)]: Done 480 out of 480 | elapsed:  9.5min finished\n"
     ]
    }
   ],
   "source": [
    "lr_clf_grid = LogisticRegression(solver='liblinear', class_weight = 'balanced')\n",
    "\n",
    "grid_search_lr = GridSearchCV(estimator = lr_clf_grid, param_grid = params, scoring='f1', cv=10, n_jobs=-1, verbose = 1)\n",
    "grid_search_lr = grid_search_lr.fit(X_train,y_train)\n"
   ]
  },
  {
   "cell_type": "code",
   "execution_count": 152,
   "metadata": {},
   "outputs": [
    {
     "data": {
      "text/plain": [
       "0.5709971332139474"
      ]
     },
     "execution_count": 152,
     "metadata": {},
     "output_type": "execute_result"
    }
   ],
   "source": [
    "grid_search_lr.best_score_"
   ]
  },
  {
   "cell_type": "code",
   "execution_count": 153,
   "metadata": {},
   "outputs": [
    {
     "data": {
      "text/plain": [
       "{'C': 1, 'max_iter': 100, 'penalty': 'l1'}"
      ]
     },
     "execution_count": 153,
     "metadata": {},
     "output_type": "execute_result"
    }
   ],
   "source": [
    "grid_search_lr.best_params_"
   ]
  },
  {
   "cell_type": "code",
   "execution_count": 154,
   "metadata": {},
   "outputs": [],
   "source": [
    "f1_scores['Logistic Regression with Grid Search'] = grid_search_lr.best_score_"
   ]
  },
  {
   "cell_type": "code",
   "execution_count": 155,
   "metadata": {},
   "outputs": [
    {
     "data": {
      "text/plain": [
       "{'Logistic with Lasso': 0.37999828262300706,\n",
       " 'Logistic without Lasso': 0.4760725855303011,\n",
       " 'Logistic with class weight balanced': 0.5725368972936933,\n",
       " 'Decision Tree': 0.5663952768652099,\n",
       " 'Random Forest': 0.07357204714032908,\n",
       " 'Random Forest with class balance': 0.5403509686839978,\n",
       " 'Random Forest with Grid Search': 0.5381568455978806,\n",
       " 'Decision tree with grid search': 0.5578221601755036,\n",
       " 'XG Boost': 0.48306194041572853,\n",
       " 'XG Boost with Grid Search': 0.4836650010679252,\n",
       " 'Logistic Regression with Grid Search': 0.5709971332139474}"
      ]
     },
     "execution_count": 155,
     "metadata": {},
     "output_type": "execute_result"
    }
   ],
   "source": [
    "f1_scores"
   ]
  },
  {
   "cell_type": "markdown",
   "metadata": {},
   "source": [
    "### Voting Classifier"
   ]
  },
  {
   "cell_type": "code",
   "execution_count": 157,
   "metadata": {},
   "outputs": [],
   "source": [
    "X_train, X_test, y_train, y_test = train_test_split(df_features, target, random_state=1)\n",
    "scaler = StandardScaler()"
   ]
  },
  {
   "cell_type": "code",
   "execution_count": 160,
   "metadata": {},
   "outputs": [],
   "source": [
    "lrv = LogisticRegression(solver='liblinear', class_weight = 'balanced')\n",
    "dtv = DecisionTreeClassifier(class_weight='balanced')\n",
    "rfv = RandomForestClassifier(class_weight = 'balanced',random_state = 1, n_estimators = 500, max_depth=2, n_jobs = -1, verbose = 1)\n"
   ]
  },
  {
   "cell_type": "code",
   "execution_count": 162,
   "metadata": {},
   "outputs": [
    {
     "data": {
      "text/plain": [
       "VotingClassifier(estimators=[('Logistic Regression',\n",
       "                              LogisticRegression(class_weight='balanced',\n",
       "                                                 solver='liblinear')),\n",
       "                             ('Decision tree',\n",
       "                              DecisionTreeClassifier(class_weight='balanced')),\n",
       "                             ('Random Forest',\n",
       "                              RandomForestClassifier(class_weight='balanced',\n",
       "                                                     max_depth=2,\n",
       "                                                     n_estimators=500,\n",
       "                                                     n_jobs=-1, random_state=1,\n",
       "                                                     verbose=1))],\n",
       "                 n_jobs=-1, verbose=1)"
      ]
     },
     "execution_count": 162,
     "metadata": {},
     "output_type": "execute_result"
    }
   ],
   "source": [
    "voting_clf = VotingClassifier(\n",
    "                estimators=[('Logistic Regression', lrv), ('Decision tree', dtv), ('Random Forest', rfv)], \n",
    "                voting='hard', n_jobs = -1, verbose = 1 )\n",
    "\n",
    "voting_clf.fit(X_train, y_train)"
   ]
  },
  {
   "cell_type": "code",
   "execution_count": 163,
   "metadata": {},
   "outputs": [
    {
     "name": "stderr",
     "output_type": "stream",
     "text": [
      "[Parallel(n_jobs=4)]: Using backend ThreadingBackend with 4 concurrent workers.\n",
      "[Parallel(n_jobs=4)]: Done  42 tasks      | elapsed:    0.6s\n",
      "[Parallel(n_jobs=4)]: Done 192 tasks      | elapsed:    1.6s\n",
      "[Parallel(n_jobs=4)]: Done 442 tasks      | elapsed:    3.2s\n",
      "[Parallel(n_jobs=4)]: Done 500 out of 500 | elapsed:    3.6s finished\n",
      "[Parallel(n_jobs=4)]: Using backend ThreadingBackend with 4 concurrent workers.\n",
      "[Parallel(n_jobs=4)]: Done  42 tasks      | elapsed:    0.1s\n",
      "[Parallel(n_jobs=4)]: Done 192 tasks      | elapsed:    1.0s\n",
      "[Parallel(n_jobs=4)]: Done 442 tasks      | elapsed:    1.8s\n",
      "[Parallel(n_jobs=4)]: Done 500 out of 500 | elapsed:    2.0s finished\n"
     ]
    }
   ],
   "source": [
    "vc_preds_train = voting_clf.predict(X_train)\n",
    "vc_preds_test = voting_clf.predict(X_test)"
   ]
  },
  {
   "cell_type": "code",
   "execution_count": 164,
   "metadata": {},
   "outputs": [],
   "source": [
    "vc_f1_train = metrics.f1_score(y_train, vc_preds_train)\n",
    "vc_f1_test = metrics.f1_score(y_test, vc_preds_test)"
   ]
  },
  {
   "cell_type": "code",
   "execution_count": 165,
   "metadata": {},
   "outputs": [
    {
     "name": "stdout",
     "output_type": "stream",
     "text": [
      "f1 train:  0.5764415838983137\n",
      "f1 test:  0.5720076840465278\n"
     ]
    }
   ],
   "source": [
    "print('f1 train: ', vc_f1_train )\n",
    "print('f1 test: ', vc_f1_test )"
   ]
  },
  {
   "cell_type": "code",
   "execution_count": 167,
   "metadata": {},
   "outputs": [
    {
     "data": {
      "text/plain": [
       "{'Logistic with Lasso': 0.37999828262300706,\n",
       " 'Logistic without Lasso': 0.4760725855303011,\n",
       " 'Logistic with class weight balanced': 0.5725368972936933,\n",
       " 'Decision Tree': 0.5663952768652099,\n",
       " 'Random Forest': 0.07357204714032908,\n",
       " 'Random Forest with class balance': 0.5403509686839978,\n",
       " 'Random Forest with Grid Search': 0.5381568455978806,\n",
       " 'Decision tree with grid search': 0.5578221601755036,\n",
       " 'XG Boost': 0.48306194041572853,\n",
       " 'XG Boost with Grid Search': 0.4836650010679252,\n",
       " 'Logistic Regression with Grid Search': 0.5709971332139474,\n",
       " 'Voting Classifier': 0.5720076840465278}"
      ]
     },
     "execution_count": 167,
     "metadata": {},
     "output_type": "execute_result"
    }
   ],
   "source": [
    "f1_scores['Voting Classifier'] = vc_f1_test\n",
    "f1_scores"
   ]
  },
  {
   "cell_type": "code",
   "execution_count": 185,
   "metadata": {},
   "outputs": [],
   "source": [
    "f1_scores['Bagging Classifier for Logistic'] = 0.36281786105365615"
   ]
  },
  {
   "cell_type": "code",
   "execution_count": 186,
   "metadata": {},
   "outputs": [],
   "source": [
    "scores = pd.DataFrame.from_dict(f1_scores,orient='index',columns = ['f1-score'])"
   ]
  },
  {
   "cell_type": "code",
   "execution_count": 187,
   "metadata": {},
   "outputs": [
    {
     "data": {
      "text/html": [
       "<div>\n",
       "<style scoped>\n",
       "    .dataframe tbody tr th:only-of-type {\n",
       "        vertical-align: middle;\n",
       "    }\n",
       "\n",
       "    .dataframe tbody tr th {\n",
       "        vertical-align: top;\n",
       "    }\n",
       "\n",
       "    .dataframe thead th {\n",
       "        text-align: right;\n",
       "    }\n",
       "</style>\n",
       "<table border=\"1\" class=\"dataframe\">\n",
       "  <thead>\n",
       "    <tr style=\"text-align: right;\">\n",
       "      <th></th>\n",
       "      <th>f1-score</th>\n",
       "    </tr>\n",
       "  </thead>\n",
       "  <tbody>\n",
       "    <tr>\n",
       "      <th>Logistic with class weight balanced</th>\n",
       "      <td>0.572537</td>\n",
       "    </tr>\n",
       "    <tr>\n",
       "      <th>Voting Classifier</th>\n",
       "      <td>0.572008</td>\n",
       "    </tr>\n",
       "    <tr>\n",
       "      <th>Logistic Regression with Grid Search</th>\n",
       "      <td>0.570997</td>\n",
       "    </tr>\n",
       "    <tr>\n",
       "      <th>Decision Tree</th>\n",
       "      <td>0.566395</td>\n",
       "    </tr>\n",
       "    <tr>\n",
       "      <th>Decision tree with grid search</th>\n",
       "      <td>0.557822</td>\n",
       "    </tr>\n",
       "    <tr>\n",
       "      <th>Random Forest with class balance</th>\n",
       "      <td>0.540351</td>\n",
       "    </tr>\n",
       "    <tr>\n",
       "      <th>Random Forest with Grid Search</th>\n",
       "      <td>0.538157</td>\n",
       "    </tr>\n",
       "    <tr>\n",
       "      <th>XG Boost with Grid Search</th>\n",
       "      <td>0.483665</td>\n",
       "    </tr>\n",
       "    <tr>\n",
       "      <th>XG Boost</th>\n",
       "      <td>0.483062</td>\n",
       "    </tr>\n",
       "    <tr>\n",
       "      <th>Logistic without Lasso</th>\n",
       "      <td>0.476073</td>\n",
       "    </tr>\n",
       "    <tr>\n",
       "      <th>Logistic with Lasso</th>\n",
       "      <td>0.379998</td>\n",
       "    </tr>\n",
       "    <tr>\n",
       "      <th>Bagging Classifier for Logistic</th>\n",
       "      <td>0.362818</td>\n",
       "    </tr>\n",
       "    <tr>\n",
       "      <th>Random Forest</th>\n",
       "      <td>0.073572</td>\n",
       "    </tr>\n",
       "  </tbody>\n",
       "</table>\n",
       "</div>"
      ],
      "text/plain": [
       "                                      f1-score\n",
       "Logistic with class weight balanced   0.572537\n",
       "Voting Classifier                     0.572008\n",
       "Logistic Regression with Grid Search  0.570997\n",
       "Decision Tree                         0.566395\n",
       "Decision tree with grid search        0.557822\n",
       "Random Forest with class balance      0.540351\n",
       "Random Forest with Grid Search        0.538157\n",
       "XG Boost with Grid Search             0.483665\n",
       "XG Boost                              0.483062\n",
       "Logistic without Lasso                0.476073\n",
       "Logistic with Lasso                   0.379998\n",
       "Bagging Classifier for Logistic       0.362818\n",
       "Random Forest                         0.073572"
      ]
     },
     "execution_count": 187,
     "metadata": {},
     "output_type": "execute_result"
    }
   ],
   "source": [
    "scores.sort_values(by = 'f1-score', ascending = False)"
   ]
  },
  {
   "cell_type": "code",
   "execution_count": null,
   "metadata": {},
   "outputs": [],
   "source": []
  }
 ],
 "metadata": {
  "kernelspec": {
   "display_name": "Python 3",
   "language": "python",
   "name": "python3"
  },
  "language_info": {
   "codemirror_mode": {
    "name": "ipython",
    "version": 3
   },
   "file_extension": ".py",
   "mimetype": "text/x-python",
   "name": "python",
   "nbconvert_exporter": "python",
   "pygments_lexer": "ipython3",
   "version": "3.7.6"
  }
 },
 "nbformat": 4,
 "nbformat_minor": 4
}
