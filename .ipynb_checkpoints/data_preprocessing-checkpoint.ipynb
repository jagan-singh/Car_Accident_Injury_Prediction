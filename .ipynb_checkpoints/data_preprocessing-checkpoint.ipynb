{
 "cells": [
  {
   "cell_type": "code",
   "execution_count": 1,
   "metadata": {},
   "outputs": [],
   "source": [
    "import pandas as pd\n",
    "import numpy as np\n",
    "import matplotlib.pyplot as plt\n",
    "import seaborn as sns\n",
    "from scipy.stats import chi2_contingency\n",
    "from statsmodels.stats.proportion import proportions_ztest\n",
    "from statsmodels.stats.outliers_influence import variance_inflation_factor\n",
    "from sklearn.preprocessing import PolynomialFeatures\n",
    "pd.set_option('display.max_columns', None)\n",
    "pd.set_option('display.max_rows', None)\n",
    "plt.rcParams.update({'font.size': 12})"
   ]
  },
  {
   "cell_type": "markdown",
   "metadata": {},
   "source": [
    "## Data Cleaning"
   ]
  },
  {
   "cell_type": "code",
   "execution_count": 2,
   "metadata": {},
   "outputs": [
    {
     "name": "stdout",
     "output_type": "stream",
     "text": [
      "original shape (431257, 49)\n"
     ]
    }
   ],
   "source": [
    "# read in the df\n",
    "df = pd.read_csv('Traffic_Crashes_-_Crashes.csv')\n",
    "\n",
    "# original shape of df\n",
    "print('original shape', df.shape) "
   ]
  },
  {
   "cell_type": "markdown",
   "metadata": {},
   "source": [
    " - Target variable is the 'CRASH_TYPE' column which will be renamed 'SEVERE'\n",
    " - The severity of the crash will be determined on whether or not their is an injury / a car being towed\n",
    " - This column will be a binary column with 0 representing no injury and 1 representing an injury"
   ]
  },
  {
   "cell_type": "code",
   "execution_count": 3,
   "metadata": {},
   "outputs": [],
   "source": [
    "# rename column\n",
    "df.rename(columns = {'CRASH_TYPE': 'SEVERE'}, inplace = True) \n",
    "df.SEVERE = df.SEVERE.replace({'NO INJURY / DRIVE AWAY':0,'INJURY AND / OR TOW DUE TO CRASH':1})"
   ]
  },
  {
   "cell_type": "code",
   "execution_count": 4,
   "metadata": {},
   "outputs": [
    {
     "data": {
      "text/plain": [
       "0    328403\n",
       "1    102854\n",
       "Name: SEVERE, dtype: int64"
      ]
     },
     "execution_count": 4,
     "metadata": {},
     "output_type": "execute_result"
    }
   ],
   "source": [
    "df.SEVERE.value_counts()"
   ]
  },
  {
   "cell_type": "markdown",
   "metadata": {},
   "source": [
    "###### Dropped the inconclusive columns and the null values"
   ]
  },
  {
   "cell_type": "code",
   "execution_count": 5,
   "metadata": {},
   "outputs": [
    {
     "name": "stdout",
     "output_type": "stream",
     "text": [
      "new shape (431257, 23)\n"
     ]
    }
   ],
   "source": [
    "to_drop = ['CRASH_DATE_EST_I', 'RD_NO', 'LANE_CNT', 'REPORT_TYPE', 'INTERSECTION_RELATED_I', 'NOT_RIGHT_OF_WAY_I',\n",
    "           'HIT_AND_RUN_I','DATE_POLICE_NOTIFIED', 'STREET_NO','STREET_DIRECTION', 'BEAT_OF_OCCURRENCE',\n",
    "           'PHOTOS_TAKEN_I','STATEMENTS_TAKEN_I', 'DOORING_I', 'WORK_ZONE_I', 'WORK_ZONE_TYPE', 'WORKERS_PRESENT_I',\n",
    "           'LATITUDE', 'LONGITUDE','LOCATION','CRASH_RECORD_ID','INJURIES_UNKNOWN','ALIGNMENT','SEC_CONTRIBUTORY_CAUSE',\n",
    "           'DEVICE_CONDITION', 'STREET_NAME']\n",
    "df.drop(columns = to_drop, inplace = True)\n",
    "\n",
    "# New shape of df after dropped columns \n",
    "print('new shape', df.shape) "
   ]
  },
  {
   "cell_type": "code",
   "execution_count": 6,
   "metadata": {},
   "outputs": [
    {
     "name": "stdout",
     "output_type": "stream",
     "text": [
      "new shape (430398, 23)\n"
     ]
    }
   ],
   "source": [
    "df.drop(df[df.MOST_SEVERE_INJURY.isna()].index, inplace = True)\n",
    "# New shape of df after dropped columns \n",
    "print('new shape', df.shape) "
   ]
  },
  {
   "cell_type": "markdown",
   "metadata": {},
   "source": [
    "###### Changed the dtype of the 'CRASH_DATE' column"
   ]
  },
  {
   "cell_type": "code",
   "execution_count": 7,
   "metadata": {},
   "outputs": [],
   "source": [
    "df['CRASH_DATE'] = pd.to_datetime(df.CRASH_DATE)"
   ]
  },
  {
   "cell_type": "markdown",
   "metadata": {},
   "source": [
    "###### Capped some values from certain continuous columns"
   ]
  },
  {
   "cell_type": "code",
   "execution_count": 8,
   "metadata": {},
   "outputs": [
    {
     "name": "stdout",
     "output_type": "stream",
     "text": [
      "2     380492\n",
      "3      22342\n",
      "1      22057\n",
      "4       4105\n",
      "5        958\n",
      "6        271\n",
      "7        100\n",
      "8         36\n",
      "9         18\n",
      "10        10\n",
      "11         3\n",
      "12         2\n",
      "18         1\n",
      "16         1\n",
      "15         1\n",
      "14         1\n",
      "Name: NUM_UNITS, dtype: int64\n",
      "2    380492\n",
      "3     22342\n",
      "1     22057\n",
      "4      5507\n",
      "Name: NUM_UNITS, dtype: int64\n"
     ]
    }
   ],
   "source": [
    "# capped at 4\n",
    "print(df['NUM_UNITS'].value_counts())\n",
    "df['NUM_UNITS'].values[df['NUM_UNITS'] > 4] = 4\n",
    "print(df['NUM_UNITS'].value_counts())"
   ]
  },
  {
   "cell_type": "code",
   "execution_count": 9,
   "metadata": {},
   "outputs": [
    {
     "name": "stdout",
     "output_type": "stream",
     "text": [
      "0.0     376045\n",
      "1.0      41234\n",
      "2.0       8825\n",
      "3.0       2702\n",
      "4.0        969\n",
      "5.0        362\n",
      "6.0        149\n",
      "7.0         55\n",
      "8.0         17\n",
      "9.0         14\n",
      "10.0         8\n",
      "15.0         5\n",
      "11.0         5\n",
      "12.0         2\n",
      "13.0         2\n",
      "21.0         2\n",
      "16.0         1\n",
      "19.0         1\n",
      "Name: INJURIES_TOTAL, dtype: int64\n",
      "0.0    376045\n",
      "1.0     41234\n",
      "2.0      8825\n",
      "3.0      2702\n",
      "4.0      1592\n",
      "Name: INJURIES_TOTAL, dtype: int64\n"
     ]
    }
   ],
   "source": [
    "# capped at 4\n",
    "print(df['INJURIES_TOTAL'].value_counts())\n",
    "df['INJURIES_TOTAL'].values[df['INJURIES_TOTAL'] > 4] = 4\n",
    "print(df['INJURIES_TOTAL'].value_counts())"
   ]
  },
  {
   "cell_type": "code",
   "execution_count": 10,
   "metadata": {},
   "outputs": [
    {
     "name": "stdout",
     "output_type": "stream",
     "text": [
      "2.0     203208\n",
      "1.0     126731\n",
      "3.0      55765\n",
      "4.0      21375\n",
      "5.0       9069\n",
      "0.0       7518\n",
      "6.0       3875\n",
      "7.0       1483\n",
      "8.0        673\n",
      "9.0        284\n",
      "10.0       146\n",
      "11.0        69\n",
      "12.0        41\n",
      "14.0        27\n",
      "13.0        26\n",
      "16.0        16\n",
      "15.0        14\n",
      "17.0        10\n",
      "20.0         9\n",
      "21.0         6\n",
      "37.0         5\n",
      "27.0         4\n",
      "26.0         4\n",
      "19.0         4\n",
      "30.0         4\n",
      "18.0         4\n",
      "22.0         4\n",
      "36.0         3\n",
      "42.0         3\n",
      "31.0         3\n",
      "28.0         2\n",
      "29.0         2\n",
      "40.0         2\n",
      "38.0         1\n",
      "39.0         1\n",
      "46.0         1\n",
      "34.0         1\n",
      "25.0         1\n",
      "33.0         1\n",
      "50.0         1\n",
      "61.0         1\n",
      "24.0         1\n",
      "Name: INJURIES_NO_INDICATION, dtype: int64\n",
      "2.0    203208\n",
      "1.0    126731\n",
      "3.0     55765\n",
      "4.0     21375\n",
      "5.0     15801\n",
      "0.0      7518\n",
      "Name: INJURIES_NO_INDICATION, dtype: int64\n"
     ]
    }
   ],
   "source": [
    "# capped at 5\n",
    "print(df['INJURIES_NO_INDICATION'].value_counts())\n",
    "df['INJURIES_NO_INDICATION'].values[df['INJURIES_NO_INDICATION'] > 5] = 5\n",
    "print(df['INJURIES_NO_INDICATION'].value_counts())"
   ]
  },
  {
   "cell_type": "markdown",
   "metadata": {},
   "source": [
    "###### Merged/Replaced values in certain categorical columns "
   ]
  },
  {
   "cell_type": "code",
   "execution_count": 11,
   "metadata": {},
   "outputs": [],
   "source": [
    "# Merged unknown and other into one variable \n",
    "df.TRAFFIC_CONTROL_DEVICE = df.TRAFFIC_CONTROL_DEVICE.replace({'UNKNOWN':'UNKNOWN/OTHER','OTHER':'UNKNOWN/OTHER'})\n",
    "df.ROAD_DEFECT = df.ROAD_DEFECT.replace({'UNKNOWN':'UNKNOWN/OTHER','OTHER':'UNKNOWN/OTHER'})"
   ]
  },
  {
   "cell_type": "code",
   "execution_count": 12,
   "metadata": {},
   "outputs": [
    {
     "data": {
      "text/plain": [
       "CLEAR            340870\n",
       "RAIN              39465\n",
       "UNKNOWN/OTHER     19843\n",
       "SNOW              16385\n",
       "CLOUDY            13044\n",
       "FOG                 791\n",
       "Name: WEATHER_CONDITION, dtype: int64"
      ]
     },
     "execution_count": 12,
     "metadata": {},
     "output_type": "execute_result"
    }
   ],
   "source": [
    "# Changed to 6 categories\n",
    "df.WEATHER_CONDITION = df.WEATHER_CONDITION.replace({'UNKNOWN':'UNKNOWN/OTHER','OTHER':'UNKNOWN/OTHER',\n",
    "                                                    'SLEET/HAIL': 'SNOW', 'FREEZING RAIN/DRIZZLE': 'RAIN',\n",
    "                                                    'SEVERE CROSS WIND GATE': 'CLOUDY/OVERCAST','BLOWING SNOW': 'SNOW',\n",
    "                                                    'BLOWING SAND, SOIL, DIRT': 'UNKNOWN/OTHER'})\n",
    "df.WEATHER_CONDITION = df.WEATHER_CONDITION.replace({'FOG/SMOKE/HAZE': 'FOG', 'CLOUDY/OVERCAST': 'CLOUDY'})\n",
    "df.WEATHER_CONDITION.value_counts()"
   ]
  },
  {
   "cell_type": "code",
   "execution_count": 13,
   "metadata": {},
   "outputs": [
    {
     "data": {
      "text/plain": [
       "DAYLIGHT                  282668\n",
       "DARKNESS, LIGHTED ROAD     89908\n",
       "DARKNESS                   21682\n",
       "DUSK/DAWN                  20678\n",
       "UNKNOWN                    15462\n",
       "Name: LIGHTING_CONDITION, dtype: int64"
      ]
     },
     "execution_count": 13,
     "metadata": {},
     "output_type": "execute_result"
    }
   ],
   "source": [
    "# merged dusk and dawn because they are very similar lighting conditions \n",
    "df.LIGHTING_CONDITION = df.LIGHTING_CONDITION.replace({'DUSK': 'DUSK/DAWN','DAWN': 'DUSK/DAWN' })\n",
    "df.LIGHTING_CONDITION.value_counts()"
   ]
  },
  {
   "cell_type": "code",
   "execution_count": 14,
   "metadata": {},
   "outputs": [],
   "source": [
    "# merged two variables to 'Other'\n",
    "df.FIRST_CRASH_TYPE = df.FIRST_CRASH_TYPE.replace({'OTHER OBJECT':'OTHER','OTHER NONCOLLISION':'OTHER'})"
   ]
  },
  {
   "cell_type": "code",
   "execution_count": 15,
   "metadata": {},
   "outputs": [
    {
     "data": {
      "text/plain": [
       "NOT DIVIDED                        193604\n",
       "DIVIDED - W/MEDIAN (NOT RAISED)     77616\n",
       "ONE-WAY                             57107\n",
       "PARKING LOT                         30746\n",
       "DIVIDED - W/MEDIAN BARRIER          25929\n",
       "UNKNOWN/OTHER                       17428\n",
       "INTERSECTION                        14349\n",
       "ALLEY                                6929\n",
       "CENTER TURN LANE                     3806\n",
       "DRIVEWAY                             1502\n",
       "RAMP                                 1382\n",
       "Name: TRAFFICWAY_TYPE, dtype: int64"
      ]
     },
     "execution_count": 15,
     "metadata": {},
     "output_type": "execute_result"
    }
   ],
   "source": [
    "# merged the different types of intersections into one feature and unknown/other into one feature\n",
    "df.TRAFFICWAY_TYPE = df.TRAFFICWAY_TYPE.replace({'T-INTERSECTION':'INTERSECTION', 'UNKNOWN INTERSECTION TYPE':'INTERSECTION',\n",
    "                                                'Y-INTERSECTION':'INTERSECTION','L-INTERSECTION':'INTERSECTION',\n",
    "                                                 'FIVE POINT, OR MORE': 'INTERSECTION', 'FOUR WAY':'INTERSECTION',\n",
    "                                                 'ROUNDABOUT': 'INTERSECTION', 'OTHER': 'UNKNOWN/OTHER',\n",
    "                                                'UNKNOWN':'UNKNOWN/OTHER','NOT REPORTED':'UNKNOWN/OTHER',\n",
    "                                                'TRAFFIC ROUTE':'UNKNOWN/OTHER'})\n",
    "df.TRAFFICWAY_TYPE.value_counts()"
   ]
  },
  {
   "cell_type": "code",
   "execution_count": 16,
   "metadata": {},
   "outputs": [
    {
     "data": {
      "text/plain": [
       "DRY              322990\n",
       "WET               59710\n",
       "UNKNOWN/OTHER     29393\n",
       "SNOW              18305\n",
       "Name: ROADWAY_SURFACE_COND, dtype: int64"
      ]
     },
     "execution_count": 16,
     "metadata": {},
     "output_type": "execute_result"
    }
   ],
   "source": [
    "# Changed to 4 categories\n",
    "df.ROADWAY_SURFACE_COND = df.ROADWAY_SURFACE_COND.replace({'UNKNOWN':'UNKNOWN/OTHER','OTHER':'UNKNOWN/OTHER',\n",
    "                                                          'SAND, MUD, DIRT': 'UNKNOWN/OTHER','ICE': 'SNOW OR SLUSH'})\n",
    "df.ROADWAY_SURFACE_COND = df.ROADWAY_SURFACE_COND.replace({'SNOW OR SLUSH': 'SNOW'})\n",
    "df.ROADWAY_SURFACE_COND.value_counts()"
   ]
  },
  {
   "cell_type": "code",
   "execution_count": null,
   "metadata": {},
   "outputs": [],
   "source": []
  },
  {
   "cell_type": "code",
   "execution_count": null,
   "metadata": {},
   "outputs": [],
   "source": []
  },
  {
   "cell_type": "markdown",
   "metadata": {},
   "source": [
    "## Feature Engineering and Data Visualization"
   ]
  },
  {
   "cell_type": "markdown",
   "metadata": {},
   "source": [
    "###### Creating a date column by creating a day of month column and then merging it with the crash month column"
   ]
  },
  {
   "cell_type": "code",
   "execution_count": 17,
   "metadata": {},
   "outputs": [],
   "source": [
    "# creating a day column as a string \n",
    "df['day'] = pd.DatetimeIndex(df['CRASH_DATE']).day.astype(str)\n",
    "# merging month and day\n",
    "df['date'] = df['CRASH_MONTH'].astype(str).str.cat(df['day'].values.astype(str), sep='-')"
   ]
  },
  {
   "cell_type": "markdown",
   "metadata": {},
   "source": [
    "###### Creating a season column"
   ]
  },
  {
   "cell_type": "code",
   "execution_count": 18,
   "metadata": {},
   "outputs": [],
   "source": [
    "df['season'] = ' '\n",
    "df['season'] = np.where((df['CRASH_MONTH'] == 1) | \n",
    "                        (df['CRASH_MONTH'] == 2) | \n",
    "                        (df['CRASH_MONTH'] == 3), \n",
    "                        'Winter', df['season'])\n",
    "df['season'] = np.where((df['CRASH_MONTH'] == 4) | \n",
    "                        (df['CRASH_MONTH'] == 5) | \n",
    "                        (df['CRASH_MONTH'] == 6), \n",
    "                        'Spring', df['season'])\n",
    "df['season'] = np.where((df['CRASH_MONTH'] == 7) | \n",
    "                        (df['CRASH_MONTH'] == 8) | \n",
    "                        (df['CRASH_MONTH'] == 9), \n",
    "                        'Summer', df['season'])\n",
    "df['season'] = np.where((df['CRASH_MONTH'] == 10) | \n",
    "                        (df['CRASH_MONTH'] == 11) | \n",
    "                        (df['CRASH_MONTH'] == 12), \n",
    "                        'Fall', df['season'])"
   ]
  },
  {
   "cell_type": "code",
   "execution_count": 19,
   "metadata": {},
   "outputs": [],
   "source": [
    "df['day'] = df['day'].astype(int)"
   ]
  },
  {
   "cell_type": "markdown",
   "metadata": {},
   "source": [
    "## Data Visualization"
   ]
  },
  {
   "cell_type": "code",
   "execution_count": 20,
   "metadata": {
    "scrolled": true
   },
   "outputs": [
    {
     "data": {
      "image/png": "[encoded data removed]",
      "text/plain": [
       "<Figure size 432x288 with 1 Axes>"
      ]
     },
     "metadata": {
      "needs_background": "light"
     },
     "output_type": "display_data"
    }
   ],
   "source": [
    "# CRASH_HOUR histogram plot\n",
    "df.CRASH_HOUR.plot(kind = 'hist', bins = 24)\n",
    "plt.title('Hour of Accident')\n",
    "plt.xlabel('Hour of Day')\n",
    "plt.ylabel('Number of Accidents')\n",
    "plt.show()"
   ]
  },
  {
   "cell_type": "markdown",
   "metadata": {},
   "source": [
    "This graph shows that there is an increase an accidents around rush hour time"
   ]
  },
  {
   "cell_type": "code",
   "execution_count": 21,
   "metadata": {},
   "outputs": [
    {
     "data": {
      "image/png": "[encoded data removed]",
      "text/plain": [
       "<Figure size 720x504 with 1 Axes>"
      ]
     },
     "metadata": {
      "needs_background": "light"
     },
     "output_type": "display_data"
    }
   ],
   "source": [
    "df.PRIM_CONTRIBUTORY_CAUSE.value_counts(normalize = True).head(10).plot(kind = 'bar', figsize = (10,7))\n",
    "plt.title('Primary Cause of Accidents')\n",
    "plt.xlabel('Cause of Accident')\n",
    "plt.ylabel('Number of Accidents')\n",
    "plt.show()"
   ]
  },
  {
   "cell_type": "markdown",
   "metadata": {},
   "source": [
    "This graph shows that in most cases we are unable to determine the primary casue of the accident"
   ]
  },
  {
   "cell_type": "code",
   "execution_count": 22,
   "metadata": {},
   "outputs": [
    {
     "name": "stdout",
     "output_type": "stream",
     "text": [
      "SEVERE                     0          1\n",
      "WEATHER_CONDITION                      \n",
      "CLEAR              79.624366  77.837817\n",
      "CLOUDY              2.807193   3.745391\n",
      "FOG                 0.161343   0.255545\n",
      "RAIN                8.382235  11.686792\n",
      "SNOW                3.679485   4.214541\n",
      "UNKNOWN/OTHER       5.345379   2.259915\n"
     ]
    },
    {
     "data": {
      "image/png": "[encoded data removed]",
      "text/plain": [
       "<Figure size 720x504 with 1 Axes>"
      ]
     },
     "metadata": {
      "needs_background": "light"
     },
     "output_type": "display_data"
    }
   ],
   "source": [
    "w = df.groupby(['WEATHER_CONDITION', 'SEVERE'])['WEATHER_CONDITION'].count().unstack()\n",
    "print((w/w.sum())*100)\n",
    "((w/w.sum())*100).transpose().plot(kind = 'bar', stacked = True, figsize = (10,7))\n",
    "plt.title('Weather Condition During Accident')\n",
    "plt.xlabel('SEVERITY')\n",
    "plt.ylabel('Percentage per weather condition')\n",
    "plt.show()"
   ]
  },
  {
   "cell_type": "code",
   "execution_count": 23,
   "metadata": {},
   "outputs": [
    {
     "name": "stdout",
     "output_type": "stream",
     "text": [
      "SEVERE                        0          1\n",
      "ROADWAY_SURFACE_COND                      \n",
      "DRY                   75.345867  74.080721\n",
      "SNOW                   4.241594   4.289644\n",
      "UNKNOWN/OTHER          7.841475   3.592260\n",
      "WET                   12.571064  18.037376\n"
     ]
    },
    {
     "data": {
      "image/png": "[encoded data removed]",
      "text/plain": [
       "<Figure size 720x504 with 1 Axes>"
      ]
     },
     "metadata": {
      "needs_background": "light"
     },
     "output_type": "display_data"
    }
   ],
   "source": [
    "r = df.groupby(['ROADWAY_SURFACE_COND', 'SEVERE'])['ROADWAY_SURFACE_COND'].count().unstack()\n",
    "print((r/r.sum())*100)\n",
    "((r/r.sum())*100).transpose().plot(kind = 'bar', stacked = True, figsize = (10,7))\n",
    "plt.title('Road Condition During Accident')\n",
    "plt.xlabel('SEVERITY')\n",
    "plt.ylabel('Percentage per road condition')\n",
    "plt.show()"
   ]
  },
  {
   "cell_type": "code",
   "execution_count": 24,
   "metadata": {},
   "outputs": [
    {
     "data": {
      "image/png": "[encoded data removed]",
      "text/plain": [
       "<Figure size 432x288 with 1 Axes>"
      ]
     },
     "metadata": {
      "needs_background": "light"
     },
     "output_type": "display_data"
    }
   ],
   "source": [
    "g=sns.countplot(x=\"ROADWAY_SURFACE_COND\", data=df,hue=\"SEVERE\", palette=\"muted\")\n",
    "plt.title('Road Conditions')\n",
    "plt.xlabel('Road Condition')\n",
    "plt.ylabel('Number of Accidents')\n",
    "g.set_xticklabels(g.get_xticklabels(), rotation=45, horizontalalignment='right', fontsize=10);"
   ]
  },
  {
   "cell_type": "code",
   "execution_count": 25,
   "metadata": {},
   "outputs": [
    {
     "data": {
      "image/png": "[encoded data removed]",
      "text/plain": [
       "<Figure size 432x288 with 1 Axes>"
      ]
     },
     "metadata": {
      "needs_background": "light"
     },
     "output_type": "display_data"
    }
   ],
   "source": [
    "g=sns.countplot(x=\"DAMAGE\", data=df,hue=\"SEVERE\", palette=\"muted\")\n",
    "plt.title('Cost of Damage')\n",
    "plt.xlabel('Cost')\n",
    "plt.ylabel('Number of Accidents')\n",
    "g.set_xticklabels(g.get_xticklabels(), rotation=45, horizontalalignment='right', fontsize=10);"
   ]
  },
  {
   "cell_type": "code",
   "execution_count": 26,
   "metadata": {},
   "outputs": [
    {
     "data": {
      "image/png": "[encoded data removed]",
      "text/plain": [
       "<Figure size 432x288 with 1 Axes>"
      ]
     },
     "metadata": {
      "needs_background": "light"
     },
     "output_type": "display_data"
    }
   ],
   "source": [
    "g=sns.countplot(x=\"season\", data=df,hue=\"SEVERE\")\n",
    "plt.title('Season')\n",
    "plt.xlabel('Season')\n",
    "plt.ylabel('Number of Accidents')\n",
    "g.set_xticklabels(g.get_xticklabels(), rotation=45, horizontalalignment='right', fontsize=10);"
   ]
  },
  {
   "cell_type": "markdown",
   "metadata": {},
   "source": [
    "### Creating Dummies"
   ]
  },
  {
   "cell_type": "code",
   "execution_count": 27,
   "metadata": {},
   "outputs": [
    {
     "data": {
      "text/plain": [
       "(430398, 123)"
      ]
     },
     "execution_count": 27,
     "metadata": {},
     "output_type": "execute_result"
    }
   ],
   "source": [
    "dummies = ['TRAFFIC_CONTROL_DEVICE', 'WEATHER_CONDITION', 'LIGHTING_CONDITION', 'FIRST_CRASH_TYPE'\n",
    "          ,'TRAFFICWAY_TYPE', 'ROADWAY_SURFACE_COND', 'ROAD_DEFECT', 'DAMAGE', 'PRIM_CONTRIBUTORY_CAUSE', 'MOST_SEVERE_INJURY'\n",
    "          ,'season']\n",
    "df =  pd.get_dummies(df, columns = dummies, drop_first = True )\n",
    "df.shape"
   ]
  },
  {
   "cell_type": "markdown",
   "metadata": {},
   "source": [
    "##### Feature Interaction"
   ]
  },
  {
   "cell_type": "code",
   "execution_count": 28,
   "metadata": {},
   "outputs": [
    {
     "data": {
      "text/plain": [
       "(430398, 201)"
      ]
     },
     "execution_count": 28,
     "metadata": {},
     "output_type": "execute_result"
    }
   ],
   "source": [
    "cont = ['POSTED_SPEED_LIMIT', 'NUM_UNITS', 'INJURIES_TOTAL', 'INJURIES_FATAL', 'INJURIES_INCAPACITATING',\n",
    "        'INJURIES_NON_INCAPACITATING', 'INJURIES_REPORTED_NOT_EVIDENT', 'INJURIES_NO_INDICATION',\n",
    "        'CRASH_HOUR', 'CRASH_DAY_OF_WEEK','CRASH_MONTH' ,'day']\n",
    "poly_df = df[cont]\n",
    "poly = PolynomialFeatures(degree=2, include_bias=False)\n",
    "poly_data = poly.fit_transform(poly_df)\n",
    "poly_columns = poly.get_feature_names(poly_df.columns)\n",
    "df_poly = pd.DataFrame(poly_data, columns=poly_columns, index = df.index)\n",
    "\n",
    "df = pd.concat([df,df_poly], axis=1, join='inner')\n",
    "df = df.loc[:,~df.columns.duplicated()]\n",
    "df.shape"
   ]
  },
  {
   "cell_type": "markdown",
   "metadata": {},
   "source": [
    "## Feature Selection"
   ]
  },
  {
   "cell_type": "code",
   "execution_count": 29,
   "metadata": {},
   "outputs": [],
   "source": [
    "target = df['SEVERE']\n",
    "df_features = df.drop(columns = ['CRASH_DATE','SEVERE', 'date'])"
   ]
  },
  {
   "cell_type": "code",
   "execution_count": 30,
   "metadata": {},
   "outputs": [],
   "source": [
    "corr_matrix = df_features.corr().abs()\n",
    "upper = corr_matrix.where(np.triu(np.ones(corr_matrix.shape), k=1).astype(np.bool))\n",
    "#upper"
   ]
  },
  {
   "cell_type": "code",
   "execution_count": 31,
   "metadata": {},
   "outputs": [
    {
     "name": "stdout",
     "output_type": "stream",
     "text": [
      "['ROAD_DEFECT_UNKNOWN/OTHER', 'MOST_SEVERE_INJURY_INCAPACITATING INJURY', 'MOST_SEVERE_INJURY_NO INDICATION OF INJURY', 'MOST_SEVERE_INJURY_NONINCAPACITATING INJURY', 'MOST_SEVERE_INJURY_REPORTED, NOT EVIDENT', 'POSTED_SPEED_LIMIT^2', 'POSTED_SPEED_LIMIT INJURIES_TOTAL', 'POSTED_SPEED_LIMIT INJURIES_FATAL', 'POSTED_SPEED_LIMIT INJURIES_INCAPACITATING', 'POSTED_SPEED_LIMIT INJURIES_NON_INCAPACITATING', 'POSTED_SPEED_LIMIT INJURIES_REPORTED_NOT_EVIDENT', 'POSTED_SPEED_LIMIT INJURIES_NO_INDICATION', 'POSTED_SPEED_LIMIT CRASH_HOUR', 'POSTED_SPEED_LIMIT CRASH_DAY_OF_WEEK', 'POSTED_SPEED_LIMIT CRASH_MONTH', 'POSTED_SPEED_LIMIT day', 'NUM_UNITS^2', 'NUM_UNITS INJURIES_TOTAL', 'NUM_UNITS INJURIES_FATAL', 'NUM_UNITS INJURIES_INCAPACITATING', 'NUM_UNITS INJURIES_NON_INCAPACITATING', 'NUM_UNITS INJURIES_REPORTED_NOT_EVIDENT', 'NUM_UNITS INJURIES_NO_INDICATION', 'NUM_UNITS CRASH_HOUR', 'NUM_UNITS CRASH_DAY_OF_WEEK', 'NUM_UNITS CRASH_MONTH', 'NUM_UNITS day', 'INJURIES_TOTAL^2', 'INJURIES_TOTAL INJURIES_FATAL', 'INJURIES_TOTAL INJURIES_INCAPACITATING', 'INJURIES_TOTAL INJURIES_NON_INCAPACITATING', 'INJURIES_TOTAL INJURIES_REPORTED_NOT_EVIDENT', 'INJURIES_TOTAL CRASH_HOUR', 'INJURIES_TOTAL CRASH_DAY_OF_WEEK', 'INJURIES_TOTAL CRASH_MONTH', 'INJURIES_TOTAL day', 'INJURIES_FATAL^2', 'INJURIES_FATAL CRASH_HOUR', 'INJURIES_FATAL CRASH_DAY_OF_WEEK', 'INJURIES_FATAL CRASH_MONTH', 'INJURIES_FATAL day', 'INJURIES_INCAPACITATING^2', 'INJURIES_INCAPACITATING CRASH_HOUR', 'INJURIES_INCAPACITATING CRASH_DAY_OF_WEEK', 'INJURIES_INCAPACITATING CRASH_MONTH', 'INJURIES_INCAPACITATING day', 'INJURIES_NON_INCAPACITATING^2', 'INJURIES_NON_INCAPACITATING CRASH_HOUR', 'INJURIES_NON_INCAPACITATING CRASH_DAY_OF_WEEK', 'INJURIES_NON_INCAPACITATING CRASH_MONTH', 'INJURIES_NON_INCAPACITATING day', 'INJURIES_REPORTED_NOT_EVIDENT^2', 'INJURIES_REPORTED_NOT_EVIDENT CRASH_HOUR', 'INJURIES_REPORTED_NOT_EVIDENT CRASH_DAY_OF_WEEK', 'INJURIES_REPORTED_NOT_EVIDENT CRASH_MONTH', 'INJURIES_REPORTED_NOT_EVIDENT day', 'INJURIES_NO_INDICATION^2', 'CRASH_HOUR^2', 'CRASH_DAY_OF_WEEK^2', 'CRASH_MONTH^2', 'day^2']\n"
     ]
    }
   ],
   "source": [
    "corr_drop = [column for column in upper.columns if any(upper[column] > 0.8)]\n",
    "print(corr_drop)"
   ]
  },
  {
   "cell_type": "code",
   "execution_count": 32,
   "metadata": {},
   "outputs": [],
   "source": [
    "df_features.drop(columns = corr_drop, inplace = True)"
   ]
  },
  {
   "cell_type": "markdown",
   "metadata": {},
   "source": [
    "## Hypothesis Tests"
   ]
  },
  {
   "cell_type": "code",
   "execution_count": 33,
   "metadata": {},
   "outputs": [
    {
     "name": "stdout",
     "output_type": "stream",
     "text": [
      "WEATHER_CONDITION   CLEAR  CLOUDY  FOG   RAIN   SNOW  UNKNOWN/OTHER\n",
      "SEVERE                                                             \n",
      "0                  261066    9204  529  27483  12064          17526\n",
      "1                   79804    3840  262  11982   4321           2317\n",
      "p value is 4.2973326659792144e-212\n",
      "Dependent (reject H0)\n"
     ]
    }
   ],
   "source": [
    "w = w.transpose()\n",
    "print(w)\n",
    "\n",
    "# Null Hypothesis: Proportion of Severe Accidents is equal in Clear, Wet and Snow Weather Conditions.\n",
    "# Alternate hypothesis: Proportion of Severe Accidents is not equal in Clear, Wet and Snow Weather Conditions.\n",
    "\n",
    "\n",
    "data = [[261066, 27483, 12064], [79804, 11982, 4321]]\n",
    "stat, p, dof, expected = chi2_contingency(data)\n",
    "# interpret p-value \n",
    "alpha = 0.05\n",
    "print(\"p value is \" + str(p)) \n",
    "if p <= alpha: \n",
    "    print('Dependent (reject H0)') \n",
    "else: \n",
    "    print('Independent (H0 holds true)') "
   ]
  },
  {
   "cell_type": "code",
   "execution_count": 34,
   "metadata": {},
   "outputs": [
    {
     "name": "stdout",
     "output_type": "stream",
     "text": [
      "ROADWAY_SURFACE_COND     DRY   SNOW  UNKNOWN/OTHER    WET\n",
      "SEVERE                                                   \n",
      "0                     247038  13907          25710  41217\n",
      "1                      75952   4398           3683  18493\n",
      "p value is 0.0\n",
      "Dependent (reject H0)\n"
     ]
    }
   ],
   "source": [
    "r = r.transpose()\n",
    "print(r)\n",
    "\n",
    "# Null Hypothesis: Proportion of Severe Accidents is equal in Dry, Snow and Wet Road Conditions.\n",
    "# Alternate hypothesis: Proportion of Severe Accidents is not equal Dry, Snow and Wet Road Conditions.\n",
    "\n",
    "\n",
    "data = [[247038, 13907, 41217], [75952, 4398, 1893]]\n",
    "stat, p, dof, expected = chi2_contingency(data)\n",
    "# interpret p-value \n",
    "alpha = 0.05\n",
    "print(\"p value is \" + str(p)) \n",
    "if p <= alpha: \n",
    "    print('Dependent (reject H0)') \n",
    "else: \n",
    "    print('Independent (H0 holds true)') \n"
   ]
  },
  {
   "cell_type": "markdown",
   "metadata": {},
   "source": [
    "### VIF"
   ]
  },
  {
   "cell_type": "code",
   "execution_count": 35,
   "metadata": {},
   "outputs": [
    {
     "data": {
      "text/html": [
       "<div>\n",
       "<style scoped>\n",
       "    .dataframe tbody tr th:only-of-type {\n",
       "        vertical-align: middle;\n",
       "    }\n",
       "\n",
       "    .dataframe tbody tr th {\n",
       "        vertical-align: top;\n",
       "    }\n",
       "\n",
       "    .dataframe thead th {\n",
       "        text-align: right;\n",
       "    }\n",
       "</style>\n",
       "<table border=\"1\" class=\"dataframe\">\n",
       "  <thead>\n",
       "    <tr style=\"text-align: right;\">\n",
       "      <th></th>\n",
       "      <th>VIF Factor</th>\n",
       "      <th>features</th>\n",
       "    </tr>\n",
       "  </thead>\n",
       "  <tbody>\n",
       "    <tr>\n",
       "      <th>0</th>\n",
       "      <td>512.0</td>\n",
       "      <td>POSTED_SPEED_LIMIT</td>\n",
       "    </tr>\n",
       "    <tr>\n",
       "      <th>1</th>\n",
       "      <td>580.3</td>\n",
       "      <td>NUM_UNITS</td>\n",
       "    </tr>\n",
       "    <tr>\n",
       "      <th>2</th>\n",
       "      <td>70.7</td>\n",
       "      <td>INJURIES_TOTAL</td>\n",
       "    </tr>\n",
       "    <tr>\n",
       "      <th>3</th>\n",
       "      <td>2.4</td>\n",
       "      <td>INJURIES_FATAL</td>\n",
       "    </tr>\n",
       "    <tr>\n",
       "      <th>4</th>\n",
       "      <td>8.8</td>\n",
       "      <td>INJURIES_INCAPACITATING</td>\n",
       "    </tr>\n",
       "    <tr>\n",
       "      <th>5</th>\n",
       "      <td>36.9</td>\n",
       "      <td>INJURIES_NON_INCAPACITATING</td>\n",
       "    </tr>\n",
       "    <tr>\n",
       "      <th>6</th>\n",
       "      <td>23.4</td>\n",
       "      <td>INJURIES_REPORTED_NOT_EVIDENT</td>\n",
       "    </tr>\n",
       "    <tr>\n",
       "      <th>7</th>\n",
       "      <td>90.0</td>\n",
       "      <td>INJURIES_NO_INDICATION</td>\n",
       "    </tr>\n",
       "    <tr>\n",
       "      <th>8</th>\n",
       "      <td>103.0</td>\n",
       "      <td>CRASH_HOUR</td>\n",
       "    </tr>\n",
       "    <tr>\n",
       "      <th>9</th>\n",
       "      <td>84.8</td>\n",
       "      <td>CRASH_DAY_OF_WEEK</td>\n",
       "    </tr>\n",
       "    <tr>\n",
       "      <th>10</th>\n",
       "      <td>159.2</td>\n",
       "      <td>CRASH_MONTH</td>\n",
       "    </tr>\n",
       "    <tr>\n",
       "      <th>11</th>\n",
       "      <td>72.4</td>\n",
       "      <td>day</td>\n",
       "    </tr>\n",
       "    <tr>\n",
       "      <th>12</th>\n",
       "      <td>1.7</td>\n",
       "      <td>TRAFFIC_CONTROL_DEVICE_DELINEATORS</td>\n",
       "    </tr>\n",
       "    <tr>\n",
       "      <th>13</th>\n",
       "      <td>1.6</td>\n",
       "      <td>TRAFFIC_CONTROL_DEVICE_FLASHING CONTROL SIGNAL</td>\n",
       "    </tr>\n",
       "    <tr>\n",
       "      <th>14</th>\n",
       "      <td>8.1</td>\n",
       "      <td>TRAFFIC_CONTROL_DEVICE_LANE USE MARKING</td>\n",
       "    </tr>\n",
       "    <tr>\n",
       "      <th>15</th>\n",
       "      <td>1426.7</td>\n",
       "      <td>TRAFFIC_CONTROL_DEVICE_NO CONTROLS</td>\n",
       "    </tr>\n",
       "    <tr>\n",
       "      <th>16</th>\n",
       "      <td>1.1</td>\n",
       "      <td>TRAFFIC_CONTROL_DEVICE_NO PASSING</td>\n",
       "    </tr>\n",
       "    <tr>\n",
       "      <th>17</th>\n",
       "      <td>1.6</td>\n",
       "      <td>TRAFFIC_CONTROL_DEVICE_OTHER RAILROAD CROSSING</td>\n",
       "    </tr>\n",
       "    <tr>\n",
       "      <th>18</th>\n",
       "      <td>3.5</td>\n",
       "      <td>TRAFFIC_CONTROL_DEVICE_OTHER REG. SIGN</td>\n",
       "    </tr>\n",
       "    <tr>\n",
       "      <th>19</th>\n",
       "      <td>3.3</td>\n",
       "      <td>TRAFFIC_CONTROL_DEVICE_OTHER WARNING SIGN</td>\n",
       "    </tr>\n",
       "    <tr>\n",
       "      <th>20</th>\n",
       "      <td>1.9</td>\n",
       "      <td>TRAFFIC_CONTROL_DEVICE_PEDESTRIAN CROSSING SIGN</td>\n",
       "    </tr>\n",
       "    <tr>\n",
       "      <th>21</th>\n",
       "      <td>2.0</td>\n",
       "      <td>TRAFFIC_CONTROL_DEVICE_POLICE/FLAGMAN</td>\n",
       "    </tr>\n",
       "    <tr>\n",
       "      <th>22</th>\n",
       "      <td>2.7</td>\n",
       "      <td>TRAFFIC_CONTROL_DEVICE_RAILROAD CROSSING GATE</td>\n",
       "    </tr>\n",
       "    <tr>\n",
       "      <th>23</th>\n",
       "      <td>1.2</td>\n",
       "      <td>TRAFFIC_CONTROL_DEVICE_RR CROSSING SIGN</td>\n",
       "    </tr>\n",
       "    <tr>\n",
       "      <th>24</th>\n",
       "      <td>1.9</td>\n",
       "      <td>TRAFFIC_CONTROL_DEVICE_SCHOOL ZONE</td>\n",
       "    </tr>\n",
       "    <tr>\n",
       "      <th>25</th>\n",
       "      <td>246.1</td>\n",
       "      <td>TRAFFIC_CONTROL_DEVICE_STOP SIGN/FLASHER</td>\n",
       "    </tr>\n",
       "    <tr>\n",
       "      <th>26</th>\n",
       "      <td>693.9</td>\n",
       "      <td>TRAFFIC_CONTROL_DEVICE_TRAFFIC SIGNAL</td>\n",
       "    </tr>\n",
       "    <tr>\n",
       "      <th>27</th>\n",
       "      <td>95.8</td>\n",
       "      <td>TRAFFIC_CONTROL_DEVICE_UNKNOWN/OTHER</td>\n",
       "    </tr>\n",
       "    <tr>\n",
       "      <th>28</th>\n",
       "      <td>4.6</td>\n",
       "      <td>TRAFFIC_CONTROL_DEVICE_YIELD</td>\n",
       "    </tr>\n",
       "    <tr>\n",
       "      <th>29</th>\n",
       "      <td>1.1</td>\n",
       "      <td>WEATHER_CONDITION_CLOUDY</td>\n",
       "    </tr>\n",
       "    <tr>\n",
       "      <th>30</th>\n",
       "      <td>1.0</td>\n",
       "      <td>WEATHER_CONDITION_FOG</td>\n",
       "    </tr>\n",
       "    <tr>\n",
       "      <th>31</th>\n",
       "      <td>2.8</td>\n",
       "      <td>WEATHER_CONDITION_RAIN</td>\n",
       "    </tr>\n",
       "    <tr>\n",
       "      <th>32</th>\n",
       "      <td>2.1</td>\n",
       "      <td>WEATHER_CONDITION_SNOW</td>\n",
       "    </tr>\n",
       "    <tr>\n",
       "      <th>33</th>\n",
       "      <td>2.4</td>\n",
       "      <td>WEATHER_CONDITION_UNKNOWN/OTHER</td>\n",
       "    </tr>\n",
       "    <tr>\n",
       "      <th>34</th>\n",
       "      <td>5.2</td>\n",
       "      <td>LIGHTING_CONDITION_DARKNESS, LIGHTED ROAD</td>\n",
       "    </tr>\n",
       "    <tr>\n",
       "      <th>35</th>\n",
       "      <td>14.6</td>\n",
       "      <td>LIGHTING_CONDITION_DAYLIGHT</td>\n",
       "    </tr>\n",
       "    <tr>\n",
       "      <th>36</th>\n",
       "      <td>2.0</td>\n",
       "      <td>LIGHTING_CONDITION_DUSK/DAWN</td>\n",
       "    </tr>\n",
       "    <tr>\n",
       "      <th>37</th>\n",
       "      <td>2.4</td>\n",
       "      <td>LIGHTING_CONDITION_UNKNOWN</td>\n",
       "    </tr>\n",
       "    <tr>\n",
       "      <th>38</th>\n",
       "      <td>1.4</td>\n",
       "      <td>FIRST_CRASH_TYPE_ANIMAL</td>\n",
       "    </tr>\n",
       "    <tr>\n",
       "      <th>39</th>\n",
       "      <td>2.2</td>\n",
       "      <td>FIRST_CRASH_TYPE_FIXED OBJECT</td>\n",
       "    </tr>\n",
       "    <tr>\n",
       "      <th>40</th>\n",
       "      <td>1.1</td>\n",
       "      <td>FIRST_CRASH_TYPE_HEAD ON</td>\n",
       "    </tr>\n",
       "    <tr>\n",
       "      <th>41</th>\n",
       "      <td>1.4</td>\n",
       "      <td>FIRST_CRASH_TYPE_OTHER</td>\n",
       "    </tr>\n",
       "    <tr>\n",
       "      <th>42</th>\n",
       "      <td>1.0</td>\n",
       "      <td>FIRST_CRASH_TYPE_OVERTURNED</td>\n",
       "    </tr>\n",
       "    <tr>\n",
       "      <th>43</th>\n",
       "      <td>5.0</td>\n",
       "      <td>FIRST_CRASH_TYPE_PARKED MOTOR VEHICLE</td>\n",
       "    </tr>\n",
       "    <tr>\n",
       "      <th>44</th>\n",
       "      <td>1.2</td>\n",
       "      <td>FIRST_CRASH_TYPE_PEDALCYCLIST</td>\n",
       "    </tr>\n",
       "    <tr>\n",
       "      <th>45</th>\n",
       "      <td>1.4</td>\n",
       "      <td>FIRST_CRASH_TYPE_PEDESTRIAN</td>\n",
       "    </tr>\n",
       "    <tr>\n",
       "      <th>46</th>\n",
       "      <td>4.9</td>\n",
       "      <td>FIRST_CRASH_TYPE_REAR END</td>\n",
       "    </tr>\n",
       "    <tr>\n",
       "      <th>47</th>\n",
       "      <td>1.1</td>\n",
       "      <td>FIRST_CRASH_TYPE_REAR TO FRONT</td>\n",
       "    </tr>\n",
       "    <tr>\n",
       "      <th>48</th>\n",
       "      <td>1.0</td>\n",
       "      <td>FIRST_CRASH_TYPE_REAR TO REAR</td>\n",
       "    </tr>\n",
       "    <tr>\n",
       "      <th>49</th>\n",
       "      <td>1.0</td>\n",
       "      <td>FIRST_CRASH_TYPE_REAR TO SIDE</td>\n",
       "    </tr>\n",
       "    <tr>\n",
       "      <th>50</th>\n",
       "      <td>1.2</td>\n",
       "      <td>FIRST_CRASH_TYPE_SIDESWIPE OPPOSITE DIRECTION</td>\n",
       "    </tr>\n",
       "    <tr>\n",
       "      <th>51</th>\n",
       "      <td>3.3</td>\n",
       "      <td>FIRST_CRASH_TYPE_SIDESWIPE SAME DIRECTION</td>\n",
       "    </tr>\n",
       "    <tr>\n",
       "      <th>52</th>\n",
       "      <td>1.0</td>\n",
       "      <td>FIRST_CRASH_TYPE_TRAIN</td>\n",
       "    </tr>\n",
       "    <tr>\n",
       "      <th>53</th>\n",
       "      <td>2.7</td>\n",
       "      <td>FIRST_CRASH_TYPE_TURNING</td>\n",
       "    </tr>\n",
       "    <tr>\n",
       "      <th>54</th>\n",
       "      <td>1.6</td>\n",
       "      <td>TRAFFICWAY_TYPE_CENTER TURN LANE</td>\n",
       "    </tr>\n",
       "    <tr>\n",
       "      <th>55</th>\n",
       "      <td>13.7</td>\n",
       "      <td>TRAFFICWAY_TYPE_DIVIDED - W/MEDIAN (NOT RAISED)</td>\n",
       "    </tr>\n",
       "    <tr>\n",
       "      <th>56</th>\n",
       "      <td>5.3</td>\n",
       "      <td>TRAFFICWAY_TYPE_DIVIDED - W/MEDIAN BARRIER</td>\n",
       "    </tr>\n",
       "    <tr>\n",
       "      <th>57</th>\n",
       "      <td>1.2</td>\n",
       "      <td>TRAFFICWAY_TYPE_DRIVEWAY</td>\n",
       "    </tr>\n",
       "    <tr>\n",
       "      <th>58</th>\n",
       "      <td>3.4</td>\n",
       "      <td>TRAFFICWAY_TYPE_INTERSECTION</td>\n",
       "    </tr>\n",
       "    <tr>\n",
       "      <th>59</th>\n",
       "      <td>32.4</td>\n",
       "      <td>TRAFFICWAY_TYPE_NOT DIVIDED</td>\n",
       "    </tr>\n",
       "    <tr>\n",
       "      <th>60</th>\n",
       "      <td>10.2</td>\n",
       "      <td>TRAFFICWAY_TYPE_ONE-WAY</td>\n",
       "    </tr>\n",
       "    <tr>\n",
       "      <th>61</th>\n",
       "      <td>5.7</td>\n",
       "      <td>TRAFFICWAY_TYPE_PARKING LOT</td>\n",
       "    </tr>\n",
       "    <tr>\n",
       "      <th>62</th>\n",
       "      <td>1.2</td>\n",
       "      <td>TRAFFICWAY_TYPE_RAMP</td>\n",
       "    </tr>\n",
       "    <tr>\n",
       "      <th>63</th>\n",
       "      <td>3.7</td>\n",
       "      <td>TRAFFICWAY_TYPE_UNKNOWN/OTHER</td>\n",
       "    </tr>\n",
       "    <tr>\n",
       "      <th>64</th>\n",
       "      <td>2.2</td>\n",
       "      <td>ROADWAY_SURFACE_COND_SNOW</td>\n",
       "    </tr>\n",
       "    <tr>\n",
       "      <th>65</th>\n",
       "      <td>2.3</td>\n",
       "      <td>ROADWAY_SURFACE_COND_UNKNOWN/OTHER</td>\n",
       "    </tr>\n",
       "    <tr>\n",
       "      <th>66</th>\n",
       "      <td>3.1</td>\n",
       "      <td>ROADWAY_SURFACE_COND_WET</td>\n",
       "    </tr>\n",
       "    <tr>\n",
       "      <th>67</th>\n",
       "      <td>8.8</td>\n",
       "      <td>ROAD_DEFECT_NO DEFECTS</td>\n",
       "    </tr>\n",
       "    <tr>\n",
       "      <th>68</th>\n",
       "      <td>1.4</td>\n",
       "      <td>ROAD_DEFECT_RUT, HOLES</td>\n",
       "    </tr>\n",
       "    <tr>\n",
       "      <th>69</th>\n",
       "      <td>1.0</td>\n",
       "      <td>ROAD_DEFECT_SHOULDER DEFECT</td>\n",
       "    </tr>\n",
       "    <tr>\n",
       "      <th>70</th>\n",
       "      <td>1.0</td>\n",
       "      <td>ROAD_DEFECT_WORN SURFACE</td>\n",
       "    </tr>\n",
       "    <tr>\n",
       "      <th>71</th>\n",
       "      <td>3.5</td>\n",
       "      <td>DAMAGE_$501 - $1,500</td>\n",
       "    </tr>\n",
       "    <tr>\n",
       "      <th>72</th>\n",
       "      <td>5.9</td>\n",
       "      <td>DAMAGE_OVER $1,500</td>\n",
       "    </tr>\n",
       "    <tr>\n",
       "      <th>73</th>\n",
       "      <td>1.2</td>\n",
       "      <td>PRIM_CONTRIBUTORY_CAUSE_BICYCLE ADVANCING LEGA...</td>\n",
       "    </tr>\n",
       "    <tr>\n",
       "      <th>74</th>\n",
       "      <td>3.2</td>\n",
       "      <td>PRIM_CONTRIBUTORY_CAUSE_CELL PHONE USE OTHER T...</td>\n",
       "    </tr>\n",
       "    <tr>\n",
       "      <th>75</th>\n",
       "      <td>4.3</td>\n",
       "      <td>PRIM_CONTRIBUTORY_CAUSE_DISREGARDING OTHER TRA...</td>\n",
       "    </tr>\n",
       "    <tr>\n",
       "      <th>76</th>\n",
       "      <td>3.2</td>\n",
       "      <td>PRIM_CONTRIBUTORY_CAUSE_DISREGARDING ROAD MARK...</td>\n",
       "    </tr>\n",
       "    <tr>\n",
       "      <th>77</th>\n",
       "      <td>18.3</td>\n",
       "      <td>PRIM_CONTRIBUTORY_CAUSE_DISREGARDING STOP SIGN</td>\n",
       "    </tr>\n",
       "    <tr>\n",
       "      <th>78</th>\n",
       "      <td>28.7</td>\n",
       "      <td>PRIM_CONTRIBUTORY_CAUSE_DISREGARDING TRAFFIC S...</td>\n",
       "    </tr>\n",
       "    <tr>\n",
       "      <th>79</th>\n",
       "      <td>1.6</td>\n",
       "      <td>PRIM_CONTRIBUTORY_CAUSE_DISREGARDING YIELD SIGN</td>\n",
       "    </tr>\n",
       "    <tr>\n",
       "      <th>80</th>\n",
       "      <td>12.6</td>\n",
       "      <td>PRIM_CONTRIBUTORY_CAUSE_DISTRACTION - FROM INS...</td>\n",
       "    </tr>\n",
       "    <tr>\n",
       "      <th>81</th>\n",
       "      <td>8.0</td>\n",
       "      <td>PRIM_CONTRIBUTORY_CAUSE_DISTRACTION - FROM OUT...</td>\n",
       "    </tr>\n",
       "    <tr>\n",
       "      <th>82</th>\n",
       "      <td>1.8</td>\n",
       "      <td>PRIM_CONTRIBUTORY_CAUSE_DISTRACTION - OTHER EL...</td>\n",
       "    </tr>\n",
       "    <tr>\n",
       "      <th>83</th>\n",
       "      <td>8.2</td>\n",
       "      <td>PRIM_CONTRIBUTORY_CAUSE_DRIVING ON WRONG SIDE/...</td>\n",
       "    </tr>\n",
       "    <tr>\n",
       "      <th>84</th>\n",
       "      <td>50.3</td>\n",
       "      <td>PRIM_CONTRIBUTORY_CAUSE_DRIVING SKILLS/KNOWLED...</td>\n",
       "    </tr>\n",
       "    <tr>\n",
       "      <th>85</th>\n",
       "      <td>10.5</td>\n",
       "      <td>PRIM_CONTRIBUTORY_CAUSE_EQUIPMENT - VEHICLE CO...</td>\n",
       "    </tr>\n",
       "    <tr>\n",
       "      <th>86</th>\n",
       "      <td>3.9</td>\n",
       "      <td>PRIM_CONTRIBUTORY_CAUSE_EVASIVE ACTION DUE TO ...</td>\n",
       "    </tr>\n",
       "    <tr>\n",
       "      <th>87</th>\n",
       "      <td>8.2</td>\n",
       "      <td>PRIM_CONTRIBUTORY_CAUSE_EXCEEDING AUTHORIZED S...</td>\n",
       "    </tr>\n",
       "    <tr>\n",
       "      <th>88</th>\n",
       "      <td>7.2</td>\n",
       "      <td>PRIM_CONTRIBUTORY_CAUSE_EXCEEDING SAFE SPEED F...</td>\n",
       "    </tr>\n",
       "    <tr>\n",
       "      <th>89</th>\n",
       "      <td>68.3</td>\n",
       "      <td>PRIM_CONTRIBUTORY_CAUSE_FAILING TO REDUCE SPEE...</td>\n",
       "    </tr>\n",
       "    <tr>\n",
       "      <th>90</th>\n",
       "      <td>178.1</td>\n",
       "      <td>PRIM_CONTRIBUTORY_CAUSE_FAILING TO YIELD RIGHT...</td>\n",
       "    </tr>\n",
       "    <tr>\n",
       "      <th>91</th>\n",
       "      <td>173.8</td>\n",
       "      <td>PRIM_CONTRIBUTORY_CAUSE_FOLLOWING TOO CLOSELY</td>\n",
       "    </tr>\n",
       "    <tr>\n",
       "      <th>92</th>\n",
       "      <td>2.7</td>\n",
       "      <td>PRIM_CONTRIBUTORY_CAUSE_HAD BEEN DRINKING (USE...</td>\n",
       "    </tr>\n",
       "    <tr>\n",
       "      <th>93</th>\n",
       "      <td>71.9</td>\n",
       "      <td>PRIM_CONTRIBUTORY_CAUSE_IMPROPER BACKING</td>\n",
       "    </tr>\n",
       "    <tr>\n",
       "      <th>94</th>\n",
       "      <td>64.0</td>\n",
       "      <td>PRIM_CONTRIBUTORY_CAUSE_IMPROPER LANE USAGE</td>\n",
       "    </tr>\n",
       "    <tr>\n",
       "      <th>95</th>\n",
       "      <td>77.2</td>\n",
       "      <td>PRIM_CONTRIBUTORY_CAUSE_IMPROPER OVERTAKING/PA...</td>\n",
       "    </tr>\n",
       "    <tr>\n",
       "      <th>96</th>\n",
       "      <td>54.4</td>\n",
       "      <td>PRIM_CONTRIBUTORY_CAUSE_IMPROPER TURNING/NO SI...</td>\n",
       "    </tr>\n",
       "    <tr>\n",
       "      <th>97</th>\n",
       "      <td>1.1</td>\n",
       "      <td>PRIM_CONTRIBUTORY_CAUSE_MOTORCYCLE ADVANCING L...</td>\n",
       "    </tr>\n",
       "    <tr>\n",
       "      <th>98</th>\n",
       "      <td>85.8</td>\n",
       "      <td>PRIM_CONTRIBUTORY_CAUSE_NOT APPLICABLE</td>\n",
       "    </tr>\n",
       "    <tr>\n",
       "      <th>99</th>\n",
       "      <td>1.1</td>\n",
       "      <td>PRIM_CONTRIBUTORY_CAUSE_OBSTRUCTED CROSSWALKS</td>\n",
       "    </tr>\n",
       "    <tr>\n",
       "      <th>100</th>\n",
       "      <td>20.2</td>\n",
       "      <td>PRIM_CONTRIBUTORY_CAUSE_OPERATING VEHICLE IN E...</td>\n",
       "    </tr>\n",
       "    <tr>\n",
       "      <th>101</th>\n",
       "      <td>1.2</td>\n",
       "      <td>PRIM_CONTRIBUTORY_CAUSE_PASSING STOPPED SCHOOL...</td>\n",
       "    </tr>\n",
       "    <tr>\n",
       "      <th>102</th>\n",
       "      <td>10.1</td>\n",
       "      <td>PRIM_CONTRIBUTORY_CAUSE_PHYSICAL CONDITION OF ...</td>\n",
       "    </tr>\n",
       "    <tr>\n",
       "      <th>103</th>\n",
       "      <td>1.5</td>\n",
       "      <td>PRIM_CONTRIBUTORY_CAUSE_RELATED TO BUS STOP</td>\n",
       "    </tr>\n",
       "    <tr>\n",
       "      <th>104</th>\n",
       "      <td>5.1</td>\n",
       "      <td>PRIM_CONTRIBUTORY_CAUSE_ROAD CONSTRUCTION/MAIN...</td>\n",
       "    </tr>\n",
       "    <tr>\n",
       "      <th>105</th>\n",
       "      <td>6.0</td>\n",
       "      <td>PRIM_CONTRIBUTORY_CAUSE_ROAD ENGINEERING/SURFA...</td>\n",
       "    </tr>\n",
       "    <tr>\n",
       "      <th>106</th>\n",
       "      <td>1.7</td>\n",
       "      <td>PRIM_CONTRIBUTORY_CAUSE_TEXTING</td>\n",
       "    </tr>\n",
       "    <tr>\n",
       "      <th>107</th>\n",
       "      <td>2.1</td>\n",
       "      <td>PRIM_CONTRIBUTORY_CAUSE_TURNING RIGHT ON RED</td>\n",
       "    </tr>\n",
       "    <tr>\n",
       "      <th>108</th>\n",
       "      <td>575.7</td>\n",
       "      <td>PRIM_CONTRIBUTORY_CAUSE_UNABLE TO DETERMINE</td>\n",
       "    </tr>\n",
       "    <tr>\n",
       "      <th>109</th>\n",
       "      <td>9.3</td>\n",
       "      <td>PRIM_CONTRIBUTORY_CAUSE_UNDER THE INFLUENCE OF...</td>\n",
       "    </tr>\n",
       "    <tr>\n",
       "      <th>110</th>\n",
       "      <td>10.2</td>\n",
       "      <td>PRIM_CONTRIBUTORY_CAUSE_VISION OBSCURED (SIGNS...</td>\n",
       "    </tr>\n",
       "    <tr>\n",
       "      <th>111</th>\n",
       "      <td>26.2</td>\n",
       "      <td>PRIM_CONTRIBUTORY_CAUSE_WEATHER</td>\n",
       "    </tr>\n",
       "    <tr>\n",
       "      <th>112</th>\n",
       "      <td>15.1</td>\n",
       "      <td>season_Spring</td>\n",
       "    </tr>\n",
       "    <tr>\n",
       "      <th>113</th>\n",
       "      <td>5.7</td>\n",
       "      <td>season_Summer</td>\n",
       "    </tr>\n",
       "    <tr>\n",
       "      <th>114</th>\n",
       "      <td>30.4</td>\n",
       "      <td>season_Winter</td>\n",
       "    </tr>\n",
       "    <tr>\n",
       "      <th>115</th>\n",
       "      <td>536.4</td>\n",
       "      <td>POSTED_SPEED_LIMIT NUM_UNITS</td>\n",
       "    </tr>\n",
       "    <tr>\n",
       "      <th>116</th>\n",
       "      <td>49.7</td>\n",
       "      <td>INJURIES_TOTAL INJURIES_NO_INDICATION</td>\n",
       "    </tr>\n",
       "    <tr>\n",
       "      <th>117</th>\n",
       "      <td>1.2</td>\n",
       "      <td>INJURIES_FATAL INJURIES_INCAPACITATING</td>\n",
       "    </tr>\n",
       "    <tr>\n",
       "      <th>118</th>\n",
       "      <td>1.2</td>\n",
       "      <td>INJURIES_FATAL INJURIES_NON_INCAPACITATING</td>\n",
       "    </tr>\n",
       "    <tr>\n",
       "      <th>119</th>\n",
       "      <td>1.1</td>\n",
       "      <td>INJURIES_FATAL INJURIES_REPORTED_NOT_EVIDENT</td>\n",
       "    </tr>\n",
       "    <tr>\n",
       "      <th>120</th>\n",
       "      <td>1.7</td>\n",
       "      <td>INJURIES_FATAL INJURIES_NO_INDICATION</td>\n",
       "    </tr>\n",
       "    <tr>\n",
       "      <th>121</th>\n",
       "      <td>1.3</td>\n",
       "      <td>INJURIES_INCAPACITATING INJURIES_NON_INCAPACIT...</td>\n",
       "    </tr>\n",
       "    <tr>\n",
       "      <th>122</th>\n",
       "      <td>1.1</td>\n",
       "      <td>INJURIES_INCAPACITATING INJURIES_REPORTED_NOT_...</td>\n",
       "    </tr>\n",
       "    <tr>\n",
       "      <th>123</th>\n",
       "      <td>5.6</td>\n",
       "      <td>INJURIES_INCAPACITATING INJURIES_NO_INDICATION</td>\n",
       "    </tr>\n",
       "    <tr>\n",
       "      <th>124</th>\n",
       "      <td>1.2</td>\n",
       "      <td>INJURIES_NON_INCAPACITATING INJURIES_REPORTED_...</td>\n",
       "    </tr>\n",
       "    <tr>\n",
       "      <th>125</th>\n",
       "      <td>24.0</td>\n",
       "      <td>INJURIES_NON_INCAPACITATING INJURIES_NO_INDICA...</td>\n",
       "    </tr>\n",
       "    <tr>\n",
       "      <th>126</th>\n",
       "      <td>18.7</td>\n",
       "      <td>INJURIES_REPORTED_NOT_EVIDENT INJURIES_NO_INDI...</td>\n",
       "    </tr>\n",
       "    <tr>\n",
       "      <th>127</th>\n",
       "      <td>34.5</td>\n",
       "      <td>INJURIES_NO_INDICATION CRASH_HOUR</td>\n",
       "    </tr>\n",
       "    <tr>\n",
       "      <th>128</th>\n",
       "      <td>25.1</td>\n",
       "      <td>INJURIES_NO_INDICATION CRASH_DAY_OF_WEEK</td>\n",
       "    </tr>\n",
       "    <tr>\n",
       "      <th>129</th>\n",
       "      <td>24.5</td>\n",
       "      <td>INJURIES_NO_INDICATION CRASH_MONTH</td>\n",
       "    </tr>\n",
       "    <tr>\n",
       "      <th>130</th>\n",
       "      <td>20.5</td>\n",
       "      <td>INJURIES_NO_INDICATION day</td>\n",
       "    </tr>\n",
       "    <tr>\n",
       "      <th>131</th>\n",
       "      <td>33.3</td>\n",
       "      <td>CRASH_HOUR CRASH_DAY_OF_WEEK</td>\n",
       "    </tr>\n",
       "    <tr>\n",
       "      <th>132</th>\n",
       "      <td>33.1</td>\n",
       "      <td>CRASH_HOUR CRASH_MONTH</td>\n",
       "    </tr>\n",
       "    <tr>\n",
       "      <th>133</th>\n",
       "      <td>28.5</td>\n",
       "      <td>CRASH_HOUR day</td>\n",
       "    </tr>\n",
       "    <tr>\n",
       "      <th>134</th>\n",
       "      <td>25.9</td>\n",
       "      <td>CRASH_DAY_OF_WEEK CRASH_MONTH</td>\n",
       "    </tr>\n",
       "    <tr>\n",
       "      <th>135</th>\n",
       "      <td>22.5</td>\n",
       "      <td>CRASH_DAY_OF_WEEK day</td>\n",
       "    </tr>\n",
       "    <tr>\n",
       "      <th>136</th>\n",
       "      <td>20.3</td>\n",
       "      <td>CRASH_MONTH day</td>\n",
       "    </tr>\n",
       "  </tbody>\n",
       "</table>\n",
       "</div>"
      ],
      "text/plain": [
       "     VIF Factor                                           features\n",
       "0         512.0                                 POSTED_SPEED_LIMIT\n",
       "1         580.3                                          NUM_UNITS\n",
       "2          70.7                                     INJURIES_TOTAL\n",
       "3           2.4                                     INJURIES_FATAL\n",
       "4           8.8                            INJURIES_INCAPACITATING\n",
       "5          36.9                        INJURIES_NON_INCAPACITATING\n",
       "6          23.4                      INJURIES_REPORTED_NOT_EVIDENT\n",
       "7          90.0                             INJURIES_NO_INDICATION\n",
       "8         103.0                                         CRASH_HOUR\n",
       "9          84.8                                  CRASH_DAY_OF_WEEK\n",
       "10        159.2                                        CRASH_MONTH\n",
       "11         72.4                                                day\n",
       "12          1.7                 TRAFFIC_CONTROL_DEVICE_DELINEATORS\n",
       "13          1.6     TRAFFIC_CONTROL_DEVICE_FLASHING CONTROL SIGNAL\n",
       "14          8.1            TRAFFIC_CONTROL_DEVICE_LANE USE MARKING\n",
       "15       1426.7                 TRAFFIC_CONTROL_DEVICE_NO CONTROLS\n",
       "16          1.1                  TRAFFIC_CONTROL_DEVICE_NO PASSING\n",
       "17          1.6     TRAFFIC_CONTROL_DEVICE_OTHER RAILROAD CROSSING\n",
       "18          3.5             TRAFFIC_CONTROL_DEVICE_OTHER REG. SIGN\n",
       "19          3.3          TRAFFIC_CONTROL_DEVICE_OTHER WARNING SIGN\n",
       "20          1.9    TRAFFIC_CONTROL_DEVICE_PEDESTRIAN CROSSING SIGN\n",
       "21          2.0              TRAFFIC_CONTROL_DEVICE_POLICE/FLAGMAN\n",
       "22          2.7      TRAFFIC_CONTROL_DEVICE_RAILROAD CROSSING GATE\n",
       "23          1.2            TRAFFIC_CONTROL_DEVICE_RR CROSSING SIGN\n",
       "24          1.9                 TRAFFIC_CONTROL_DEVICE_SCHOOL ZONE\n",
       "25        246.1           TRAFFIC_CONTROL_DEVICE_STOP SIGN/FLASHER\n",
       "26        693.9              TRAFFIC_CONTROL_DEVICE_TRAFFIC SIGNAL\n",
       "27         95.8               TRAFFIC_CONTROL_DEVICE_UNKNOWN/OTHER\n",
       "28          4.6                       TRAFFIC_CONTROL_DEVICE_YIELD\n",
       "29          1.1                           WEATHER_CONDITION_CLOUDY\n",
       "30          1.0                              WEATHER_CONDITION_FOG\n",
       "31          2.8                             WEATHER_CONDITION_RAIN\n",
       "32          2.1                             WEATHER_CONDITION_SNOW\n",
       "33          2.4                    WEATHER_CONDITION_UNKNOWN/OTHER\n",
       "34          5.2          LIGHTING_CONDITION_DARKNESS, LIGHTED ROAD\n",
       "35         14.6                        LIGHTING_CONDITION_DAYLIGHT\n",
       "36          2.0                       LIGHTING_CONDITION_DUSK/DAWN\n",
       "37          2.4                         LIGHTING_CONDITION_UNKNOWN\n",
       "38          1.4                            FIRST_CRASH_TYPE_ANIMAL\n",
       "39          2.2                      FIRST_CRASH_TYPE_FIXED OBJECT\n",
       "40          1.1                           FIRST_CRASH_TYPE_HEAD ON\n",
       "41          1.4                             FIRST_CRASH_TYPE_OTHER\n",
       "42          1.0                        FIRST_CRASH_TYPE_OVERTURNED\n",
       "43          5.0              FIRST_CRASH_TYPE_PARKED MOTOR VEHICLE\n",
       "44          1.2                      FIRST_CRASH_TYPE_PEDALCYCLIST\n",
       "45          1.4                        FIRST_CRASH_TYPE_PEDESTRIAN\n",
       "46          4.9                          FIRST_CRASH_TYPE_REAR END\n",
       "47          1.1                     FIRST_CRASH_TYPE_REAR TO FRONT\n",
       "48          1.0                      FIRST_CRASH_TYPE_REAR TO REAR\n",
       "49          1.0                      FIRST_CRASH_TYPE_REAR TO SIDE\n",
       "50          1.2      FIRST_CRASH_TYPE_SIDESWIPE OPPOSITE DIRECTION\n",
       "51          3.3          FIRST_CRASH_TYPE_SIDESWIPE SAME DIRECTION\n",
       "52          1.0                             FIRST_CRASH_TYPE_TRAIN\n",
       "53          2.7                           FIRST_CRASH_TYPE_TURNING\n",
       "54          1.6                   TRAFFICWAY_TYPE_CENTER TURN LANE\n",
       "55         13.7    TRAFFICWAY_TYPE_DIVIDED - W/MEDIAN (NOT RAISED)\n",
       "56          5.3         TRAFFICWAY_TYPE_DIVIDED - W/MEDIAN BARRIER\n",
       "57          1.2                           TRAFFICWAY_TYPE_DRIVEWAY\n",
       "58          3.4                       TRAFFICWAY_TYPE_INTERSECTION\n",
       "59         32.4                        TRAFFICWAY_TYPE_NOT DIVIDED\n",
       "60         10.2                            TRAFFICWAY_TYPE_ONE-WAY\n",
       "61          5.7                        TRAFFICWAY_TYPE_PARKING LOT\n",
       "62          1.2                               TRAFFICWAY_TYPE_RAMP\n",
       "63          3.7                      TRAFFICWAY_TYPE_UNKNOWN/OTHER\n",
       "64          2.2                          ROADWAY_SURFACE_COND_SNOW\n",
       "65          2.3                 ROADWAY_SURFACE_COND_UNKNOWN/OTHER\n",
       "66          3.1                           ROADWAY_SURFACE_COND_WET\n",
       "67          8.8                             ROAD_DEFECT_NO DEFECTS\n",
       "68          1.4                             ROAD_DEFECT_RUT, HOLES\n",
       "69          1.0                        ROAD_DEFECT_SHOULDER DEFECT\n",
       "70          1.0                           ROAD_DEFECT_WORN SURFACE\n",
       "71          3.5                               DAMAGE_$501 - $1,500\n",
       "72          5.9                                 DAMAGE_OVER $1,500\n",
       "73          1.2  PRIM_CONTRIBUTORY_CAUSE_BICYCLE ADVANCING LEGA...\n",
       "74          3.2  PRIM_CONTRIBUTORY_CAUSE_CELL PHONE USE OTHER T...\n",
       "75          4.3  PRIM_CONTRIBUTORY_CAUSE_DISREGARDING OTHER TRA...\n",
       "76          3.2  PRIM_CONTRIBUTORY_CAUSE_DISREGARDING ROAD MARK...\n",
       "77         18.3     PRIM_CONTRIBUTORY_CAUSE_DISREGARDING STOP SIGN\n",
       "78         28.7  PRIM_CONTRIBUTORY_CAUSE_DISREGARDING TRAFFIC S...\n",
       "79          1.6    PRIM_CONTRIBUTORY_CAUSE_DISREGARDING YIELD SIGN\n",
       "80         12.6  PRIM_CONTRIBUTORY_CAUSE_DISTRACTION - FROM INS...\n",
       "81          8.0  PRIM_CONTRIBUTORY_CAUSE_DISTRACTION - FROM OUT...\n",
       "82          1.8  PRIM_CONTRIBUTORY_CAUSE_DISTRACTION - OTHER EL...\n",
       "83          8.2  PRIM_CONTRIBUTORY_CAUSE_DRIVING ON WRONG SIDE/...\n",
       "84         50.3  PRIM_CONTRIBUTORY_CAUSE_DRIVING SKILLS/KNOWLED...\n",
       "85         10.5  PRIM_CONTRIBUTORY_CAUSE_EQUIPMENT - VEHICLE CO...\n",
       "86          3.9  PRIM_CONTRIBUTORY_CAUSE_EVASIVE ACTION DUE TO ...\n",
       "87          8.2  PRIM_CONTRIBUTORY_CAUSE_EXCEEDING AUTHORIZED S...\n",
       "88          7.2  PRIM_CONTRIBUTORY_CAUSE_EXCEEDING SAFE SPEED F...\n",
       "89         68.3  PRIM_CONTRIBUTORY_CAUSE_FAILING TO REDUCE SPEE...\n",
       "90        178.1  PRIM_CONTRIBUTORY_CAUSE_FAILING TO YIELD RIGHT...\n",
       "91        173.8      PRIM_CONTRIBUTORY_CAUSE_FOLLOWING TOO CLOSELY\n",
       "92          2.7  PRIM_CONTRIBUTORY_CAUSE_HAD BEEN DRINKING (USE...\n",
       "93         71.9           PRIM_CONTRIBUTORY_CAUSE_IMPROPER BACKING\n",
       "94         64.0        PRIM_CONTRIBUTORY_CAUSE_IMPROPER LANE USAGE\n",
       "95         77.2  PRIM_CONTRIBUTORY_CAUSE_IMPROPER OVERTAKING/PA...\n",
       "96         54.4  PRIM_CONTRIBUTORY_CAUSE_IMPROPER TURNING/NO SI...\n",
       "97          1.1  PRIM_CONTRIBUTORY_CAUSE_MOTORCYCLE ADVANCING L...\n",
       "98         85.8             PRIM_CONTRIBUTORY_CAUSE_NOT APPLICABLE\n",
       "99          1.1      PRIM_CONTRIBUTORY_CAUSE_OBSTRUCTED CROSSWALKS\n",
       "100        20.2  PRIM_CONTRIBUTORY_CAUSE_OPERATING VEHICLE IN E...\n",
       "101         1.2  PRIM_CONTRIBUTORY_CAUSE_PASSING STOPPED SCHOOL...\n",
       "102        10.1  PRIM_CONTRIBUTORY_CAUSE_PHYSICAL CONDITION OF ...\n",
       "103         1.5        PRIM_CONTRIBUTORY_CAUSE_RELATED TO BUS STOP\n",
       "104         5.1  PRIM_CONTRIBUTORY_CAUSE_ROAD CONSTRUCTION/MAIN...\n",
       "105         6.0  PRIM_CONTRIBUTORY_CAUSE_ROAD ENGINEERING/SURFA...\n",
       "106         1.7                    PRIM_CONTRIBUTORY_CAUSE_TEXTING\n",
       "107         2.1       PRIM_CONTRIBUTORY_CAUSE_TURNING RIGHT ON RED\n",
       "108       575.7        PRIM_CONTRIBUTORY_CAUSE_UNABLE TO DETERMINE\n",
       "109         9.3  PRIM_CONTRIBUTORY_CAUSE_UNDER THE INFLUENCE OF...\n",
       "110        10.2  PRIM_CONTRIBUTORY_CAUSE_VISION OBSCURED (SIGNS...\n",
       "111        26.2                    PRIM_CONTRIBUTORY_CAUSE_WEATHER\n",
       "112        15.1                                      season_Spring\n",
       "113         5.7                                      season_Summer\n",
       "114        30.4                                      season_Winter\n",
       "115       536.4                       POSTED_SPEED_LIMIT NUM_UNITS\n",
       "116        49.7              INJURIES_TOTAL INJURIES_NO_INDICATION\n",
       "117         1.2             INJURIES_FATAL INJURIES_INCAPACITATING\n",
       "118         1.2         INJURIES_FATAL INJURIES_NON_INCAPACITATING\n",
       "119         1.1       INJURIES_FATAL INJURIES_REPORTED_NOT_EVIDENT\n",
       "120         1.7              INJURIES_FATAL INJURIES_NO_INDICATION\n",
       "121         1.3  INJURIES_INCAPACITATING INJURIES_NON_INCAPACIT...\n",
       "122         1.1  INJURIES_INCAPACITATING INJURIES_REPORTED_NOT_...\n",
       "123         5.6     INJURIES_INCAPACITATING INJURIES_NO_INDICATION\n",
       "124         1.2  INJURIES_NON_INCAPACITATING INJURIES_REPORTED_...\n",
       "125        24.0  INJURIES_NON_INCAPACITATING INJURIES_NO_INDICA...\n",
       "126        18.7  INJURIES_REPORTED_NOT_EVIDENT INJURIES_NO_INDI...\n",
       "127        34.5                  INJURIES_NO_INDICATION CRASH_HOUR\n",
       "128        25.1           INJURIES_NO_INDICATION CRASH_DAY_OF_WEEK\n",
       "129        24.5                 INJURIES_NO_INDICATION CRASH_MONTH\n",
       "130        20.5                         INJURIES_NO_INDICATION day\n",
       "131        33.3                       CRASH_HOUR CRASH_DAY_OF_WEEK\n",
       "132        33.1                             CRASH_HOUR CRASH_MONTH\n",
       "133        28.5                                     CRASH_HOUR day\n",
       "134        25.9                      CRASH_DAY_OF_WEEK CRASH_MONTH\n",
       "135        22.5                              CRASH_DAY_OF_WEEK day\n",
       "136        20.3                                    CRASH_MONTH day"
      ]
     },
     "execution_count": 35,
     "metadata": {},
     "output_type": "execute_result"
    }
   ],
   "source": [
    "vif = pd.DataFrame()\n",
    "vif[\"VIF Factor\"] = [variance_inflation_factor(df_features.values, i) for i in range(df_features.shape[1])]\n",
    "vif[\"features\"] = df_features.columns\n",
    "vif.round(1)"
   ]
  },
  {
   "cell_type": "code",
   "execution_count": 36,
   "metadata": {},
   "outputs": [
    {
     "name": "stdout",
     "output_type": "stream",
     "text": [
      "['POSTED_SPEED_LIMIT', 'NUM_UNITS', 'INJURIES_TOTAL', 'INJURIES_NON_INCAPACITATING', 'INJURIES_REPORTED_NOT_EVIDENT', 'INJURIES_NO_INDICATION', 'CRASH_HOUR', 'CRASH_DAY_OF_WEEK', 'CRASH_MONTH', 'day', 'TRAFFIC_CONTROL_DEVICE_NO CONTROLS', 'TRAFFIC_CONTROL_DEVICE_STOP SIGN/FLASHER', 'TRAFFIC_CONTROL_DEVICE_TRAFFIC SIGNAL', 'TRAFFIC_CONTROL_DEVICE_UNKNOWN/OTHER', 'LIGHTING_CONDITION_DAYLIGHT', 'TRAFFICWAY_TYPE_DIVIDED - W/MEDIAN (NOT RAISED)', 'TRAFFICWAY_TYPE_NOT DIVIDED', 'TRAFFICWAY_TYPE_ONE-WAY', 'PRIM_CONTRIBUTORY_CAUSE_DISREGARDING STOP SIGN', 'PRIM_CONTRIBUTORY_CAUSE_DISREGARDING TRAFFIC SIGNALS', 'PRIM_CONTRIBUTORY_CAUSE_DISTRACTION - FROM INSIDE VEHICLE', 'PRIM_CONTRIBUTORY_CAUSE_DRIVING SKILLS/KNOWLEDGE/EXPERIENCE', 'PRIM_CONTRIBUTORY_CAUSE_EQUIPMENT - VEHICLE CONDITION', 'PRIM_CONTRIBUTORY_CAUSE_FAILING TO REDUCE SPEED TO AVOID CRASH', 'PRIM_CONTRIBUTORY_CAUSE_FAILING TO YIELD RIGHT-OF-WAY', 'PRIM_CONTRIBUTORY_CAUSE_FOLLOWING TOO CLOSELY', 'PRIM_CONTRIBUTORY_CAUSE_IMPROPER BACKING', 'PRIM_CONTRIBUTORY_CAUSE_IMPROPER LANE USAGE', 'PRIM_CONTRIBUTORY_CAUSE_IMPROPER OVERTAKING/PASSING', 'PRIM_CONTRIBUTORY_CAUSE_IMPROPER TURNING/NO SIGNAL', 'PRIM_CONTRIBUTORY_CAUSE_NOT APPLICABLE', 'PRIM_CONTRIBUTORY_CAUSE_OPERATING VEHICLE IN ERRATIC, RECKLESS, CARELESS, NEGLIGENT OR AGGRESSIVE MANNER', 'PRIM_CONTRIBUTORY_CAUSE_PHYSICAL CONDITION OF DRIVER', 'PRIM_CONTRIBUTORY_CAUSE_UNABLE TO DETERMINE', 'PRIM_CONTRIBUTORY_CAUSE_UNDER THE INFLUENCE OF ALCOHOL/DRUGS (USE WHEN ARREST IS EFFECTED)', 'PRIM_CONTRIBUTORY_CAUSE_VISION OBSCURED (SIGNS, TREE LIMBS, BUILDINGS, ETC.)', 'PRIM_CONTRIBUTORY_CAUSE_WEATHER', 'season_Spring', 'season_Winter', 'POSTED_SPEED_LIMIT NUM_UNITS', 'INJURIES_TOTAL INJURIES_NO_INDICATION', 'INJURIES_NON_INCAPACITATING INJURIES_NO_INDICATION', 'INJURIES_REPORTED_NOT_EVIDENT INJURIES_NO_INDICATION', 'INJURIES_NO_INDICATION CRASH_HOUR', 'INJURIES_NO_INDICATION CRASH_DAY_OF_WEEK', 'INJURIES_NO_INDICATION CRASH_MONTH', 'INJURIES_NO_INDICATION day', 'CRASH_HOUR CRASH_DAY_OF_WEEK', 'CRASH_HOUR CRASH_MONTH', 'CRASH_HOUR day', 'CRASH_DAY_OF_WEEK CRASH_MONTH', 'CRASH_DAY_OF_WEEK day', 'CRASH_MONTH day']\n",
      "53\n"
     ]
    }
   ],
   "source": [
    "vif_drop =  list(vif[vif['VIF Factor'] > 9]['features'])\n",
    "print(vif_drop)\n",
    "print(len(vif_drop))"
   ]
  },
  {
   "cell_type": "code",
   "execution_count": 37,
   "metadata": {},
   "outputs": [],
   "source": [
    "df_features.drop(columns = vif_drop, inplace = True)"
   ]
  },
  {
   "cell_type": "code",
   "execution_count": 38,
   "metadata": {},
   "outputs": [],
   "source": [
    "df_features['target'] = target"
   ]
  },
  {
   "cell_type": "code",
   "execution_count": 39,
   "metadata": {},
   "outputs": [],
   "source": [
    "df_features.to_pickle(\"data.pkl\")"
   ]
  },
  {
   "cell_type": "code",
   "execution_count": null,
   "metadata": {},
   "outputs": [],
   "source": []
  }
 ],
 "metadata": {
  "kernelspec": {
   "display_name": "Python 3",
   "language": "python",
   "name": "python3"
  },
  "language_info": {
   "codemirror_mode": {
    "name": "ipython",
    "version": 3
   },
   "file_extension": ".py",
   "mimetype": "text/x-python",
   "name": "python",
   "nbconvert_exporter": "python",
   "pygments_lexer": "ipython3",
   "version": "3.7.6"
  }
 },
 "nbformat": 4,
 "nbformat_minor": 4
}
