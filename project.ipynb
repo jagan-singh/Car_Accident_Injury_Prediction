{
 "cells": [
  {
   "cell_type": "code",
   "execution_count": 1,
   "metadata": {},
   "outputs": [],
   "source": [
    "import pandas as pd\n",
    "pd.set_option('display.max_columns', None)"
   ]
  },
  {
   "cell_type": "code",
   "execution_count": 2,
   "metadata": {},
   "outputs": [],
   "source": [
    "df = pd.read_csv('Traffic_Crashes_-_Crashes.csv')"
   ]
  },
  {
   "cell_type": "code",
   "execution_count": 3,
   "metadata": {},
   "outputs": [
    {
     "data": {
      "text/plain": [
       "(430054, 49)"
      ]
     },
     "execution_count": 3,
     "metadata": {},
     "output_type": "execute_result"
    }
   ],
   "source": [
    "df.shape"
   ]
  },
  {
   "cell_type": "code",
   "execution_count": 4,
   "metadata": {},
   "outputs": [
    {
     "data": {
      "text/plain": [
       "CRASH_RECORD_ID                       0\n",
       "RD_NO                              4098\n",
       "CRASH_DATE_EST_I                 398108\n",
       "CRASH_DATE                            0\n",
       "POSTED_SPEED_LIMIT                    0\n",
       "TRAFFIC_CONTROL_DEVICE                0\n",
       "DEVICE_CONDITION                      0\n",
       "WEATHER_CONDITION                     0\n",
       "LIGHTING_CONDITION                    0\n",
       "FIRST_CRASH_TYPE                      0\n",
       "TRAFFICWAY_TYPE                       0\n",
       "LANE_CNT                         231098\n",
       "ALIGNMENT                             0\n",
       "ROADWAY_SURFACE_COND                  0\n",
       "ROAD_DEFECT                           0\n",
       "REPORT_TYPE                       10097\n",
       "CRASH_TYPE                            0\n",
       "INTERSECTION_RELATED_I           333742\n",
       "NOT_RIGHT_OF_WAY_I               409947\n",
       "HIT_AND_RUN_I                    307314\n",
       "DAMAGE                                0\n",
       "DATE_POLICE_NOTIFIED                  0\n",
       "PRIM_CONTRIBUTORY_CAUSE               0\n",
       "SEC_CONTRIBUTORY_CAUSE                0\n",
       "STREET_NO                             0\n",
       "STREET_DIRECTION                      3\n",
       "STREET_NAME                           1\n",
       "BEAT_OF_OCCURRENCE                    5\n",
       "PHOTOS_TAKEN_I                   424615\n",
       "STATEMENTS_TAKEN_I               421340\n",
       "DOORING_I                        428632\n",
       "WORK_ZONE_I                      427164\n",
       "WORK_ZONE_TYPE                   427761\n",
       "WORKERS_PRESENT_I                429369\n",
       "NUM_UNITS                             0\n",
       "MOST_SEVERE_INJURY                  854\n",
       "INJURIES_TOTAL                      844\n",
       "INJURIES_FATAL                      844\n",
       "INJURIES_INCAPACITATING             844\n",
       "INJURIES_NON_INCAPACITATING         844\n",
       "INJURIES_REPORTED_NOT_EVIDENT       844\n",
       "INJURIES_NO_INDICATION              844\n",
       "INJURIES_UNKNOWN                    844\n",
       "CRASH_HOUR                            0\n",
       "CRASH_DAY_OF_WEEK                     0\n",
       "CRASH_MONTH                           0\n",
       "LATITUDE                           2345\n",
       "LONGITUDE                          2345\n",
       "LOCATION                           2345\n",
       "dtype: int64"
      ]
     },
     "execution_count": 4,
     "metadata": {},
     "output_type": "execute_result"
    }
   ],
   "source": [
    "df.isna().sum()"
   ]
  },
  {
   "cell_type": "code",
   "execution_count": 5,
   "metadata": {},
   "outputs": [],
   "source": [
    "to_drop = ['CRASH_DATE_EST_I', 'RD_NO', 'LANE_CNT', 'REPORT_TYPE', 'INTERSECTION_RELATED_I', 'NOT_RIGHT_OF_WAY_I',\n",
    "           'HIT_AND_RUN_I','DATE_POLICE_NOTIFIED', 'STREET_NO','STREET_DIRECTION', 'BEAT_OF_OCCURRENCE','PHOTOS_TAKEN_I'\n",
    "          ,'STATEMENTS_TAKEN_I', 'DOORING_I', 'WORK_ZONE_I', 'WORK_ZONE_TYPE', 'WORKERS_PRESENT_I','LATITUDE', 'LONGITUDE',\n",
    "          'LOCATION','CRASH_RECORD_ID','INJURIES_UNKNOWN','ALIGNMENT','SEC_CONTRIBUTORY_CAUSE','DEVICE_CONDITION']"
   ]
  },
  {
   "cell_type": "code",
   "execution_count": 6,
   "metadata": {},
   "outputs": [
    {
     "data": {
      "text/plain": [
       "NO INJURY / DRIVE AWAY              327600\n",
       "INJURY AND / OR TOW DUE TO CRASH    102454\n",
       "Name: CRASH_TYPE, dtype: int64"
      ]
     },
     "execution_count": 6,
     "metadata": {},
     "output_type": "execute_result"
    }
   ],
   "source": [
    "# Target \n",
    "df.CRASH_TYPE.value_counts()"
   ]
  },
  {
   "cell_type": "code",
   "execution_count": 7,
   "metadata": {},
   "outputs": [],
   "source": [
    "df.drop(columns = to_drop, inplace = True)"
   ]
  },
  {
   "cell_type": "code",
   "execution_count": 8,
   "metadata": {},
   "outputs": [
    {
     "data": {
      "text/plain": [
       "(430054, 26)"
      ]
     },
     "execution_count": 8,
     "metadata": {},
     "output_type": "execute_result"
    }
   ],
   "source": [
    "df.shape\n"
   ]
  },
  {
   "cell_type": "code",
   "execution_count": 9,
   "metadata": {},
   "outputs": [
    {
     "data": {
      "text/plain": [
       "CRASH_DATE                         0\n",
       "POSTED_SPEED_LIMIT                 0\n",
       "TRAFFIC_CONTROL_DEVICE             0\n",
       "DEVICE_CONDITION                   0\n",
       "WEATHER_CONDITION                  0\n",
       "LIGHTING_CONDITION                 0\n",
       "FIRST_CRASH_TYPE                   0\n",
       "TRAFFICWAY_TYPE                    0\n",
       "ROADWAY_SURFACE_COND               0\n",
       "ROAD_DEFECT                        0\n",
       "CRASH_TYPE                         0\n",
       "DAMAGE                             0\n",
       "PRIM_CONTRIBUTORY_CAUSE            0\n",
       "SEC_CONTRIBUTORY_CAUSE             0\n",
       "STREET_NAME                        1\n",
       "NUM_UNITS                          0\n",
       "MOST_SEVERE_INJURY               854\n",
       "INJURIES_TOTAL                   844\n",
       "INJURIES_FATAL                   844\n",
       "INJURIES_INCAPACITATING          844\n",
       "INJURIES_NON_INCAPACITATING      844\n",
       "INJURIES_REPORTED_NOT_EVIDENT    844\n",
       "INJURIES_NO_INDICATION           844\n",
       "CRASH_HOUR                         0\n",
       "CRASH_DAY_OF_WEEK                  0\n",
       "CRASH_MONTH                        0\n",
       "dtype: int64"
      ]
     },
     "execution_count": 9,
     "metadata": {},
     "output_type": "execute_result"
    }
   ],
   "source": [
    "df.isna().sum()"
   ]
  },
  {
   "cell_type": "code",
   "execution_count": 10,
   "metadata": {},
   "outputs": [],
   "source": [
    "df.drop(df[df.MOST_SEVERE_INJURY.isna()].index, inplace = True)\n",
    "df.drop(df[df.STREET_NAME.isna()].index, inplace = True)"
   ]
  },
  {
   "cell_type": "code",
   "execution_count": 11,
   "metadata": {},
   "outputs": [
    {
     "data": {
      "text/plain": [
       "NO INJURY / DRIVE AWAY              327071\n",
       "INJURY AND / OR TOW DUE TO CRASH    102128\n",
       "Name: CRASH_TYPE, dtype: int64"
      ]
     },
     "execution_count": 11,
     "metadata": {},
     "output_type": "execute_result"
    }
   ],
   "source": [
    "df.CRASH_TYPE.value_counts()"
   ]
  },
  {
   "cell_type": "code",
   "execution_count": 12,
   "metadata": {},
   "outputs": [
    {
     "data": {
      "text/plain": [
       "CRASH_DATE                       0\n",
       "POSTED_SPEED_LIMIT               0\n",
       "TRAFFIC_CONTROL_DEVICE           0\n",
       "DEVICE_CONDITION                 0\n",
       "WEATHER_CONDITION                0\n",
       "LIGHTING_CONDITION               0\n",
       "FIRST_CRASH_TYPE                 0\n",
       "TRAFFICWAY_TYPE                  0\n",
       "ROADWAY_SURFACE_COND             0\n",
       "ROAD_DEFECT                      0\n",
       "CRASH_TYPE                       0\n",
       "DAMAGE                           0\n",
       "PRIM_CONTRIBUTORY_CAUSE          0\n",
       "SEC_CONTRIBUTORY_CAUSE           0\n",
       "STREET_NAME                      0\n",
       "NUM_UNITS                        0\n",
       "MOST_SEVERE_INJURY               0\n",
       "INJURIES_TOTAL                   0\n",
       "INJURIES_FATAL                   0\n",
       "INJURIES_INCAPACITATING          0\n",
       "INJURIES_NON_INCAPACITATING      0\n",
       "INJURIES_REPORTED_NOT_EVIDENT    0\n",
       "INJURIES_NO_INDICATION           0\n",
       "CRASH_HOUR                       0\n",
       "CRASH_DAY_OF_WEEK                0\n",
       "CRASH_MONTH                      0\n",
       "dtype: int64"
      ]
     },
     "execution_count": 12,
     "metadata": {},
     "output_type": "execute_result"
    }
   ],
   "source": [
    "df.isna().sum()"
   ]
  },
  {
   "cell_type": "code",
   "execution_count": 13,
   "metadata": {},
   "outputs": [
    {
     "data": {
      "text/plain": [
       "0.0     375066\n",
       "1.0      41081\n",
       "2.0       8779\n",
       "3.0       2691\n",
       "4.0        962\n",
       "5.0        360\n",
       "6.0        148\n",
       "7.0         55\n",
       "8.0         17\n",
       "9.0         14\n",
       "10.0         8\n",
       "15.0         5\n",
       "11.0         5\n",
       "12.0         2\n",
       "13.0         2\n",
       "21.0         2\n",
       "16.0         1\n",
       "19.0         1\n",
       "Name: INJURIES_TOTAL, dtype: int64"
      ]
     },
     "execution_count": 13,
     "metadata": {},
     "output_type": "execute_result"
    }
   ],
   "source": [
    "df.INJURIES_TOTAL.value_counts()"
   ]
  },
  {
   "cell_type": "code",
   "execution_count": 14,
   "metadata": {},
   "outputs": [
    {
     "data": {
      "text/plain": [
       "(429199, 26)"
      ]
     },
     "execution_count": 14,
     "metadata": {},
     "output_type": "execute_result"
    }
   ],
   "source": [
    "df.shape"
   ]
  },
  {
   "cell_type": "code",
   "execution_count": 15,
   "metadata": {},
   "outputs": [
    {
     "data": {
      "text/plain": [
       "Index(['CRASH_DATE', 'POSTED_SPEED_LIMIT', 'TRAFFIC_CONTROL_DEVICE',\n",
       "       'DEVICE_CONDITION', 'WEATHER_CONDITION', 'LIGHTING_CONDITION',\n",
       "       'FIRST_CRASH_TYPE', 'TRAFFICWAY_TYPE', 'ROADWAY_SURFACE_COND',\n",
       "       'ROAD_DEFECT', 'CRASH_TYPE', 'DAMAGE', 'PRIM_CONTRIBUTORY_CAUSE',\n",
       "       'SEC_CONTRIBUTORY_CAUSE', 'STREET_NAME', 'NUM_UNITS',\n",
       "       'MOST_SEVERE_INJURY', 'INJURIES_TOTAL', 'INJURIES_FATAL',\n",
       "       'INJURIES_INCAPACITATING', 'INJURIES_NON_INCAPACITATING',\n",
       "       'INJURIES_REPORTED_NOT_EVIDENT', 'INJURIES_NO_INDICATION', 'CRASH_HOUR',\n",
       "       'CRASH_DAY_OF_WEEK', 'CRASH_MONTH'],\n",
       "      dtype='object')"
      ]
     },
     "execution_count": 15,
     "metadata": {},
     "output_type": "execute_result"
    }
   ],
   "source": [
    "df.columns"
   ]
  },
  {
   "cell_type": "code",
   "execution_count": 16,
   "metadata": {},
   "outputs": [
    {
     "data": {
      "text/plain": [
       "<matplotlib.axes._subplots.AxesSubplot at 0x7fbac05fb790>"
      ]
     },
     "execution_count": 16,
     "metadata": {},
     "output_type": "execute_result"
    },
    {
     "data": {
      "image/png": "[encoded data removed]",
      "text/plain": [
       "<Figure size 432x288 with 1 Axes>"
      ]
     },
     "metadata": {
      "needs_background": "light"
     },
     "output_type": "display_data"
    }
   ],
   "source": [
    "df.CRASH_HOUR.plot(kind = 'hist', bins = 24)"
   ]
  },
  {
   "cell_type": "code",
   "execution_count": 17,
   "metadata": {},
   "outputs": [
    {
     "data": {
      "text/plain": [
       "6    0.162274\n",
       "7    0.146452\n",
       "3    0.144406\n",
       "5    0.144127\n",
       "4    0.143027\n",
       "2    0.139553\n",
       "1    0.120161\n",
       "Name: CRASH_DAY_OF_WEEK, dtype: float64"
      ]
     },
     "execution_count": 17,
     "metadata": {},
     "output_type": "execute_result"
    }
   ],
   "source": [
    "df.CRASH_DAY_OF_WEEK.value_counts(normalize = True)"
   ]
  },
  {
   "cell_type": "code",
   "execution_count": 18,
   "metadata": {},
   "outputs": [
    {
     "data": {
      "text/plain": [
       "7     0.093190\n",
       "10    0.088716\n",
       "6     0.088337\n",
       "12    0.086072\n",
       "5     0.085832\n",
       "8     0.084308\n",
       "11    0.083584\n",
       "9     0.081459\n",
       "1     0.080138\n",
       "3     0.078476\n",
       "2     0.076762\n",
       "4     0.073127\n",
       "Name: CRASH_MONTH, dtype: float64"
      ]
     },
     "execution_count": 18,
     "metadata": {},
     "output_type": "execute_result"
    }
   ],
   "source": [
    "df.CRASH_MONTH.value_counts(normalize = True)"
   ]
  },
  {
   "cell_type": "code",
   "execution_count": 19,
   "metadata": {},
   "outputs": [
    {
     "data": {
      "text/plain": [
       "NO INJURY / DRIVE AWAY              327071\n",
       "INJURY AND / OR TOW DUE TO CRASH    102128\n",
       "Name: CRASH_TYPE, dtype: int64"
      ]
     },
     "execution_count": 19,
     "metadata": {},
     "output_type": "execute_result"
    }
   ],
   "source": [
    "df.CRASH_TYPE.value_counts()"
   ]
  },
  {
   "cell_type": "code",
   "execution_count": 20,
   "metadata": {},
   "outputs": [],
   "source": [
    "df['CRASH_DATE'] = pd.to_datetime(df.CRASH_DATE)"
   ]
  },
  {
   "cell_type": "code",
   "execution_count": 21,
   "metadata": {},
   "outputs": [
    {
     "data": {
      "text/plain": [
       "NO INJURY / DRIVE AWAY              327071\n",
       "INJURY AND / OR TOW DUE TO CRASH    102128\n",
       "Name: CRASH_TYPE, dtype: int64"
      ]
     },
     "execution_count": 21,
     "metadata": {},
     "output_type": "execute_result"
    }
   ],
   "source": [
    "df.CRASH_TYPE.value_counts()"
   ]
  },
  {
   "cell_type": "code",
   "execution_count": 22,
   "metadata": {},
   "outputs": [
    {
     "data": {
      "text/plain": [
       "dtype('<M8[ns]')"
      ]
     },
     "execution_count": 22,
     "metadata": {},
     "output_type": "execute_result"
    }
   ],
   "source": [
    "df.CRASH_DATE.dtype"
   ]
  },
  {
   "cell_type": "code",
   "execution_count": 23,
   "metadata": {},
   "outputs": [
    {
     "name": "stdout",
     "output_type": "stream",
     "text": [
      "<class 'pandas.core.frame.DataFrame'>\n",
      "Int64Index: 429199 entries, 0 to 430053\n",
      "Data columns (total 26 columns):\n",
      " #   Column                         Non-Null Count   Dtype         \n",
      "---  ------                         --------------   -----         \n",
      " 0   CRASH_DATE                     429199 non-null  datetime64[ns]\n",
      " 1   POSTED_SPEED_LIMIT             429199 non-null  int64         \n",
      " 2   TRAFFIC_CONTROL_DEVICE         429199 non-null  object        \n",
      " 3   DEVICE_CONDITION               429199 non-null  object        \n",
      " 4   WEATHER_CONDITION              429199 non-null  object        \n",
      " 5   LIGHTING_CONDITION             429199 non-null  object        \n",
      " 6   FIRST_CRASH_TYPE               429199 non-null  object        \n",
      " 7   TRAFFICWAY_TYPE                429199 non-null  object        \n",
      " 8   ROADWAY_SURFACE_COND           429199 non-null  object        \n",
      " 9   ROAD_DEFECT                    429199 non-null  object        \n",
      " 10  CRASH_TYPE                     429199 non-null  object        \n",
      " 11  DAMAGE                         429199 non-null  object        \n",
      " 12  PRIM_CONTRIBUTORY_CAUSE        429199 non-null  object        \n",
      " 13  SEC_CONTRIBUTORY_CAUSE         429199 non-null  object        \n",
      " 14  STREET_NAME                    429199 non-null  object        \n",
      " 15  NUM_UNITS                      429199 non-null  int64         \n",
      " 16  MOST_SEVERE_INJURY             429199 non-null  object        \n",
      " 17  INJURIES_TOTAL                 429199 non-null  float64       \n",
      " 18  INJURIES_FATAL                 429199 non-null  float64       \n",
      " 19  INJURIES_INCAPACITATING        429199 non-null  float64       \n",
      " 20  INJURIES_NON_INCAPACITATING    429199 non-null  float64       \n",
      " 21  INJURIES_REPORTED_NOT_EVIDENT  429199 non-null  float64       \n",
      " 22  INJURIES_NO_INDICATION         429199 non-null  float64       \n",
      " 23  CRASH_HOUR                     429199 non-null  int64         \n",
      " 24  CRASH_DAY_OF_WEEK              429199 non-null  int64         \n",
      " 25  CRASH_MONTH                    429199 non-null  int64         \n",
      "dtypes: datetime64[ns](1), float64(6), int64(5), object(14)\n",
      "memory usage: 88.4+ MB\n"
     ]
    }
   ],
   "source": [
    "df.info()"
   ]
  },
  {
   "cell_type": "code",
   "execution_count": 24,
   "metadata": {},
   "outputs": [
    {
     "data": {
      "text/plain": [
       "2     379478\n",
       "3      22253\n",
       "1      21990\n",
       "4       4086\n",
       "5        951\n",
       "6        269\n",
       "7         99\n",
       "8         36\n",
       "9         18\n",
       "10        10\n",
       "11         3\n",
       "12         2\n",
       "18         1\n",
       "16         1\n",
       "15         1\n",
       "14         1\n",
       "Name: NUM_UNITS, dtype: int64"
      ]
     },
     "execution_count": 24,
     "metadata": {},
     "output_type": "execute_result"
    }
   ],
   "source": [
    "df.NUM_UNITS.value_counts()"
   ]
  },
  {
   "cell_type": "code",
   "execution_count": 25,
   "metadata": {},
   "outputs": [],
   "source": [
    "df['NUM_UNITS'].values[df['NUM_UNITS'] > 4] = 4"
   ]
  },
  {
   "cell_type": "code",
   "execution_count": 26,
   "metadata": {},
   "outputs": [
    {
     "data": {
      "text/plain": [
       "0.0     375066\n",
       "1.0      41081\n",
       "2.0       8779\n",
       "3.0       2691\n",
       "4.0        962\n",
       "5.0        360\n",
       "6.0        148\n",
       "7.0         55\n",
       "8.0         17\n",
       "9.0         14\n",
       "10.0         8\n",
       "15.0         5\n",
       "11.0         5\n",
       "12.0         2\n",
       "13.0         2\n",
       "21.0         2\n",
       "16.0         1\n",
       "19.0         1\n",
       "Name: INJURIES_TOTAL, dtype: int64"
      ]
     },
     "execution_count": 26,
     "metadata": {},
     "output_type": "execute_result"
    }
   ],
   "source": [
    "df.INJURIES_TOTAL.value_counts()"
   ]
  },
  {
   "cell_type": "code",
   "execution_count": 27,
   "metadata": {},
   "outputs": [],
   "source": [
    "df['INJURIES_TOTAL'].values[df['INJURIES_TOTAL'] > 4] = 4"
   ]
  },
  {
   "cell_type": "code",
   "execution_count": 28,
   "metadata": {},
   "outputs": [
    {
     "data": {
      "text/plain": [
       "0.0    428809\n",
       "1.0       363\n",
       "2.0        21\n",
       "3.0         5\n",
       "4.0         1\n",
       "Name: INJURIES_FATAL, dtype: int64"
      ]
     },
     "execution_count": 28,
     "metadata": {},
     "output_type": "execute_result"
    }
   ],
   "source": [
    "df.INJURIES_FATAL.value_counts()"
   ]
  },
  {
   "cell_type": "code",
   "execution_count": 29,
   "metadata": {},
   "outputs": [
    {
     "data": {
      "text/plain": [
       "0.0    422274\n",
       "1.0      6073\n",
       "2.0       626\n",
       "3.0       153\n",
       "4.0        56\n",
       "5.0        13\n",
       "6.0         3\n",
       "7.0         1\n",
       "Name: INJURIES_INCAPACITATING, dtype: int64"
      ]
     },
     "execution_count": 29,
     "metadata": {},
     "output_type": "execute_result"
    }
   ],
   "source": [
    "df.INJURIES_INCAPACITATING.value_counts()"
   ]
  },
  {
   "cell_type": "code",
   "execution_count": 30,
   "metadata": {},
   "outputs": [
    {
     "data": {
      "text/plain": [
       "0.0     398164\n",
       "1.0      24602\n",
       "2.0       4363\n",
       "3.0       1312\n",
       "4.0        475\n",
       "5.0        168\n",
       "6.0         69\n",
       "7.0         22\n",
       "8.0          6\n",
       "10.0         5\n",
       "11.0         4\n",
       "9.0          3\n",
       "21.0         2\n",
       "16.0         1\n",
       "12.0         1\n",
       "18.0         1\n",
       "14.0         1\n",
       "Name: INJURIES_NON_INCAPACITATING, dtype: int64"
      ]
     },
     "execution_count": 30,
     "metadata": {},
     "output_type": "execute_result"
    }
   ],
   "source": [
    "df.INJURIES_NON_INCAPACITATING.value_counts()"
   ]
  },
  {
   "cell_type": "code",
   "execution_count": 31,
   "metadata": {},
   "outputs": [
    {
     "data": {
      "text/plain": [
       "0.0     410232\n",
       "1.0      14846\n",
       "2.0       2979\n",
       "3.0        773\n",
       "4.0        226\n",
       "5.0         95\n",
       "6.0         20\n",
       "7.0         10\n",
       "9.0          6\n",
       "8.0          5\n",
       "10.0         4\n",
       "15.0         2\n",
       "11.0         1\n",
       "Name: INJURIES_REPORTED_NOT_EVIDENT, dtype: int64"
      ]
     },
     "execution_count": 31,
     "metadata": {},
     "output_type": "execute_result"
    }
   ],
   "source": [
    "df.INJURIES_REPORTED_NOT_EVIDENT.value_counts()"
   ]
  },
  {
   "cell_type": "code",
   "execution_count": 32,
   "metadata": {},
   "outputs": [
    {
     "data": {
      "text/plain": [
       "2.0     202714\n",
       "1.0     126330\n",
       "3.0      55599\n",
       "4.0      21321\n",
       "5.0       9040\n",
       "0.0       7481\n",
       "6.0       3863\n",
       "7.0       1480\n",
       "8.0        670\n",
       "9.0        284\n",
       "10.0       146\n",
       "11.0        69\n",
       "12.0        41\n",
       "14.0        27\n",
       "13.0        26\n",
       "16.0        16\n",
       "15.0        14\n",
       "17.0        10\n",
       "20.0         9\n",
       "21.0         6\n",
       "37.0         5\n",
       "27.0         4\n",
       "26.0         4\n",
       "19.0         4\n",
       "30.0         4\n",
       "22.0         4\n",
       "18.0         4\n",
       "36.0         3\n",
       "42.0         3\n",
       "31.0         3\n",
       "28.0         2\n",
       "29.0         2\n",
       "40.0         2\n",
       "38.0         1\n",
       "39.0         1\n",
       "46.0         1\n",
       "34.0         1\n",
       "25.0         1\n",
       "33.0         1\n",
       "50.0         1\n",
       "61.0         1\n",
       "24.0         1\n",
       "Name: INJURIES_NO_INDICATION, dtype: int64"
      ]
     },
     "execution_count": 32,
     "metadata": {},
     "output_type": "execute_result"
    }
   ],
   "source": [
    "df.INJURIES_NO_INDICATION.value_counts()"
   ]
  },
  {
   "cell_type": "code",
   "execution_count": 33,
   "metadata": {},
   "outputs": [],
   "source": [
    "df['INJURIES_NO_INDICATION'].values[df['INJURIES_NO_INDICATION'] > 5] = 5"
   ]
  },
  {
   "cell_type": "code",
   "execution_count": 34,
   "metadata": {},
   "outputs": [
    {
     "data": {
      "text/plain": [
       "NO CONTROLS                 246871\n",
       "TRAFFIC SIGNAL              119749\n",
       "STOP SIGN/FLASHER            42384\n",
       "UNKNOWN                      13807\n",
       "OTHER                         2577\n",
       "LANE USE MARKING              1223\n",
       "YIELD                          615\n",
       "OTHER REG. SIGN                426\n",
       "OTHER WARNING SIGN             389\n",
       "RAILROAD CROSSING GATE         292\n",
       "POLICE/FLAGMAN                 166\n",
       "SCHOOL ZONE                    163\n",
       "PEDESTRIAN CROSSING SIGN       161\n",
       "DELINEATORS                    119\n",
       "OTHER RAILROAD CROSSING        100\n",
       "FLASHING CONTROL SIGNAL         96\n",
       "RR CROSSING SIGN                32\n",
       "NO PASSING                      18\n",
       "BICYCLE CROSSING SIGN           11\n",
       "Name: TRAFFIC_CONTROL_DEVICE, dtype: int64"
      ]
     },
     "execution_count": 34,
     "metadata": {},
     "output_type": "execute_result"
    }
   ],
   "source": [
    "df.TRAFFIC_CONTROL_DEVICE.value_counts()"
   ]
  },
  {
   "cell_type": "code",
   "execution_count": 35,
   "metadata": {},
   "outputs": [],
   "source": [
    "df.TRAFFIC_CONTROL_DEVICE = df.TRAFFIC_CONTROL_DEVICE.replace({'UNKNOWN':'UNKNOWN/OTHER','OTHER':'UNKNOWN/OTHER'})"
   ]
  },
  {
   "cell_type": "code",
   "execution_count": 36,
   "metadata": {},
   "outputs": [
    {
     "data": {
      "text/plain": [
       "NO CONTROLS                 249254\n",
       "FUNCTIONING PROPERLY        149180\n",
       "UNKNOWN                      23369\n",
       "OTHER                         3316\n",
       "FUNCTIONING IMPROPERLY        2391\n",
       "NOT FUNCTIONING               1438\n",
       "WORN REFLECTIVE MATERIAL       196\n",
       "MISSING                         55\n",
       "Name: DEVICE_CONDITION, dtype: int64"
      ]
     },
     "execution_count": 36,
     "metadata": {},
     "output_type": "execute_result"
    }
   ],
   "source": [
    "df.DEVICE_CONDITION.value_counts()"
   ]
  },
  {
   "cell_type": "code",
   "execution_count": 37,
   "metadata": {},
   "outputs": [],
   "source": [
    "df.DEVICE_CONDITION = df.DEVICE_CONDITION.replace({'UNKNOWN':'UNKNOWN/OTHER','OTHER':'UNKNOWN/OTHER'})"
   ]
  },
  {
   "cell_type": "code",
   "execution_count": null,
   "metadata": {},
   "outputs": [],
   "source": []
  },
  {
   "cell_type": "code",
   "execution_count": 38,
   "metadata": {},
   "outputs": [
    {
     "data": {
      "text/plain": [
       "CLEAR                       339727\n",
       "RAIN                         39056\n",
       "UNKNOWN                      18461\n",
       "SNOW                         15668\n",
       "CLOUDY/OVERCAST              12959\n",
       "OTHER                         1351\n",
       "FOG/SMOKE/HAZE                 790\n",
       "SLEET/HAIL                     654\n",
       "FREEZING RAIN/DRIZZLE          388\n",
       "SEVERE CROSS WIND GATE          81\n",
       "BLOWING SNOW                    62\n",
       "BLOWING SAND, SOIL, DIRT         2\n",
       "Name: WEATHER_CONDITION, dtype: int64"
      ]
     },
     "execution_count": 38,
     "metadata": {},
     "output_type": "execute_result"
    }
   ],
   "source": [
    "df.WEATHER_CONDITION.value_counts()"
   ]
  },
  {
   "cell_type": "code",
   "execution_count": 39,
   "metadata": {},
   "outputs": [],
   "source": [
    "df.WEATHER_CONDITION = df.WEATHER_CONDITION.replace({'UNKNOWN':'UNKNOWN/OTHER','OTHER':'UNKNOWN/OTHER',\n",
    "                                                    'SLEET/HAIL': 'SNOW', 'FREEZING RAIN/DRIZZLE': 'RAIN',\n",
    "                                                    'SEVERE CROSS WIND GATE': 'CLOUDY/OVERCAST','BLOWING SNOW': 'SNOW',\n",
    "                                                    'BLOWING SAND, SOIL, DIRT': 'UNKNOWN/OTHER'})\n",
    "df.WEATHER_CONDITION = df.WEATHER_CONDITION.replace({'FOG/SMOKE/HAZE': 'FOG', 'CLOUDY/OVERCAST': 'CLOUDY'})"
   ]
  },
  {
   "cell_type": "code",
   "execution_count": 40,
   "metadata": {},
   "outputs": [
    {
     "data": {
      "text/plain": [
       "DAYLIGHT                  281881\n",
       "DARKNESS, LIGHTED ROAD     89659\n",
       "DARKNESS                   21635\n",
       "UNKNOWN                    15430\n",
       "DUSK                       13140\n",
       "DAWN                        7454\n",
       "Name: LIGHTING_CONDITION, dtype: int64"
      ]
     },
     "execution_count": 40,
     "metadata": {},
     "output_type": "execute_result"
    }
   ],
   "source": [
    "df.LIGHTING_CONDITION.value_counts()"
   ]
  },
  {
   "cell_type": "code",
   "execution_count": 41,
   "metadata": {},
   "outputs": [],
   "source": [
    "df.LIGHTING_CONDITION = df.LIGHTING_CONDITION.replace({'DUSK': 'DUSK/DAWN','DAWN': 'DUSK/DAWN' })"
   ]
  },
  {
   "cell_type": "code",
   "execution_count": 42,
   "metadata": {},
   "outputs": [
    {
     "data": {
      "text/plain": [
       "REAR END                        104390\n",
       "PARKED MOTOR VEHICLE             96638\n",
       "SIDESWIPE SAME DIRECTION         68054\n",
       "TURNING                          60159\n",
       "ANGLE                            45161\n",
       "FIXED OBJECT                     18841\n",
       "PEDESTRIAN                       10138\n",
       "SIDESWIPE OPPOSITE DIRECTION      6325\n",
       "PEDALCYCLIST                      6313\n",
       "OTHER OBJECT                      3930\n",
       "HEAD ON                           3619\n",
       "REAR TO FRONT                     1997\n",
       "OTHER NONCOLLISION                1433\n",
       "REAR TO SIDE                      1224\n",
       "REAR TO REAR                       456\n",
       "ANIMAL                             290\n",
       "OVERTURNED                         205\n",
       "TRAIN                               26\n",
       "Name: FIRST_CRASH_TYPE, dtype: int64"
      ]
     },
     "execution_count": 42,
     "metadata": {},
     "output_type": "execute_result"
    }
   ],
   "source": [
    "df.FIRST_CRASH_TYPE.value_counts()"
   ]
  },
  {
   "cell_type": "code",
   "execution_count": 43,
   "metadata": {},
   "outputs": [],
   "source": [
    "df.FIRST_CRASH_TYPE = df.FIRST_CRASH_TYPE.replace({'OTHER OBJECT':'OTHER','OTHER NONCOLLISION':'OTHER'})"
   ]
  },
  {
   "cell_type": "code",
   "execution_count": 44,
   "metadata": {},
   "outputs": [
    {
     "data": {
      "text/plain": [
       "NOT DIVIDED                        193084\n",
       "DIVIDED - W/MEDIAN (NOT RAISED)     77439\n",
       "ONE-WAY                             56940\n",
       "PARKING LOT                         30683\n",
       "DIVIDED - W/MEDIAN BARRIER          25878\n",
       "OTHER                               12410\n",
       "FOUR WAY                            10591\n",
       "ALLEY                                6910\n",
       "UNKNOWN                              4691\n",
       "CENTER TURN LANE                     3798\n",
       "T-INTERSECTION                       2262\n",
       "DRIVEWAY                             1498\n",
       "RAMP                                 1379\n",
       "UNKNOWN INTERSECTION TYPE             694\n",
       "Y-INTERSECTION                        272\n",
       "FIVE POINT, OR MORE                   272\n",
       "TRAFFIC ROUTE                         200\n",
       "NOT REPORTED                           90\n",
       "ROUNDABOUT                             69\n",
       "L-INTERSECTION                         39\n",
       "Name: TRAFFICWAY_TYPE, dtype: int64"
      ]
     },
     "execution_count": 44,
     "metadata": {},
     "output_type": "execute_result"
    }
   ],
   "source": [
    "df.TRAFFICWAY_TYPE.value_counts()"
   ]
  },
  {
   "cell_type": "code",
   "execution_count": 45,
   "metadata": {},
   "outputs": [],
   "source": [
    "df.TRAFFICWAY_TYPE = df.TRAFFICWAY_TYPE.replace({'T-INTERSECTION':'INTERSECTION', 'UNKNOWN INTERSECTION TYPE':'INTERSECTION',\n",
    "                                                'Y-INTERSECTION':'INTERSECTION','L-INTERSECTION':'INTERSECTION',\n",
    "                                                 'FIVE POINT, OR MORE': 'INTERSECTION', 'FOUR WAY':'INTERSECTION',\n",
    "                                                 'ROUNDABOUT': 'INTERSECTION', 'OTHER': 'UNKNOWN/OTHER',\n",
    "                                                'UNKNOWN':'UNKNOWN/OTHER','NOT REPORTED':'UNKNOWN/OTHER',\n",
    "                                                'TRAFFIC ROUTE':'UNKNOWN/OTHER'})"
   ]
  },
  {
   "cell_type": "code",
   "execution_count": 46,
   "metadata": {},
   "outputs": [
    {
     "data": {
      "text/plain": [
       "DRY                321879\n",
       "WET                 59685\n",
       "UNKNOWN             28139\n",
       "SNOW OR SLUSH       14906\n",
       "ICE                  3399\n",
       "OTHER                 993\n",
       "SAND, MUD, DIRT       198\n",
       "Name: ROADWAY_SURFACE_COND, dtype: int64"
      ]
     },
     "execution_count": 46,
     "metadata": {},
     "output_type": "execute_result"
    }
   ],
   "source": [
    "df.ROADWAY_SURFACE_COND.value_counts()"
   ]
  },
  {
   "cell_type": "code",
   "execution_count": 47,
   "metadata": {},
   "outputs": [],
   "source": [
    "df.ROADWAY_SURFACE_COND = df.ROADWAY_SURFACE_COND.replace({'UNKNOWN':'UNKNOWN/OTHER','OTHER':'UNKNOWN/OTHER',\n",
    "                                                          'SAND, MUD, DIRT': 'UNKNOWN/OTHER','ICE': 'SNOW OR SLUSH'})\n",
    "df.ROADWAY_SURFACE_COND = df.ROADWAY_SURFACE_COND.replace({'SNOW OR SLUSH': 'SNOW'})"
   ]
  },
  {
   "cell_type": "code",
   "execution_count": 48,
   "metadata": {},
   "outputs": [
    {
     "data": {
      "text/plain": [
       "NO DEFECTS           357644\n",
       "UNKNOWN               61774\n",
       "RUT, HOLES             4236\n",
       "OTHER                  2467\n",
       "WORN SURFACE           1756\n",
       "SHOULDER DEFECT         941\n",
       "DEBRIS ON ROADWAY       381\n",
       "Name: ROAD_DEFECT, dtype: int64"
      ]
     },
     "execution_count": 48,
     "metadata": {},
     "output_type": "execute_result"
    }
   ],
   "source": [
    "df.ROAD_DEFECT.value_counts()"
   ]
  },
  {
   "cell_type": "code",
   "execution_count": 49,
   "metadata": {},
   "outputs": [],
   "source": [
    "df.ROAD_DEFECT = df.ROAD_DEFECT.replace({'UNKNOWN':'UNKNOWN/OTHER','OTHER':'UNKNOWN/OTHER'})"
   ]
  },
  {
   "cell_type": "code",
   "execution_count": 52,
   "metadata": {},
   "outputs": [
    {
     "data": {
      "text/plain": [
       "OVER $1,500      244620\n",
       "$501 - $1,500    127905\n",
       "$500 OR LESS      56674\n",
       "Name: DAMAGE, dtype: int64"
      ]
     },
     "execution_count": 52,
     "metadata": {},
     "output_type": "execute_result"
    }
   ],
   "source": [
    "df.DAMAGE.value_counts()"
   ]
  },
  {
   "cell_type": "code",
   "execution_count": 53,
   "metadata": {},
   "outputs": [
    {
     "data": {
      "text/plain": [
       "UNABLE TO DETERMINE                                                                 156240\n",
       "FAILING TO YIELD RIGHT-OF-WAY                                                        48062\n",
       "FOLLOWING TOO CLOSELY                                                                46844\n",
       "NOT APPLICABLE                                                                       23052\n",
       "IMPROPER OVERTAKING/PASSING                                                          20673\n",
       "IMPROPER BACKING                                                                     19242\n",
       "FAILING TO REDUCE SPEED TO AVOID CRASH                                               18273\n",
       "IMPROPER LANE USAGE                                                                  17094\n",
       "IMPROPER TURNING/NO SIGNAL                                                           14485\n",
       "DRIVING SKILLS/KNOWLEDGE/EXPERIENCE                                                  13400\n",
       "DISREGARDING TRAFFIC SIGNALS                                                          7478\n",
       "WEATHER                                                                               6813\n",
       "OPERATING VEHICLE IN ERRATIC, RECKLESS, CARELESS, NEGLIGENT OR AGGRESSIVE MANNER      5204\n",
       "DISREGARDING STOP SIGN                                                                4659\n",
       "DISTRACTION - FROM INSIDE VEHICLE                                                     3136\n",
       "EQUIPMENT - VEHICLE CONDITION                                                         2567\n",
       "VISION OBSCURED (SIGNS, TREE LIMBS, BUILDINGS, ETC.)                                  2503\n",
       "PHYSICAL CONDITION OF DRIVER                                                          2464\n",
       "UNDER THE INFLUENCE OF ALCOHOL/DRUGS (USE WHEN ARREST IS EFFECTED)                    2267\n",
       "EXCEEDING AUTHORIZED SPEED LIMIT                                                      1971\n",
       "DRIVING ON WRONG SIDE/WRONG WAY                                                       1940\n",
       "DISTRACTION - FROM OUTSIDE VEHICLE                                                    1899\n",
       "EXCEEDING SAFE SPEED FOR CONDITIONS                                                   1681\n",
       "ROAD ENGINEERING/SURFACE/MARKING DEFECTS                                              1297\n",
       "ROAD CONSTRUCTION/MAINTENANCE                                                         1095\n",
       "DISREGARDING OTHER TRAFFIC SIGNS                                                       896\n",
       "EVASIVE ACTION DUE TO ANIMAL, OBJECT, NONMOTORIST                                      783\n",
       "DISREGARDING ROAD MARKINGS                                                             606\n",
       "CELL PHONE USE OTHER THAN TEXTING                                                      602\n",
       "HAD BEEN DRINKING (USE WHEN ARREST IS NOT MADE)                                        464\n",
       "ANIMAL                                                                                 365\n",
       "TURNING RIGHT ON RED                                                                   298\n",
       "DISTRACTION - OTHER ELECTRONIC DEVICE (NAVIGATION DEVICE, DVD PLAYER, ETC.)            208\n",
       "TEXTING                                                                                192\n",
       "DISREGARDING YIELD SIGN                                                                162\n",
       "RELATED TO BUS STOP                                                                    122\n",
       "BICYCLE ADVANCING LEGALLY ON RED LIGHT                                                  61\n",
       "PASSING STOPPED SCHOOL BUS                                                              58\n",
       "OBSTRUCTED CROSSWALKS                                                                   24\n",
       "MOTORCYCLE ADVANCING LEGALLY ON RED LIGHT                                               19\n",
       "Name: PRIM_CONTRIBUTORY_CAUSE, dtype: int64"
      ]
     },
     "execution_count": 53,
     "metadata": {},
     "output_type": "execute_result"
    }
   ],
   "source": [
    "df.PRIM_CONTRIBUTORY_CAUSE.value_counts()"
   ]
  },
  {
   "cell_type": "code",
   "execution_count": 54,
   "metadata": {},
   "outputs": [
    {
     "name": "stdout",
     "output_type": "stream",
     "text": [
      "<class 'pandas.core.frame.DataFrame'>\n",
      "Int64Index: 429199 entries, 0 to 430053\n",
      "Data columns (total 26 columns):\n",
      " #   Column                         Non-Null Count   Dtype         \n",
      "---  ------                         --------------   -----         \n",
      " 0   CRASH_DATE                     429199 non-null  datetime64[ns]\n",
      " 1   POSTED_SPEED_LIMIT             429199 non-null  int64         \n",
      " 2   TRAFFIC_CONTROL_DEVICE         429199 non-null  object        \n",
      " 3   DEVICE_CONDITION               429199 non-null  object        \n",
      " 4   WEATHER_CONDITION              429199 non-null  object        \n",
      " 5   LIGHTING_CONDITION             429199 non-null  object        \n",
      " 6   FIRST_CRASH_TYPE               429199 non-null  object        \n",
      " 7   TRAFFICWAY_TYPE                429199 non-null  object        \n",
      " 8   ROADWAY_SURFACE_COND           429199 non-null  object        \n",
      " 9   ROAD_DEFECT                    429199 non-null  object        \n",
      " 10  CRASH_TYPE                     429199 non-null  object        \n",
      " 11  DAMAGE                         429199 non-null  object        \n",
      " 12  PRIM_CONTRIBUTORY_CAUSE        429199 non-null  object        \n",
      " 13  SEC_CONTRIBUTORY_CAUSE         429199 non-null  object        \n",
      " 14  STREET_NAME                    429199 non-null  object        \n",
      " 15  NUM_UNITS                      429199 non-null  int64         \n",
      " 16  MOST_SEVERE_INJURY             429199 non-null  object        \n",
      " 17  INJURIES_TOTAL                 429199 non-null  float64       \n",
      " 18  INJURIES_FATAL                 429199 non-null  float64       \n",
      " 19  INJURIES_INCAPACITATING        429199 non-null  float64       \n",
      " 20  INJURIES_NON_INCAPACITATING    429199 non-null  float64       \n",
      " 21  INJURIES_REPORTED_NOT_EVIDENT  429199 non-null  float64       \n",
      " 22  INJURIES_NO_INDICATION         429199 non-null  float64       \n",
      " 23  CRASH_HOUR                     429199 non-null  int64         \n",
      " 24  CRASH_DAY_OF_WEEK              429199 non-null  int64         \n",
      " 25  CRASH_MONTH                    429199 non-null  int64         \n",
      "dtypes: datetime64[ns](1), float64(6), int64(5), object(14)\n",
      "memory usage: 88.4+ MB\n"
     ]
    }
   ],
   "source": [
    "df.info()"
   ]
  },
  {
   "cell_type": "code",
   "execution_count": 59,
   "metadata": {
    "scrolled": true
   },
   "outputs": [
    {
     "data": {
      "text/plain": [
       "WESTERN AVE                    11682\n",
       "PULASKI RD                     10212\n",
       "CICERO AVE                      9339\n",
       "ASHLAND AVE                     9251\n",
       "HALSTED ST                      8180\n",
       "KEDZIE AVE                      7213\n",
       "MICHIGAN AVE                    5888\n",
       "STATE ST                        5228\n",
       "NORTH AVE                       5073\n",
       "CLARK ST                        5036\n",
       "GRAND AVE                       4495\n",
       "CALIFORNIA AVE                  4439\n",
       "STONY ISLAND AVE                4324\n",
       "DAMEN AVE                       4279\n",
       "IRVING PARK RD                  4278\n",
       "CENTRAL AVE                     4207\n",
       "ARCHER AVE                      4174\n",
       "BELMONT AVE                     4070\n",
       "FULLERTON AVE                   3980\n",
       "87TH ST                         3969\n",
       "CHICAGO AVE                     3865\n",
       "MADISON ST                      3846\n",
       "63RD ST                         3798\n",
       "ROOSEVELT RD                    3602\n",
       "COTTAGE GROVE AVE               3474\n",
       "MILWAUKEE AVE                   3411\n",
       "ADDISON ST                      3306\n",
       "DR MARTIN LUTHER KING JR DR     3293\n",
       "79TH ST                         3239\n",
       "DIVISION ST                     3175\n",
       "LAKE SHORE DR NB                3120\n",
       "LAKE SHORE DR SB                3008\n",
       "SHERIDAN RD                     2933\n",
       "95TH ST                         2817\n",
       "47TH ST                         2814\n",
       "DEVON AVE                       2759\n",
       "CERMAK RD                       2729\n",
       "LAKE SHORE DR                   2654\n",
       "LAWRENCE AVE                    2635\n",
       "LAKE ST                         2585\n",
       "FOSTER AVE                      2567\n",
       "DIVERSEY AVE                    2497\n",
       "OGDEN AVE                       2436\n",
       "LARAMIE AVE                     2385\n",
       "HARLEM AVE                      2362\n",
       "MONTROSE AVE                    2291\n",
       "BROADWAY                        2258\n",
       "71ST ST                         2239\n",
       "LINCOLN AVE                     2217\n",
       "KOSTNER AVE                     2199\n",
       "Name: STREET_NAME, dtype: int64"
      ]
     },
     "execution_count": 59,
     "metadata": {},
     "output_type": "execute_result"
    }
   ],
   "source": [
    "df.STREET_NAME.value_counts().head(50)"
   ]
  },
  {
   "cell_type": "code",
   "execution_count": 60,
   "metadata": {},
   "outputs": [
    {
     "data": {
      "text/plain": [
       "NO INDICATION OF INJURY     375066\n",
       "NONINCAPACITATING INJURY     29786\n",
       "REPORTED, NOT EVIDENT        17093\n",
       "INCAPACITATING INJURY         6864\n",
       "FATAL                          390\n",
       "Name: MOST_SEVERE_INJURY, dtype: int64"
      ]
     },
     "execution_count": 60,
     "metadata": {},
     "output_type": "execute_result"
    }
   ],
   "source": [
    "df.MOST_SEVERE_INJURY.value_counts()"
   ]
  },
  {
   "cell_type": "code",
   "execution_count": null,
   "metadata": {},
   "outputs": [],
   "source": []
  }
 ],
 "metadata": {
  "kernelspec": {
   "display_name": "Python 3",
   "language": "python",
   "name": "python3"
  },
  "language_info": {
   "codemirror_mode": {
    "name": "ipython",
    "version": 3
   },
   "file_extension": ".py",
   "mimetype": "text/x-python",
   "name": "python",
   "nbconvert_exporter": "python",
   "pygments_lexer": "ipython3",
   "version": "3.7.6"
  }
 },
 "nbformat": 4,
 "nbformat_minor": 4
}
